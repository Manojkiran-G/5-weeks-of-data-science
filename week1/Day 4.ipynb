{
 "cells": [
  {
   "cell_type": "markdown",
   "id": "ac9fedb2-0be3-48c0-b09e-84cd983a0bbc",
   "metadata": {},
   "source": [
    "       -----------WEEK 1 - Day 4-----------\n",
    "                      - Manojkiran G"
   ]
  },
  {
   "cell_type": "markdown",
   "id": "a96d7da1-fc38-4c2c-940a-13ac9863077b",
   "metadata": {},
   "source": [
    "## NumPy"
   ]
  },
  {
   "cell_type": "markdown",
   "id": "310c468d-7504-49e6-80c3-ff7db08b6467",
   "metadata": {},
   "source": [
    "- NumPy, short for \"Numerical Python,\" is a powerful library in Python that provides support for large, multi-dimensional arrays and matrices, along with a collection of mathematical functions to operate on these arrays. \n",
    "- It is a fundamental tool for numerical and scientific computing in Python, offering efficient data structures for handling numerical operations and providing a foundation for many other scientific libraries and applications.\n",
    "- In data science, NumPy is a fundamental library that plays a crucial role due to its array-based computing and mathematical functions."
   ]
  },
  {
   "cell_type": "markdown",
   "id": "ba3dc928-8f89-4d88-84cd-c2a98dd96ef0",
   "metadata": {
    "tags": []
   },
   "source": [
    "#### Import NumPy"
   ]
  },
  {
   "cell_type": "code",
   "execution_count": 34,
   "id": "46b086ca-5207-461a-b519-62dfd52e3ee4",
   "metadata": {
    "tags": []
   },
   "outputs": [],
   "source": [
    "import numpy as np"
   ]
  },
  {
   "cell_type": "markdown",
   "id": "a4a71bb3-9b62-4594-9928-3f28b66a434d",
   "metadata": {},
   "source": [
    "#### Creating NumPy Arrays"
   ]
  },
  {
   "cell_type": "code",
   "execution_count": 35,
   "id": "c479e94a-090f-4d03-bcc3-8467a9017d7c",
   "metadata": {
    "tags": []
   },
   "outputs": [
    {
     "name": "stdout",
     "output_type": "stream",
     "text": [
      "1D Array:\n",
      "[1 2 3 4 5]\n"
     ]
    }
   ],
   "source": [
    "# Creating a 1D array\n",
    "my_array = np.array([1, 2, 3, 4, 5])\n",
    "\n",
    "print(\"1D Array:\")\n",
    "print(my_array)"
   ]
  },
  {
   "cell_type": "code",
   "execution_count": 36,
   "id": "ab9aa378-aeb7-474c-b8b5-bd670f07acdd",
   "metadata": {
    "tags": []
   },
   "outputs": [
    {
     "name": "stdout",
     "output_type": "stream",
     "text": [
      "2D Array:\n",
      "[[1 2 3]\n",
      " [4 5 6]\n",
      " [7 8 9]]\n"
     ]
    }
   ],
   "source": [
    "# Creating a 2D array\n",
    "my_2d_array = np.array([[1, 2, 3], [4, 5, 6], [7, 8, 9]])\n",
    "\n",
    "print(\"2D Array:\")\n",
    "print(my_2d_array)"
   ]
  },
  {
   "cell_type": "code",
   "execution_count": 37,
   "id": "a331c435-f191-43a3-b86b-35c08ec91c5a",
   "metadata": {
    "tags": []
   },
   "outputs": [
    {
     "name": "stdout",
     "output_type": "stream",
     "text": [
      "3D Array:\n",
      "[[[ 1  2  3]\n",
      "  [ 4  5  6]]\n",
      "\n",
      " [[ 7  8  9]\n",
      "  [10 11 12]]]\n"
     ]
    }
   ],
   "source": [
    "# Creating a 3D array\n",
    "my_3d_array = np.array([[[1, 2, 3], [4, 5, 6]], [[7, 8, 9], [10, 11, 12]]])\n",
    "\n",
    "print(\"3D Array:\")\n",
    "print(my_3d_array)"
   ]
  },
  {
   "cell_type": "markdown",
   "id": "fa89dcb9-8ebc-4ddf-94f5-3758dc70f1b6",
   "metadata": {},
   "source": [
    "#### Array Dimension ,Shapes and Size\n",
    "\n",
    "- Using the ndim , shape and size attributes the dimension , shape and size of an array could be obtained"
   ]
  },
  {
   "cell_type": "code",
   "execution_count": 38,
   "id": "100cf831-6ad8-46ab-8b57-e2e2b5da44ba",
   "metadata": {
    "tags": []
   },
   "outputs": [
    {
     "name": "stdout",
     "output_type": "stream",
     "text": [
      "Array 1D:\n",
      "Dimensions: 1\n",
      "Shape: (5,)\n",
      "Size: 5\n",
      "\n",
      "Array 2D:\n",
      "Dimensions: 2\n",
      "Shape: (2, 3)\n",
      "Size: 6\n",
      "\n",
      "Array 3D:\n",
      "Dimensions: 3\n",
      "Shape: (2, 2, 2)\n",
      "Size: 8\n"
     ]
    }
   ],
   "source": [
    "# Creating arrays of different dimensions\n",
    "array_1d = np.array([1, 2, 3, 4, 5])\n",
    "array_2d = np.array([[1, 2, 3], [4, 5, 6]])\n",
    "array_3d = np.array([[[1, 2], [3, 4]], [[5, 6], [7, 8]]])\n",
    "\n",
    "# Checking dimensions,shape and size\n",
    "print(\"Array 1D:\")\n",
    "print(\"Dimensions:\", array_1d.ndim)\n",
    "print(\"Shape:\", array_1d.shape)\n",
    "print(\"Size:\",array_1d.size)\n",
    "\n",
    "print(\"\\nArray 2D:\")\n",
    "print(\"Dimensions:\", array_2d.ndim)\n",
    "print(\"Shape:\", array_2d.shape)\n",
    "print(\"Size:\",array_2d.size)\n",
    "\n",
    "print(\"\\nArray 3D:\")\n",
    "print(\"Dimensions:\", array_3d.ndim)\n",
    "print(\"Shape:\", array_3d.shape)\n",
    "print(\"Size:\",array_3d.size)"
   ]
  },
  {
   "cell_type": "markdown",
   "id": "7ce087f3-e11a-4d50-8b00-269fa54b7ec4",
   "metadata": {},
   "source": [
    "#### Indexing "
   ]
  },
  {
   "cell_type": "code",
   "execution_count": 39,
   "id": "b1329e8b-5840-4b11-a249-66c4eefee7f2",
   "metadata": {
    "tags": []
   },
   "outputs": [
    {
     "name": "stdout",
     "output_type": "stream",
     "text": [
      "Element at position (2, 1): 4\n"
     ]
    }
   ],
   "source": [
    "my_array = np.array([[1, 2, 3], [4, 5, 6]])\n",
    "\n",
    "# Accessing elements using indexing\n",
    "element_2_1 = my_2d_array[1, 0]\n",
    "\n",
    "print(\"Element at position (2, 1):\", element_2_1)"
   ]
  },
  {
   "cell_type": "markdown",
   "id": "e3e50933-86a0-4143-87c1-ae166d32cb92",
   "metadata": {},
   "source": [
    "#### Slicing\n",
    "- Array slicing in NumPy allows you to create views on the original array by extracting a portion of it. "
   ]
  },
  {
   "cell_type": "code",
   "execution_count": 40,
   "id": "6b1bbeff-3f31-4798-a476-365306375463",
   "metadata": {
    "tags": []
   },
   "outputs": [
    {
     "name": "stdout",
     "output_type": "stream",
     "text": [
      "Original Array: [10 20 30 40 50]\n",
      "Sliced Array: [20 30 40]\n"
     ]
    }
   ],
   "source": [
    "my_array = np.array([10, 20, 30, 40, 50])\n",
    "\n",
    "# Slicing the array\n",
    "sliced_array = my_array[1:4]  # Elements from index 1 to 3\n",
    "\n",
    "print(\"Original Array:\", my_array)\n",
    "print(\"Sliced Array:\", sliced_array)"
   ]
  },
  {
   "cell_type": "code",
   "execution_count": 41,
   "id": "8c0eabb8-e63e-4d45-8a09-ff93766f9304",
   "metadata": {
    "tags": []
   },
   "outputs": [
    {
     "name": "stdout",
     "output_type": "stream",
     "text": [
      "Original 2D Array: [[1 2 3]\n",
      " [4 5 6]\n",
      " [7 8 9]]\n",
      "\n",
      "Sliced 2D Array: [[2 3]\n",
      " [5 6]]\n"
     ]
    }
   ],
   "source": [
    "my_2d_array = np.array([[1, 2, 3], [4, 5, 6], [7, 8, 9]])\n",
    "\n",
    "# Slicing the 2D array\n",
    "sliced_2d_array = my_2d_array[0:2, 1:3]  # Rows 0 to 1, Columns 1 to 2\n",
    "\n",
    "print(\"Original 2D Array:\",my_2d_array)\n",
    "print(\"\\nSliced 2D Array:\",sliced_2d_array)"
   ]
  },
  {
   "cell_type": "markdown",
   "id": "5ab1054b-c5c0-4e5e-bd95-1a1e8a0fcaff",
   "metadata": {},
   "source": [
    "#### Element-wise Operations"
   ]
  },
  {
   "cell_type": "markdown",
   "id": "dbfac376-2f95-43d1-ae9c-36bd8a21ffd2",
   "metadata": {},
   "source": [
    "**1d array**"
   ]
  },
  {
   "cell_type": "code",
   "execution_count": 42,
   "id": "478b441d-4282-4be6-942c-543a55d53f1d",
   "metadata": {
    "tags": []
   },
   "outputs": [
    {
     "name": "stdout",
     "output_type": "stream",
     "text": [
      "Element-wise Addition: [11 22 33 44 55]\n",
      "Element-wise Multiplication: [ 10  40  90 160 250]\n"
     ]
    }
   ],
   "source": [
    "array1 = np.array([1, 2, 3, 4, 5])\n",
    "array2 = np.array([10, 20, 30, 40, 50])\n",
    "\n",
    "# Element-wise addition\n",
    "result_addition = array1 + array2\n",
    "\n",
    "# Element-wise multiplication\n",
    "result_multiplication = array1 * array2\n",
    "\n",
    "print(\"Element-wise Addition:\", result_addition)\n",
    "print(\"Element-wise Multiplication:\", result_multiplication)"
   ]
  },
  {
   "cell_type": "markdown",
   "id": "318b4eca-cf55-4b7a-a5ca-11082383ec74",
   "metadata": {
    "tags": []
   },
   "source": [
    "**2d array**"
   ]
  },
  {
   "cell_type": "code",
   "execution_count": 44,
   "id": "6666a35d-bf34-4c6a-bec6-c2c6012375a5",
   "metadata": {
    "tags": []
   },
   "outputs": [
    {
     "name": "stdout",
     "output_type": "stream",
     "text": [
      "\n",
      "Element-wise Multiplication: [[10  3]\n",
      " [ 2  8]]\n",
      "\n",
      "Matrix Multiplication: [[16  8]\n",
      " [13  9]]\n"
     ]
    }
   ],
   "source": [
    "matrix1 = np.array([[2, 3], [1, 4]])\n",
    "matrix2 = np.array([[5, 1], [2, 2]])\n",
    "\n",
    "# Element-wise multiplication\n",
    "elementwise_result = matrix1 * matrix2\n",
    "\n",
    "# Matrix multiplication\n",
    "matrix_result = np.dot(matrix1, matrix2)\n",
    "\n",
    "print(\"\\nElement-wise Multiplication:\",elementwise_result)\n",
    "\n",
    "print(\"\\nMatrix Multiplication:\",matrix_result)"
   ]
  },
  {
   "cell_type": "markdown",
   "id": "7a9727ed-8079-46ff-bbc5-08accb294948",
   "metadata": {},
   "source": [
    "#### Append and Delete\n",
    "\n",
    "- In NumPy,np.append is used to add elements to an array, and np.delete to remove elements."
   ]
  },
  {
   "cell_type": "markdown",
   "id": "72d23c73-40f3-40e8-84b8-a9e80c936a75",
   "metadata": {},
   "source": [
    "**1d array**"
   ]
  },
  {
   "cell_type": "code",
   "execution_count": 45,
   "id": "288b4ece-4593-4789-b3c0-5ea4bd40897f",
   "metadata": {
    "tags": []
   },
   "outputs": [
    {
     "name": "stdout",
     "output_type": "stream",
     "text": [
      "Appended Array: [10 20 30 40 50 60]\n"
     ]
    }
   ],
   "source": [
    "original_array = np.array([10, 20, 30, 40, 50])\n",
    "\n",
    "appended_array = np.append(original_array, 60)\n",
    "\n",
    "print(\"Appended Array:\", appended_array)"
   ]
  },
  {
   "cell_type": "code",
   "execution_count": 46,
   "id": "3653adc8-435a-4c21-bdd9-45914909b92e",
   "metadata": {
    "tags": []
   },
   "outputs": [
    {
     "name": "stdout",
     "output_type": "stream",
     "text": [
      "\n",
      "Array after Deletion: [10 30 40 50]\n"
     ]
    }
   ],
   "source": [
    "original_array = np.array([10, 20, 30, 40, 50])\n",
    "\n",
    "deleted_array = np.delete(original_array, 1)  #Remove the item at index 1 (value 20)\n",
    "\n",
    "print(\"\\nArray after Deletion:\",deleted_array)"
   ]
  },
  {
   "cell_type": "markdown",
   "id": "5eb06181-5bae-4d79-b795-9a241cff8216",
   "metadata": {},
   "source": [
    "**2d array**"
   ]
  },
  {
   "cell_type": "code",
   "execution_count": 47,
   "id": "babb1e7b-7da2-46ff-9a5a-5419d9366d37",
   "metadata": {
    "tags": []
   },
   "outputs": [
    {
     "name": "stdout",
     "output_type": "stream",
     "text": [
      "\n",
      "Appended Array: [[1 2 3]\n",
      " [4 5 6]\n",
      " [7 8 9]]\n",
      "\n",
      "Array after deleting a row: [[1 2 3]\n",
      " [7 8 9]]\n"
     ]
    }
   ],
   "source": [
    "original_array = np.array([[1, 2, 3], [4, 5, 6]])\n",
    "\n",
    "new_row = np.array([[7, 8, 9]])\n",
    "appended_array = np.append(original_array, new_row, axis=0)\n",
    "\n",
    "deleted_row_array = np.delete(appended_array, 1, axis=0)\n",
    "\n",
    "print(\"\\nAppended Array:\",appended_array)\n",
    "\n",
    "print(\"\\nArray after deleting a row:\",deleted_row_array)"
   ]
  },
  {
   "cell_type": "markdown",
   "id": "5d8c1273-9365-4900-9e6a-c653e1068124",
   "metadata": {},
   "source": [
    "#### Aggregation Functions and Universal Functions\n",
    "\n",
    "- NumPy provides various aggregation functions (also known as reduction functions) and universal functions (ufuncs) for performing operations on arrays."
   ]
  },
  {
   "cell_type": "code",
   "execution_count": 48,
   "id": "c4dfe3ff-a823-4156-88c6-67bb68f80836",
   "metadata": {
    "tags": []
   },
   "outputs": [
    {
     "name": "stdout",
     "output_type": "stream",
     "text": [
      "Sum: 45\n",
      "Mean: 9.0\n",
      "Minimum: 5\n",
      "Maximum: 15\n"
     ]
    }
   ],
   "source": [
    "my_array = np.array([10, 5, 8, 15, 7])\n",
    "\n",
    "# Aggregation Functions\n",
    "print(\"Sum:\", np.sum(my_array))\n",
    "print(\"Mean:\", np.mean(my_array))\n",
    "print(\"Minimum:\", np.min(my_array))\n",
    "print(\"Maximum:\", np.max(my_array))"
   ]
  },
  {
   "cell_type": "code",
   "execution_count": 49,
   "id": "d3e2c9f2-8931-443d-91a5-e3976921a873",
   "metadata": {
    "tags": []
   },
   "outputs": [
    {
     "name": "stdout",
     "output_type": "stream",
     "text": [
      "\n",
      "Square Root: [3.16227766 2.23606798 2.82842712 3.87298335 2.64575131]\n",
      "Exponential (e^x): [2.20264658e+04 1.48413159e+02 2.98095799e+03 3.26901737e+06\n",
      " 1.09663316e+03]\n",
      "Element-wise Sine: [-0.54402111 -0.95892427  0.98935825  0.65028784  0.6569866 ]\n"
     ]
    }
   ],
   "source": [
    "# Universal Functions (ufuncs)\n",
    "print(\"\\nSquare Root:\", np.sqrt(my_array))\n",
    "print(\"Exponential (e^x):\", np.exp(my_array))\n",
    "print(\"Element-wise Sine:\", np.sin(my_array))"
   ]
  },
  {
   "cell_type": "markdown",
   "id": "5be45316-268c-4222-a48e-8bfc052cfce2",
   "metadata": {},
   "source": [
    "#### Reshaping arrays \n",
    "\n",
    "- Reshaping arrays in NumPy involves changing the shape (dimensions) of the array while preserving the total number of elements. \n",
    "- .reshape function is used to reshape the arrays"
   ]
  },
  {
   "cell_type": "code",
   "execution_count": 50,
   "id": "051c6c50-68eb-4016-9f12-5fce54837761",
   "metadata": {
    "tags": []
   },
   "outputs": [
    {
     "name": "stdout",
     "output_type": "stream",
     "text": [
      "Original Array: [1 2 3 4 5 6]\n",
      "\n",
      "Reshaped 2D Array: [[1 2 3]\n",
      " [4 5 6]]\n"
     ]
    }
   ],
   "source": [
    "original_array = np.array([1, 2, 3, 4, 5, 6])\n",
    "\n",
    "# Reshaping to a 2D array (2 rows, 3 columns)\n",
    "reshaped_array_2d = original_array.reshape(2, 3)\n",
    "\n",
    "print(\"Original Array:\",original_array)\n",
    "\n",
    "print(\"\\nReshaped 2D Array:\",reshaped_array_2d)"
   ]
  },
  {
   "cell_type": "markdown",
   "id": "1b27ed5c-0ecc-4157-beee-0596162fb493",
   "metadata": {},
   "source": [
    "#### Combining Arrays\n",
    "\n",
    "- NumPy provides functions such as np.concatenate to combine arrays"
   ]
  },
  {
   "cell_type": "code",
   "execution_count": 51,
   "id": "ffc310f8-8a3e-4810-a440-635173c4bbc1",
   "metadata": {
    "tags": []
   },
   "outputs": [
    {
     "name": "stdout",
     "output_type": "stream",
     "text": [
      "\n",
      "Combined Array: [1 2 3 4 5 6]\n"
     ]
    }
   ],
   "source": [
    "array1 = np.array([1, 2, 3])\n",
    "array2 = np.array([4, 5, 6])\n",
    "\n",
    "combined_array = np.concatenate((array1, array2), axis=0)\n",
    "\n",
    "print(\"\\nCombined Array:\", combined_array)"
   ]
  },
  {
   "cell_type": "markdown",
   "id": "a6200b78-6f9a-4898-b87d-6bfbca67c6f5",
   "metadata": {},
   "source": [
    "- NumPy provides several functions for combining arrays, and one of them is np.vstack for vertical stacking and np.hstack for horizontal stacking. "
   ]
  },
  {
   "cell_type": "code",
   "execution_count": 52,
   "id": "bb2470fb-083b-43f8-b786-ea89647713a3",
   "metadata": {
    "tags": []
   },
   "outputs": [
    {
     "name": "stdout",
     "output_type": "stream",
     "text": [
      "\n",
      "Vertical Stack: [[10 20 30]\n",
      " [40 50 60]]\n",
      "\n",
      "Horizontal Stack: [10 20 30 40 50 60]\n"
     ]
    }
   ],
   "source": [
    "array1 = np.array([10, 20, 30])\n",
    "array2 = np.array([40, 50, 60])\n",
    "\n",
    "# Vertical stacking (combining along rows)\n",
    "vertical_stack = np.vstack((array1, array2))\n",
    "\n",
    "# Horizontal stacking (combining along columns)\n",
    "horizontal_stack = np.hstack((array1, array2))\n",
    "\n",
    "print(\"\\nVertical Stack:\",vertical_stack)\n",
    "\n",
    "print(\"\\nHorizontal Stack:\",horizontal_stack)"
   ]
  },
  {
   "cell_type": "markdown",
   "id": "ce865499-6679-4fbd-a5a9-4b3fd803ec1d",
   "metadata": {},
   "source": [
    "#### Splitting Arrays\n",
    "\n",
    "- NumPy provides functions for splitting arrays, such as np.split for equal division along a specified axis. "
   ]
  },
  {
   "cell_type": "code",
   "execution_count": 53,
   "id": "8bb50960-b8f8-4ce9-8d9d-f883316680a9",
   "metadata": {
    "tags": []
   },
   "outputs": [
    {
     "data": {
      "text/plain": [
       "[array([100, 200]), array([300, 400]), array([500, 600]), array([700, 800])]"
      ]
     },
     "execution_count": 53,
     "metadata": {},
     "output_type": "execute_result"
    }
   ],
   "source": [
    "arr = np.array([100, 200, 300, 400, 500, 600,700,800])\n",
    "\n",
    "# Split into 4 equal parts\n",
    "split_arr = np.split(arr, 4)\n",
    "split_arr"
   ]
  },
  {
   "cell_type": "markdown",
   "id": "efcd4a48-1f1b-4ed5-a477-7d12f8e7c31a",
   "metadata": {},
   "source": [
    "#### Sorting Numpy Arrays\n",
    "\n",
    "- NumPy provides the np.sort function for sorting arrays"
   ]
  },
  {
   "cell_type": "code",
   "execution_count": 54,
   "id": "7957a717-b806-4c57-b1da-a467a1b18d48",
   "metadata": {
    "tags": []
   },
   "outputs": [
    {
     "name": "stdout",
     "output_type": "stream",
     "text": [
      "\n",
      "Sorted Array:\n",
      "[1 2 4 5 7 9]\n"
     ]
    }
   ],
   "source": [
    "original_array = np.array([4, 2, 7, 1, 9, 5])\n",
    "\n",
    "# Sorting the array\n",
    "sorted_array = np.sort(original_array)\n",
    "\n",
    "print(\"\\nSorted Array:\")\n",
    "print(sorted_array)"
   ]
  }
 ],
 "metadata": {
  "kernelspec": {
   "display_name": "Python 3 (ipykernel)",
   "language": "python",
   "name": "python3"
  },
  "language_info": {
   "codemirror_mode": {
    "name": "ipython",
    "version": 3
   },
   "file_extension": ".py",
   "mimetype": "text/x-python",
   "name": "python",
   "nbconvert_exporter": "python",
   "pygments_lexer": "ipython3",
   "version": "3.11.4"
  }
 },
 "nbformat": 4,
 "nbformat_minor": 5
}
