{
 "cells": [
  {
   "cell_type": "markdown",
   "id": "14809e82-e949-42bb-b8a0-661e5327a971",
   "metadata": {},
   "source": [
    "      -----------WEEK 1 - Day 5-----------\n",
    "                    - Manojkiran G"
   ]
  },
  {
   "cell_type": "markdown",
   "id": "738a5ed2-b9b4-43e8-8114-881c4016a3d2",
   "metadata": {},
   "source": [
    "## NumPy Continuation"
   ]
  },
  {
   "cell_type": "code",
   "execution_count": 1,
   "id": "831b290b-76dc-41c2-be23-b12f19ae58ab",
   "metadata": {
    "tags": []
   },
   "outputs": [],
   "source": [
    "import numpy as np"
   ]
  },
  {
   "cell_type": "markdown",
   "id": "8a14eabd-4b10-4593-9167-904ff11bfaa2",
   "metadata": {},
   "source": [
    "**Filter in NumPy**"
   ]
  },
  {
   "cell_type": "code",
   "execution_count": 2,
   "id": "f4705d5a-050f-47e4-a1b8-92b6d976a91d",
   "metadata": {},
   "outputs": [
    {
     "name": "stdout",
     "output_type": "stream",
     "text": [
      "[41 40 43]\n"
     ]
    }
   ],
   "source": [
    "arr = np.array([41, 40, 42, 43, 44])\n",
    "\n",
    "x = [True, True, False, True, False]\n",
    "\n",
    "newarr = arr[x]\n",
    "\n",
    "print(newarr)"
   ]
  },
  {
   "cell_type": "markdown",
   "id": "3445f537-f3dc-450d-aa51-833a6fbde052",
   "metadata": {},
   "source": [
    "**Identify Missing Values**\n",
    "\n",
    "- NumPy provides a function called numpy.isnan() to identify missing (NaN) values in arrays. "
   ]
  },
  {
   "cell_type": "code",
   "execution_count": 3,
   "id": "93756da6-8714-41a8-8db8-e3682a635613",
   "metadata": {
    "tags": []
   },
   "outputs": [
    {
     "name": "stdout",
     "output_type": "stream",
     "text": [
      "Original Array: [ 1. nan  3.  4.  5. nan  7.]\n",
      "\n",
      "Missing Values: [False  True False False False  True False]\n"
     ]
    }
   ],
   "source": [
    "array_with_nan = np.array([1.0, np.nan, 3.0, 4.0, 5.0, np.nan, 7.0])\n",
    "\n",
    "# Identifying missing values\n",
    "missing_values = np.isnan(array_with_nan)\n",
    "\n",
    "print(\"Original Array:\",array_with_nan)\n",
    "\n",
    "print(\"\\nMissing Values:\",missing_values)"
   ]
  },
  {
   "cell_type": "markdown",
   "id": "39300cd7-40d8-4a48-b015-340468316cfd",
   "metadata": {},
   "source": [
    "**Removing rows or columns with Missing Values**\n",
    "\n",
    "- Using boolean indexing to filter out rows or columns containing missing values."
   ]
  },
  {
   "cell_type": "code",
   "execution_count": 4,
   "id": "06806898-6271-48fd-bf9e-846bfb2e6314",
   "metadata": {
    "tags": []
   },
   "outputs": [
    {
     "name": "stdout",
     "output_type": "stream",
     "text": [
      "Original Array with NaN: [[ 1.  2. nan]\n",
      " [ 4.  5.  6.]\n",
      " [ 7. nan  9.]]\n",
      "\n",
      "Array after removing rows with NaN: [[1.]\n",
      " [4.]\n",
      " [7.]]\n"
     ]
    }
   ],
   "source": [
    "array_with_nan = np.array([[1, 2, np.nan],\n",
    "                           [4, 5, 6],\n",
    "                           [7, np.nan, 9]])\n",
    "\n",
    "# Removing columns with missing values\n",
    "cleaned_array = array_with_nan[:, ~np.any(np.isnan(array_with_nan), axis=0)]\n",
    "\n",
    "print(\"Original Array with NaN:\",array_with_nan)\n",
    "\n",
    "print(\"\\nArray after removing rows with NaN:\",cleaned_array)"
   ]
  },
  {
   "cell_type": "markdown",
   "id": "d074f091-c314-406d-b113-860824724c82",
   "metadata": {},
   "source": [
    "#### Data Transformation \n",
    "\n",
    "Data transformation in NumPy typically involves applying various mathematical operations or functions to the elements of an array to achieve a specific goal. "
   ]
  },
  {
   "cell_type": "code",
   "execution_count": 5,
   "id": "738a517a-938f-44fc-8b60-fcf69bb87705",
   "metadata": {
    "tags": []
   },
   "outputs": [
    {
     "name": "stdout",
     "output_type": "stream",
     "text": [
      "Original Array: [1 2 3 4 5]\n",
      "\n",
      "Standardized Array: [-1.41421356 -0.70710678  0.          0.70710678  1.41421356]\n",
      "\n",
      "Log-Transformed Array: [0.         0.69314718 1.09861229 1.38629436 1.60943791]\n"
     ]
    }
   ],
   "source": [
    "original_array = np.array([1, 2, 3, 4, 5])\n",
    "\n",
    "# Standardization (Z-score normalization)\n",
    "mean_value = np.mean(original_array)\n",
    "std_deviation = np.std(original_array)\n",
    "standardized_array = (original_array - mean_value) / std_deviation\n",
    "\n",
    "# Logarithmic transformation\n",
    "log_transformed_array = np.log(original_array)\n",
    "\n",
    "print(\"Original Array:\",original_array)\n",
    "\n",
    "print(\"\\nStandardized Array:\",standardized_array)\n",
    "\n",
    "print(\"\\nLog-Transformed Array:\",log_transformed_array)"
   ]
  },
  {
   "cell_type": "markdown",
   "id": "2558545d-ea56-4ce2-8348-3f20ca0ff84a",
   "metadata": {
    "tags": []
   },
   "source": [
    "#### Searching\n",
    "\n",
    "- Searching is an operation or a technique that helps finds the place of a given element or value in the list.\n",
    "- Any search is said to be successful or unsuccessful depending upon whether the element that is being searched is found or not."
   ]
  },
  {
   "cell_type": "markdown",
   "id": "0e69303b-277a-4446-afd4-f07449a806f7",
   "metadata": {},
   "source": [
    "- **numpy.argmax() :**\n",
    "\n",
    "This function returns indices of the max element of the array in a particular axis."
   ]
  },
  {
   "cell_type": "code",
   "execution_count": 6,
   "id": "739ec277-c9e3-46cf-813e-27f8e972c98d",
   "metadata": {
    "tags": []
   },
   "outputs": [
    {
     "name": "stdout",
     "output_type": "stream",
     "text": [
      "\n",
      "Max element :  8\n"
     ]
    }
   ],
   "source": [
    "arr = np.arange(9).reshape(3, 3)\n",
    "print(\"\\nMax element : \", np.argmax(arr))"
   ]
  },
  {
   "cell_type": "markdown",
   "id": "edf8d523-adc3-470c-afa0-aae95f6fe0da",
   "metadata": {},
   "source": [
    "- **numpy.nanargmax() :**\n",
    "\n",
    "This function returns indices of the max element of the array in a particular axis ignoring NaNs.\n",
    "\n",
    "The results cannot be trusted if a slice contains only NaNs and Infs."
   ]
  },
  {
   "cell_type": "code",
   "execution_count": 7,
   "id": "60b7807e-3906-4a9e-837e-3ef885776f5f",
   "metadata": {
    "tags": []
   },
   "outputs": [
    {
     "name": "stdout",
     "output_type": "stream",
     "text": [
      "3\n",
      "[1 1]\n"
     ]
    }
   ],
   "source": [
    "arr2 = np.array([[np.nan, 5], [1, 7]])\n",
    "print((np.nanargmax(arr2)))\n",
    " \n",
    "print(( np.nanargmax(arr2, axis = 1)))"
   ]
  },
  {
   "cell_type": "markdown",
   "id": "52497c7f-cb1c-4c56-9e42-5916ca2fabeb",
   "metadata": {},
   "source": [
    "- **numpy.argmin() :**\n",
    "\n",
    "This function returns the indices of the minimum values along an axis."
   ]
  },
  {
   "cell_type": "code",
   "execution_count": 8,
   "id": "467d292b-3665-412a-8850-5a4c47ac6e05",
   "metadata": {
    "tags": []
   },
   "outputs": [
    {
     "name": "stdout",
     "output_type": "stream",
     "text": [
      "0\n"
     ]
    }
   ],
   "source": [
    "array = np.arange(10)\n",
    "\n",
    "print(np.argmin(array, axis=0))"
   ]
  },
  {
   "cell_type": "markdown",
   "id": "6b66968d-c4c4-49ac-9bcf-19c714381bf7",
   "metadata": {
    "tags": []
   },
   "source": [
    "#### Counting"
   ]
  },
  {
   "cell_type": "markdown",
   "id": "9a55f951-86cb-41d8-b0af-ad6f2c84cafc",
   "metadata": {},
   "source": [
    "- **numpy.count_nonzero() :**\n",
    "\n",
    "Counts the number of non-zero values in the array."
   ]
  },
  {
   "cell_type": "code",
   "execution_count": 9,
   "id": "eb2279d5-fe20-4907-be9d-90f099065903",
   "metadata": {
    "tags": []
   },
   "outputs": [
    {
     "name": "stdout",
     "output_type": "stream",
     "text": [
      "Number of nonzero values is : 7\n",
      "Number of nonzero values is : 6\n"
     ]
    }
   ],
   "source": [
    "a = np.count_nonzero([[1,1,7,0,0],[5,1,0,4,10]])\n",
    "b = np.count_nonzero([[10,1,8,0,0],[3,4,0,0,11]])\n",
    " \n",
    "print(\"Number of nonzero values is :\",a)\n",
    "print(\"Number of nonzero values is :\",b)"
   ]
  },
  {
   "cell_type": "markdown",
   "id": "57ed810f-3e44-40df-8256-84af2224849d",
   "metadata": {},
   "source": [
    "- **numpy.nonzero():**\n",
    "\n",
    "Return the indices of the elements that are non-zero."
   ]
  },
  {
   "cell_type": "code",
   "execution_count": 10,
   "id": "17b9de44-6ee8-4274-8e06-bf91fbc8361e",
   "metadata": {
    "tags": []
   },
   "outputs": [
    {
     "name": "stdout",
     "output_type": "stream",
     "text": [
      "(array([0, 0, 0, 1, 1], dtype=int64), array([0, 1, 2, 3, 4], dtype=int64))\n"
     ]
    }
   ],
   "source": [
    "a = np.array([[10,1,4,0,0],[0,0,0,4,11]])\n",
    "print(np.nonzero(a))"
   ]
  },
  {
   "cell_type": "markdown",
   "id": "217eb542-5453-4359-9e68-7ca00f31bd56",
   "metadata": {},
   "source": [
    "- **numpy.flatnonzero():**\n",
    "\n",
    "Return indices that are non-zero in the flattened version of a."
   ]
  },
  {
   "cell_type": "code",
   "execution_count": 11,
   "id": "ee5bd922-cb5c-4581-90b0-fd66b08502db",
   "metadata": {
    "tags": []
   },
   "outputs": [
    {
     "name": "stdout",
     "output_type": "stream",
     "text": [
      "[1 2 5 6 9]\n"
     ]
    }
   ],
   "source": [
    "a = np.array([[0,1,8,0,0],[5,4,0,0,11]])\n",
    "print(np.flatnonzero(a))"
   ]
  },
  {
   "cell_type": "markdown",
   "id": "d337cc4a-afbb-488f-a57e-a3eea1b0aaf3",
   "metadata": {},
   "source": [
    "- **numpy.extract():**\n",
    "\n",
    "The extract() function returns the elements satisfying any condition."
   ]
  },
  {
   "cell_type": "code",
   "execution_count": 12,
   "id": "d0a55cfe-2ba0-47dd-99f4-aa1833f56575",
   "metadata": {
    "tags": []
   },
   "outputs": [
    {
     "name": "stdout",
     "output_type": "stream",
     "text": [
      "[0. 2. 4. 6. 8.]\n"
     ]
    }
   ],
   "source": [
    "x = np.arange(9.).reshape(3, 3)\n",
    "condition = np.mod(x,2) == 0\n",
    "\n",
    "print(np.extract(condition, x))"
   ]
  },
  {
   "cell_type": "markdown",
   "id": "0d4c492a-76c7-437b-b255-c6feb63bbbc0",
   "metadata": {},
   "source": [
    "- **numpy.where() function:**\n",
    "\n",
    "This function is used to return the indices of all the elements which satisfies a particular condition."
   ]
  },
  {
   "cell_type": "code",
   "execution_count": 13,
   "id": "34dcd040-fc6f-44eb-8861-d0134be6ff1a",
   "metadata": {
    "tags": []
   },
   "outputs": [
    {
     "name": "stdout",
     "output_type": "stream",
     "text": [
      "(array([1, 3, 6, 7], dtype=int64),)\n"
     ]
    }
   ],
   "source": [
    "arr = np.array([3, 12, 5, 56, 8, 3, 13, 77, 5])\n",
    "print(np.where(arr>10))"
   ]
  },
  {
   "cell_type": "markdown",
   "id": "bbce97c4-0733-4ebe-bb05-faef832f1132",
   "metadata": {},
   "source": [
    "#### Random Generation Function"
   ]
  },
  {
   "cell_type": "markdown",
   "id": "00dd5abd-13a3-42dc-b89e-b2a61daab006",
   "metadata": {},
   "source": [
    "**Importing random Module**\n",
    "\n",
    "- Python random module is a built-in module for random numbers in Python.\n",
    "\n",
    "- These are sort of fake random numbers which do not possess True randomness."
   ]
  },
  {
   "cell_type": "code",
   "execution_count": 14,
   "id": "401e449d-9275-4d27-b389-1108d078fd5c",
   "metadata": {
    "tags": []
   },
   "outputs": [],
   "source": [
    "import random"
   ]
  },
  {
   "cell_type": "markdown",
   "id": "bc9723b1-7f19-4fc3-826e-3e95c009d160",
   "metadata": {},
   "source": [
    "NumPy provides the np.random.choice function for simple random sampling."
   ]
  },
  {
   "cell_type": "markdown",
   "id": "46031499-27be-428c-8b4f-95f2929b94dd",
   "metadata": {},
   "source": [
    "**1.random.choice**"
   ]
  },
  {
   "cell_type": "code",
   "execution_count": 15,
   "id": "186ef027-d3bf-438b-ab10-d70701445f23",
   "metadata": {
    "tags": []
   },
   "outputs": [
    {
     "name": "stdout",
     "output_type": "stream",
     "text": [
      "Original Array: [ 10  20  30  40  50  60  70  80  90 100]\n",
      "\n",
      "Sampled Array: [ 90 100  10  30  60]\n"
     ]
    }
   ],
   "source": [
    "original_array = np.array([10, 20, 30, 40, 50, 60, 70, 80, 90, 100])\n",
    "\n",
    "sampled_array = np.random.choice(original_array, size=5, replace=False)\n",
    "\n",
    "print(\"Original Array:\",original_array)\n",
    "\n",
    "print(\"\\nSampled Array:\",sampled_array)"
   ]
  },
  {
   "cell_type": "markdown",
   "id": "1a7687cd-4843-4656-a540-53ca36ab5696",
   "metadata": {},
   "source": [
    "**2. rand():** \n",
    "\n",
    "- Return 1-D array with random values between 0 to 1, can provide (x,y) args to shape the array to form multi-dim array."
   ]
  },
  {
   "cell_type": "code",
   "execution_count": 16,
   "id": "c95c00c1-2f95-40ac-ac55-5d28b3585ddb",
   "metadata": {
    "tags": []
   },
   "outputs": [
    {
     "name": "stdout",
     "output_type": "stream",
     "text": [
      "[0.12509818 0.63586094 0.40440931 0.85996317 0.85890913 0.77217396\n",
      " 0.74774883 0.95511709 0.12934298 0.72875921 0.44489558 0.26915671\n",
      " 0.39494791 0.16095991 0.16600784]\n",
      "[[0.83590876 0.50801235 0.57524722 0.01172726]\n",
      " [0.30870167 0.83057593 0.88207748 0.69243181]\n",
      " [0.7206736  0.73770392 0.7720823  0.87422605]\n",
      " [0.30790914 0.31389117 0.8513448  0.54726921]]\n"
     ]
    }
   ],
   "source": [
    "a = np.random.rand(15)\n",
    "print(a)\n",
    "\n",
    "b = np.random.rand(4, 4)\n",
    "print(b)"
   ]
  },
  {
   "cell_type": "markdown",
   "id": "f35b86b8-925b-4f43-9a9d-d0ce46c10454",
   "metadata": {},
   "source": [
    "**3. ranf():**\n",
    "\n",
    "- Generate random nums between 0 to 1.\n",
    "- Takes only 1 arg."
   ]
  },
  {
   "cell_type": "code",
   "execution_count": 17,
   "id": "652dabdb-3e66-4981-aad1-88003d192100",
   "metadata": {
    "tags": []
   },
   "outputs": [
    {
     "name": "stdout",
     "output_type": "stream",
     "text": [
      "[0.64677889 0.20406274 0.88841616 0.72961149 0.31441693 0.41078246]\n"
     ]
    }
   ],
   "source": [
    "a = np.random.ranf(6)\n",
    "print(a)"
   ]
  },
  {
   "cell_type": "markdown",
   "id": "fdeb7b12-f701-45e3-b2f4-d7f8e26661ff",
   "metadata": {},
   "source": [
    "**4. randint():**\n",
    "\n",
    "- Generate random int numbers.\n",
    "- Syntax - np.random.randint(low, high[None by default], size[None by default], dtype='i')"
   ]
  },
  {
   "cell_type": "code",
   "execution_count": 18,
   "id": "2454bc93-6664-4183-a1ca-084f7bad83ea",
   "metadata": {
    "tags": []
   },
   "outputs": [
    {
     "name": "stdout",
     "output_type": "stream",
     "text": [
      "[3 3 4 3 3]\n",
      "7\n"
     ]
    }
   ],
   "source": [
    "a = np.random.randint(3,5,5,dtype='i')\n",
    "print(a)\n",
    "\n",
    "b = np.random.randint(3,15)\n",
    "print(b)"
   ]
  },
  {
   "cell_type": "markdown",
   "id": "fb5bcb4b-83a2-4aa5-a71f-701d31c834df",
   "metadata": {},
   "source": [
    "**5. randn():**\n",
    "\n",
    "- Generate the normally distributed numbers around (0,0) i.e. Origin co-ordinates.\n",
    "- Syntax - np.random.randn(num)\n",
    "- Return 1-D array."
   ]
  },
  {
   "cell_type": "code",
   "execution_count": 19,
   "id": "badfc3d2-f85d-47d4-868d-136808cc5dd3",
   "metadata": {
    "tags": []
   },
   "outputs": [
    {
     "name": "stdout",
     "output_type": "stream",
     "text": [
      "Random Samples from Standard Normal Distribution: [ 0.78619172 -0.35313619 -0.90233497  0.42180261  0.69318769]\n"
     ]
    }
   ],
   "source": [
    "random_samples = np.random.randn(5)\n",
    "\n",
    "print(\"Random Samples from Standard Normal Distribution:\",random_samples)"
   ]
  },
  {
   "cell_type": "markdown",
   "id": "3fb87e8f-d836-4e9a-b3b5-fb5acc9f420c",
   "metadata": {},
   "source": [
    "**6.random.binomial**\n",
    "\n",
    "- The numpy.random.binomial function is used to generate samples from a binomial distribution."
   ]
  },
  {
   "cell_type": "code",
   "execution_count": 20,
   "id": "4cbee159-75c4-4af1-85a6-2bd2e56f57a3",
   "metadata": {},
   "outputs": [
    {
     "name": "stdout",
     "output_type": "stream",
     "text": [
      "[4 5 4]\n"
     ]
    }
   ],
   "source": [
    "n_trials = 10\n",
    "probability = 0.4\n",
    "binomial_values = np.random.binomial(n_trials, probability, 3)\n",
    "print(binomial_values)"
   ]
  },
  {
   "cell_type": "markdown",
   "id": "98b0dd80-4e06-4c61-a852-85b4507f4c43",
   "metadata": {},
   "source": [
    "**6.random.multinomial**\n",
    "\n",
    "- The numpy.random.multinomial function is used to draw samples from a multinomial distribution.\n",
    "- A multinomial distribution is a generalization of the binomial distribution to more than two categories. "
   ]
  },
  {
   "cell_type": "code",
   "execution_count": 21,
   "id": "1cf6a68f-6c52-436a-a4e9-1fcff9daa10b",
   "metadata": {
    "tags": []
   },
   "outputs": [
    {
     "name": "stdout",
     "output_type": "stream",
     "text": [
      "[[2 3 4 1]\n",
      " [0 6 3 1]\n",
      " [0 6 2 2]\n",
      " [5 2 3 0]\n",
      " [3 5 2 0]]\n"
     ]
    }
   ],
   "source": [
    "n_trials = 10\n",
    "probabilities = [0.2, 0.3, 0.4, 0.5] \n",
    "multinomial_values = np.random.multinomial(n_trials, probabilities, 5)\n",
    "print(multinomial_values)"
   ]
  },
  {
   "cell_type": "markdown",
   "id": "19507e68-ba2f-4345-988f-38921c849783",
   "metadata": {},
   "source": [
    "**7.random.exponential**\n",
    "\n",
    "- The numpy.random.exponential function is used to generate random samples from an exponential distribution. "
   ]
  },
  {
   "cell_type": "code",
   "execution_count": 23,
   "id": "cec8bcf8-f2a1-4dfc-a34c-59a1d3e7d06c",
   "metadata": {
    "tags": []
   },
   "outputs": [
    {
     "name": "stdout",
     "output_type": "stream",
     "text": [
      "[0.3655058 0.3378744 0.938466 ]\n"
     ]
    }
   ],
   "source": [
    "scale_parameter = 0.5\n",
    "exponential_values = np.random.exponential(scale_parameter, 3)\n",
    "print(exponential_values)"
   ]
  },
  {
   "cell_type": "markdown",
   "id": "6a3e7626-2101-48d9-b454-5258e9833a10",
   "metadata": {},
   "source": [
    "**8.random.poisson**\n",
    "\n",
    "- The numpy.random.poisson function is used to generate random samples from a Poisson distribution. "
   ]
  },
  {
   "cell_type": "code",
   "execution_count": 24,
   "id": "eedf0fc1-2c80-42cf-a076-82042ba6d340",
   "metadata": {
    "tags": []
   },
   "outputs": [
    {
     "name": "stdout",
     "output_type": "stream",
     "text": [
      "[6 6 4]\n"
     ]
    }
   ],
   "source": [
    "rate = 5.0\n",
    "poisson_values = np.random.poisson(rate, 3)\n",
    "print(poisson_values)"
   ]
  },
  {
   "cell_type": "markdown",
   "id": "7f5ee3e1-050e-4a63-acfd-90cdca26c367",
   "metadata": {},
   "source": [
    "**9.random.lognormal**\n",
    "\n",
    "- The numpy.random.lognormal function is used to generate random samples from a log-normal distribution. "
   ]
  },
  {
   "cell_type": "code",
   "execution_count": 25,
   "id": "622c1575-f6ef-4903-bf79-f12b9a8c6855",
   "metadata": {
    "tags": []
   },
   "outputs": [
    {
     "name": "stdout",
     "output_type": "stream",
     "text": [
      "[1.93086584 0.39942786 0.21886726]\n"
     ]
    }
   ],
   "source": [
    "mean_of_log = 0\n",
    "std_dev_of_log = 1\n",
    "lognormal_values = np.random.lognormal(mean_of_log, std_dev_of_log, 3)\n",
    "print(lognormal_values)"
   ]
  },
  {
   "cell_type": "markdown",
   "id": "f7272238-e4fe-4649-831c-f99122c989ed",
   "metadata": {},
   "source": [
    "#### Complex Matrix Operations"
   ]
  },
  {
   "cell_type": "markdown",
   "id": "d563796c-a7b9-48ff-b0b2-ba08cee34a6f",
   "metadata": {},
   "source": [
    "- **Creating Complex Matrices:**"
   ]
  },
  {
   "cell_type": "code",
   "execution_count": 26,
   "id": "72c570b0-e42d-4dea-a412-89083b341a97",
   "metadata": {
    "tags": []
   },
   "outputs": [
    {
     "name": "stdout",
     "output_type": "stream",
     "text": [
      "Complex Matrix: [[1.+2.j 3.-1.j]\n",
      " [0.+4.j 5.+0.j]]\n"
     ]
    }
   ],
   "source": [
    "complex_matrix = np.array([[1 + 2j, 3 - 1j], [4j, 5]])\n",
    "print(\"Complex Matrix:\",complex_matrix)"
   ]
  },
  {
   "cell_type": "markdown",
   "id": "3bf8a446-26a5-434b-9b93-f10b8463955e",
   "metadata": {},
   "source": [
    "- **Complex Conjugate:**\n"
   ]
  },
  {
   "cell_type": "code",
   "execution_count": 27,
   "id": "1e294fad-e050-4910-b45d-4b833dea3418",
   "metadata": {
    "tags": []
   },
   "outputs": [
    {
     "name": "stdout",
     "output_type": "stream",
     "text": [
      "\n",
      "Complex Conjugate: [[1.-2.j 3.+1.j]\n",
      " [0.-4.j 5.-0.j]]\n"
     ]
    }
   ],
   "source": [
    "conjugate_matrix = np.conjugate(complex_matrix)\n",
    "print(\"\\nComplex Conjugate:\",conjugate_matrix)"
   ]
  },
  {
   "cell_type": "markdown",
   "id": "b757087c-9f68-4681-b1a2-1dbe8ddf67f8",
   "metadata": {},
   "source": [
    "- **Real and Imaginary Parts:**"
   ]
  },
  {
   "cell_type": "code",
   "execution_count": 28,
   "id": "b037262a-d317-488a-b057-0e9e270707a2",
   "metadata": {
    "tags": []
   },
   "outputs": [
    {
     "name": "stdout",
     "output_type": "stream",
     "text": [
      "\n",
      "Real Part: [[1. 3.]\n",
      " [0. 5.]]\n",
      "\n",
      "Imaginary Part: [[ 2. -1.]\n",
      " [ 4.  0.]]\n"
     ]
    }
   ],
   "source": [
    "real_part = np.real(complex_matrix)\n",
    "imaginary_part = np.imag(complex_matrix)\n",
    "print(\"\\nReal Part:\",real_part)\n",
    "print(\"\\nImaginary Part:\",imaginary_part)"
   ]
  },
  {
   "cell_type": "markdown",
   "id": "ba0deab0-0481-4a0d-ad6a-c15ac0400e7e",
   "metadata": {},
   "source": [
    "- **Eigenvalues and Eigenvectors:**"
   ]
  },
  {
   "cell_type": "code",
   "execution_count": 29,
   "id": "934f9283-f4a6-4ba2-a741-3620de8972fa",
   "metadata": {
    "tags": []
   },
   "outputs": [
    {
     "name": "stdout",
     "output_type": "stream",
     "text": [
      "\n",
      "Eigenvalues: [0.03098115-0.34724642j 5.96901885+2.34724642j]\n",
      "\n",
      "Eigenvectors: [[ 0.77971523+0.j          0.49540959-0.20452102j]\n",
      " [-0.04364925-0.62461101j  0.84423959+0.j        ]]\n"
     ]
    }
   ],
   "source": [
    "eigenvalues, eigenvectors = np.linalg.eig(complex_matrix)\n",
    "print(\"\\nEigenvalues:\",eigenvalues)\n",
    "print(\"\\nEigenvectors:\",eigenvectors)"
   ]
  },
  {
   "cell_type": "markdown",
   "id": "93e6c4a3-ccaa-4bd0-b993-b157388de64b",
   "metadata": {},
   "source": [
    "- **Inverse**"
   ]
  },
  {
   "cell_type": "code",
   "execution_count": 30,
   "id": "32633bca-4776-4148-9508-881cc5f3f719",
   "metadata": {
    "tags": []
   },
   "outputs": [
    {
     "name": "stdout",
     "output_type": "stream",
     "text": [
      "[[ 1. +2.j  -1. -1.j ]\n",
      " [ 1.6-0.8j -0.6+0.8j]]\n"
     ]
    }
   ],
   "source": [
    "inverse_matrix = np.linalg.inv(complex_matrix)\n",
    "print(inverse_matrix)"
   ]
  },
  {
   "cell_type": "markdown",
   "id": "cc7a2689-5409-4ace-9709-c700b82bfcb0",
   "metadata": {},
   "source": [
    " ### NumPy advanced techniques"
   ]
  },
  {
   "cell_type": "markdown",
   "id": "642ce24a-1af1-4217-8cc3-d38b95486330",
   "metadata": {},
   "source": [
    "**NumPy FFT (Fast Fourier Transform):**\n",
    "\n",
    "- NumPy includes functions for computing the FFT, facilitating frequency domain analysis."
   ]
  },
  {
   "cell_type": "code",
   "execution_count": 31,
   "id": "e95f1e6e-c722-4464-9864-027ce440f47f",
   "metadata": {
    "tags": []
   },
   "outputs": [
    {
     "name": "stdout",
     "output_type": "stream",
     "text": [
      "[10.+0.j -2.+2.j -2.+0.j -2.-2.j]\n"
     ]
    }
   ],
   "source": [
    "signal = np.array([1, 2, 3, 4])\n",
    "fft_result = np.fft.fft(signal)\n",
    "print(fft_result)"
   ]
  },
  {
   "cell_type": "markdown",
   "id": "7f7038d8-2006-40a7-b293-0bb6c7f668be",
   "metadata": {},
   "source": [
    "**NumPy Memory Views:**\n",
    "\n",
    "- NumPy's np.ndarray provides an interface for memory views, allowing efficient sharing of memory between arrays."
   ]
  },
  {
   "cell_type": "code",
   "execution_count": 32,
   "id": "3f07ee8b-4dfb-4620-905b-5a9def055f70",
   "metadata": {
    "tags": []
   },
   "outputs": [
    {
     "name": "stdout",
     "output_type": "stream",
     "text": [
      "<memory at 0x000002769FB9AB00>\n"
     ]
    }
   ],
   "source": [
    "array = np.array([1, 2, 3, 4, 5])\n",
    "memory_view = array[2:5].data\n",
    "print(memory_view)"
   ]
  },
  {
   "cell_type": "markdown",
   "id": "be622203-8ecf-492e-98f1-2835e7f993c1",
   "metadata": {},
   "source": [
    "**Masking in NumPy**\n",
    "\n",
    "- Masking in NumPy involves creating a boolean array (mask) based on a certain condition and then using this mask to filter elements from an array. "
   ]
  },
  {
   "cell_type": "code",
   "execution_count": 33,
   "id": "b3442283-9eea-4ca1-a37c-73b4a4f369aa",
   "metadata": {
    "tags": []
   },
   "outputs": [
    {
     "name": "stdout",
     "output_type": "stream",
     "text": [
      "Original Array: [1 2 3 4 5 6]\n",
      "\n",
      "Masked Array (elements greater than 3): [4 5 6]\n"
     ]
    }
   ],
   "source": [
    "original_array = np.array([1, 2, 3, 4, 5, 6])\n",
    "\n",
    "# Creating a mask based on a condition\n",
    "mask = original_array > 3\n",
    "\n",
    "# Applying the mask to filter elements\n",
    "masked_array = original_array[mask]\n",
    "\n",
    "print(\"Original Array:\",original_array)\n",
    "\n",
    "print(\"\\nMasked Array (elements greater than 3):\",masked_array)"
   ]
  },
  {
   "cell_type": "markdown",
   "id": "34a13452-603b-451b-818c-1a73f7d6e1a7",
   "metadata": {},
   "source": [
    "**Broadcasting in NumPy**\n",
    "\n",
    "- Broadcasting in NumPy allows for arithmetic operations on arrays of different shapes and sizes without the need for explicit loops or creating new arrays."
   ]
  },
  {
   "cell_type": "code",
   "execution_count": 34,
   "id": "16433557-2fb8-43ed-8fd2-4d27f77b95e1",
   "metadata": {
    "tags": []
   },
   "outputs": [
    {
     "name": "stdout",
     "output_type": "stream",
     "text": [
      "Array 1: [[1 2 3]\n",
      " [4 5 6]]\n",
      "\n",
      "Scalar: [10 20 30]\n",
      "\n",
      "Result after Broadcasting: [[11 22 33]\n",
      " [14 25 36]]\n"
     ]
    }
   ],
   "source": [
    "array1 = np.array([[1, 2, 3], [4, 5, 6]])\n",
    "\n",
    "scalar = np.array([10, 20, 30])\n",
    "\n",
    "# Broadcasting the 1D array to the 2D array\n",
    "result_array = array1 + scalar\n",
    "\n",
    "print(\"Array 1:\",array1)\n",
    "\n",
    "print(\"\\nScalar:\",scalar)\n",
    "\n",
    "print(\"\\nResult after Broadcasting:\",result_array)"
   ]
  },
  {
   "cell_type": "markdown",
   "id": "fd48aef6-dd1b-4f11-bfb8-2d6e139cd092",
   "metadata": {},
   "source": [
    "**Fancy Indexing in NumPy**\n",
    "\n",
    "- Fancy indexing in NumPy refers to using arrays of indices to access or modify elements from another array. "
   ]
  },
  {
   "cell_type": "code",
   "execution_count": 35,
   "id": "ee06fef8-b027-47dc-badb-e4dff16bbbff",
   "metadata": {
    "tags": []
   },
   "outputs": [
    {
     "name": "stdout",
     "output_type": "stream",
     "text": [
      "Original Array: [10 99 30 99 99]\n",
      "\n",
      "Selected Elements using Fancy Indexing: [20 40 50]\n"
     ]
    }
   ],
   "source": [
    "original_array = np.array([10, 20, 30, 40, 50])\n",
    "\n",
    "indices = np.array([1, 3, 4])\n",
    "\n",
    "# Using fancy indexing to access elements\n",
    "selected_elements = original_array[indices]\n",
    "\n",
    "# Modifying elements\n",
    "original_array[indices] = 99\n",
    "\n",
    "print(\"Original Array:\",original_array)\n",
    "\n",
    "print(\"\\nSelected Elements using Fancy Indexing:\",selected_elements)"
   ]
  },
  {
   "cell_type": "markdown",
   "id": "3447233c-e207-4dce-bb63-8d24900985bf",
   "metadata": {},
   "source": [
    "**Structured arrays**\n",
    "\n",
    "- Structured arrays in NumPy allow you to define custom data types and create arrays with multiple fields."
   ]
  },
  {
   "cell_type": "code",
   "execution_count": 36,
   "id": "09f356bd-4933-4254-90c7-738157e8b22b",
   "metadata": {
    "tags": []
   },
   "outputs": [
    {
     "name": "stdout",
     "output_type": "stream",
     "text": [
      "Structured Array: [('Jack', 25) ('Alex', 30) ('Billy', 22)]\n",
      "\n",
      "Names: ['Jack' 'Alex' 'Billy']\n",
      "\n",
      "Ages: [25 30 22]\n",
      "\n",
      "Jack\n",
      "22\n"
     ]
    }
   ],
   "source": [
    "data_type = [('name', 'U10'), ('age', int)]\n",
    "people_data = np.array([('Jack', 25), ('Alex', 30), ('Billy', 22)], dtype=data_type)\n",
    "\n",
    "# Accessing fields of the structured array\n",
    "names = people_data['name']\n",
    "ages = people_data['age']\n",
    "\n",
    "print(\"Structured Array:\",people_data)\n",
    "\n",
    "print(\"\\nNames:\",names)\n",
    "\n",
    "print(\"\\nAges:\",ages) \n",
    "\n",
    "#Accessing\n",
    "print('\\n'+ people_data['name'][0])\n",
    "print(people_data['age'][2])"
   ]
  }
 ],
 "metadata": {
  "kernelspec": {
   "display_name": "Python 3 (ipykernel)",
   "language": "python",
   "name": "python3"
  },
  "language_info": {
   "codemirror_mode": {
    "name": "ipython",
    "version": 3
   },
   "file_extension": ".py",
   "mimetype": "text/x-python",
   "name": "python",
   "nbconvert_exporter": "python",
   "pygments_lexer": "ipython3",
   "version": "3.11.4"
  }
 },
 "nbformat": 4,
 "nbformat_minor": 5
}
