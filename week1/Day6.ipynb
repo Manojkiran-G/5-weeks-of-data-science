{
 "cells": [
  {
   "cell_type": "markdown",
   "id": "b474eaad-fde1-473a-9923-8c8d8d676c02",
   "metadata": {},
   "source": [
    "        -----------WEEK 1 - Day 6-----------\n",
    "                        - Manojkiran G"
   ]
  },
  {
   "cell_type": "markdown",
   "id": "5659781e-0406-4ce7-ae6d-ba28bdceb9a4",
   "metadata": {},
   "source": [
    "## Pandas\n",
    "\n",
    "Pandas is a Python library used for working with data sets.\n",
    "\n",
    "It has functions for analyzing, cleaning, exploring, and manipulating data.\n",
    "\n",
    "Pandas allows us to analyze big data and make conclusions based on statistical theories.\n",
    "\n",
    "Pandas can clean messy data sets, and make them readable and relevant."
   ]
  },
  {
   "cell_type": "code",
   "execution_count": 1,
   "id": "e228a149-6188-40f5-a6c1-feecccf1ea8f",
   "metadata": {
    "tags": []
   },
   "outputs": [],
   "source": [
    "import pandas as pd"
   ]
  },
  {
   "cell_type": "markdown",
   "id": "26e4f75a-f8bf-4840-bd2a-bb4156f0a9c3",
   "metadata": {},
   "source": [
    "#### Object creation"
   ]
  },
  {
   "cell_type": "code",
   "execution_count": 2,
   "id": "60b0724b-cdf4-40fc-a10f-34155a66b018",
   "metadata": {
    "tags": []
   },
   "outputs": [
    {
     "name": "stdout",
     "output_type": "stream",
     "text": [
      "0    1.0\n",
      "1    3.0\n",
      "2    5.0\n",
      "3    NaN\n",
      "4    6.0\n",
      "5    8.0\n",
      "dtype: float64\n"
     ]
    }
   ],
   "source": [
    "import pandas as pd\n",
    "import numpy as np\n",
    "\n",
    "#Creating a Series by passing a list of values, letting pandas create a default integer index:\n",
    "s = pd.Series([1,3,5,np.nan,6,8])\n",
    "print(s)"
   ]
  },
  {
   "cell_type": "code",
   "execution_count": 3,
   "id": "7c6e4b94-53f0-472c-bc10-fc91f74638b8",
   "metadata": {
    "tags": []
   },
   "outputs": [
    {
     "name": "stdout",
     "output_type": "stream",
     "text": [
      "DatetimeIndex(['2023-12-01', '2023-12-02', '2023-12-03', '2023-12-04',\n",
      "               '2023-12-05', '2023-12-06', '2023-12-07', '2023-12-08'],\n",
      "              dtype='datetime64[ns]', freq='D')\n"
     ]
    }
   ],
   "source": [
    "#Creating a DataFrame by passing a NumPy array, with a datetime index and labeled columns\n",
    "\n",
    "dates = pd.date_range(\"20231201\",periods=8)\n",
    "print(dates)"
   ]
  },
  {
   "cell_type": "code",
   "execution_count": 4,
   "id": "bea3f262-771a-42ae-a403-72a301c2f7a3",
   "metadata": {
    "tags": []
   },
   "outputs": [
    {
     "name": "stdout",
     "output_type": "stream",
     "text": [
      "                   A         B         C         D\n",
      "2023-12-01  0.791345  0.095222 -0.044517  0.537610\n",
      "2023-12-02 -0.128260 -2.956865 -0.791315  1.032764\n",
      "2023-12-03  0.593235  0.569560  0.415684  0.210787\n",
      "2023-12-04 -2.701697  1.253361 -0.778348  1.343648\n",
      "2023-12-05  0.868668  0.024486 -1.044679  0.933951\n",
      "2023-12-06 -0.423409  1.141667 -1.287055  0.453393\n",
      "2023-12-07  0.457170  1.311562 -1.456882 -1.426077\n",
      "2023-12-08  0.586394 -0.144502 -0.415177  0.209306\n"
     ]
    }
   ],
   "source": [
    "df = pd.DataFrame(np.random.randn(8,4),index = dates, columns=list(\"ABCD\"))\n",
    "print(df)"
   ]
  },
  {
   "cell_type": "code",
   "execution_count": 5,
   "id": "af340c41-c97a-4af9-8db1-b3d1ae1e258c",
   "metadata": {
    "tags": []
   },
   "outputs": [
    {
     "name": "stdout",
     "output_type": "stream",
     "text": [
      "     A          B    C  D      E    F\n",
      "0  1.0 2023-12-01  1.0  3   test  foo\n",
      "1  1.0 2023-12-01  1.0  3  train  foo\n",
      "2  1.0 2023-12-01  1.0  3   test  foo\n",
      "3  1.0 2023-12-01  1.0  3  train  foo\n"
     ]
    }
   ],
   "source": [
    "#Creating a DataFrame by passing a dict of objects that can be converted to series-like.\n",
    "df2 = pd.DataFrame(\n",
    "{\n",
    "\"A\":1.0,\n",
    "\"B\":pd.Timestamp(\"20231201\"),\n",
    "\"C\":pd.Series(1,index=list(range(4)),dtype=\"float32\"),\n",
    "\"D\":np.array([3] * 4,dtype=\"int32\"),\n",
    "\"E\":pd.Categorical([\"test\",\"train\",\"test\",\"train\"]),\n",
    "\"F\":\"foo\",\n",
    "}\n",
    ")\n",
    "print(df2)"
   ]
  },
  {
   "cell_type": "markdown",
   "id": "5f0a58bb-6e1e-4779-8b51-a062c30a9c1d",
   "metadata": {},
   "source": [
    "#### Importing DataFrame"
   ]
  },
  {
   "cell_type": "code",
   "execution_count": 6,
   "id": "35a0a688-f3b7-4676-9ec0-3af69cdcb22f",
   "metadata": {
    "tags": []
   },
   "outputs": [],
   "source": [
    "#import excel\n",
    "\n",
    "df_excel= pd.read_excel('practice_excel.xlsx')"
   ]
  },
  {
   "cell_type": "code",
   "execution_count": 7,
   "id": "294d3637-fa05-41e8-927c-96d125832801",
   "metadata": {
    "tags": []
   },
   "outputs": [],
   "source": [
    "#import csv\n",
    "\n",
    "df = pd.read_csv('practice_csv.csv')"
   ]
  },
  {
   "cell_type": "code",
   "execution_count": 8,
   "id": "95239ec7-44eb-471e-81e8-d630ae47d473",
   "metadata": {
    "tags": []
   },
   "outputs": [
    {
     "name": "stdout",
     "output_type": "stream",
     "text": [
      "100000\n"
     ]
    }
   ],
   "source": [
    "print(df.size)"
   ]
  },
  {
   "cell_type": "code",
   "execution_count": 9,
   "id": "d380153d-4ccc-45ca-96c8-0da37f881ba3",
   "metadata": {
    "tags": []
   },
   "outputs": [
    {
     "name": "stdout",
     "output_type": "stream",
     "text": [
      "RangeIndex(start=0, stop=5000, step=1)\n"
     ]
    }
   ],
   "source": [
    "print(df.index)"
   ]
  },
  {
   "cell_type": "markdown",
   "id": "f94104e1-e48e-40b9-9d0f-ae606e1eae74",
   "metadata": {},
   "source": [
    "**Displaying data**"
   ]
  },
  {
   "cell_type": "code",
   "execution_count": 10,
   "id": "1f2217d7-0d1a-4614-b027-da22835fdc1d",
   "metadata": {
    "tags": []
   },
   "outputs": [
    {
     "data": {
      "text/html": [
       "<div>\n",
       "<style scoped>\n",
       "    .dataframe tbody tr th:only-of-type {\n",
       "        vertical-align: middle;\n",
       "    }\n",
       "\n",
       "    .dataframe tbody tr th {\n",
       "        vertical-align: top;\n",
       "    }\n",
       "\n",
       "    .dataframe thead th {\n",
       "        text-align: right;\n",
       "    }\n",
       "</style>\n",
       "<table border=\"1\" class=\"dataframe\">\n",
       "  <thead>\n",
       "    <tr style=\"text-align: right;\">\n",
       "      <th></th>\n",
       "      <th>Feature1</th>\n",
       "      <th>Feature2</th>\n",
       "      <th>Feature3</th>\n",
       "      <th>Feature4</th>\n",
       "      <th>Feature5</th>\n",
       "      <th>Feature6</th>\n",
       "      <th>Feature7</th>\n",
       "      <th>Feature8</th>\n",
       "      <th>Feature9</th>\n",
       "      <th>Feature10</th>\n",
       "      <th>Feature11</th>\n",
       "      <th>Feature12</th>\n",
       "      <th>Feature13</th>\n",
       "      <th>Feature14</th>\n",
       "      <th>Feature15</th>\n",
       "      <th>Feature16</th>\n",
       "      <th>Feature17</th>\n",
       "      <th>Feature18</th>\n",
       "      <th>Feature19</th>\n",
       "      <th>Feature20</th>\n",
       "    </tr>\n",
       "  </thead>\n",
       "  <tbody>\n",
       "    <tr>\n",
       "      <th>0</th>\n",
       "      <td>44.0</td>\n",
       "      <td>0.797417</td>\n",
       "      <td>-0.958091</td>\n",
       "      <td>NaN</td>\n",
       "      <td>NaN</td>\n",
       "      <td>158.0</td>\n",
       "      <td>1.490148</td>\n",
       "      <td>5.166124</td>\n",
       "      <td>2.277942</td>\n",
       "      <td>NaN</td>\n",
       "      <td>5</td>\n",
       "      <td>X</td>\n",
       "      <td>1</td>\n",
       "      <td>Category1</td>\n",
       "      <td>Option4</td>\n",
       "      <td>8.824345</td>\n",
       "      <td>11.711130</td>\n",
       "      <td>Yes</td>\n",
       "      <td>Low</td>\n",
       "      <td>NaN</td>\n",
       "    </tr>\n",
       "    <tr>\n",
       "      <th>1</th>\n",
       "      <td>47.0</td>\n",
       "      <td>0.026838</td>\n",
       "      <td>-0.244178</td>\n",
       "      <td>D</td>\n",
       "      <td>NaN</td>\n",
       "      <td>NaN</td>\n",
       "      <td>2.151535</td>\n",
       "      <td>0.450312</td>\n",
       "      <td>-3.395356</td>\n",
       "      <td>NaN</td>\n",
       "      <td>3</td>\n",
       "      <td>X</td>\n",
       "      <td>0</td>\n",
       "      <td>Category1</td>\n",
       "      <td>Option2</td>\n",
       "      <td>NaN</td>\n",
       "      <td>13.355832</td>\n",
       "      <td>Yes</td>\n",
       "      <td>Low</td>\n",
       "      <td>cat</td>\n",
       "    </tr>\n",
       "    <tr>\n",
       "      <th>2</th>\n",
       "      <td>64.0</td>\n",
       "      <td>0.199990</td>\n",
       "      <td>-1.014799</td>\n",
       "      <td>B</td>\n",
       "      <td>0.0</td>\n",
       "      <td>474.0</td>\n",
       "      <td>1.410613</td>\n",
       "      <td>6.786555</td>\n",
       "      <td>-3.070746</td>\n",
       "      <td>NaN</td>\n",
       "      <td>7</td>\n",
       "      <td>Z</td>\n",
       "      <td>0</td>\n",
       "      <td>Category1</td>\n",
       "      <td>Option2</td>\n",
       "      <td>NaN</td>\n",
       "      <td>13.449484</td>\n",
       "      <td>Yes</td>\n",
       "      <td>Medium</td>\n",
       "      <td>dog</td>\n",
       "    </tr>\n",
       "    <tr>\n",
       "      <th>3</th>\n",
       "      <td>67.0</td>\n",
       "      <td>0.474124</td>\n",
       "      <td>0.448040</td>\n",
       "      <td>B</td>\n",
       "      <td>NaN</td>\n",
       "      <td>166.0</td>\n",
       "      <td>0.635091</td>\n",
       "      <td>1.937158</td>\n",
       "      <td>-0.246269</td>\n",
       "      <td>6.004975</td>\n",
       "      <td>20</td>\n",
       "      <td>X</td>\n",
       "      <td>0</td>\n",
       "      <td>Category1</td>\n",
       "      <td>Option2</td>\n",
       "      <td>NaN</td>\n",
       "      <td>7.687652</td>\n",
       "      <td>Yes</td>\n",
       "      <td>Low</td>\n",
       "      <td>cat</td>\n",
       "    </tr>\n",
       "    <tr>\n",
       "      <th>4</th>\n",
       "      <td>NaN</td>\n",
       "      <td>0.598516</td>\n",
       "      <td>0.087839</td>\n",
       "      <td>NaN</td>\n",
       "      <td>0.0</td>\n",
       "      <td>NaN</td>\n",
       "      <td>0.392104</td>\n",
       "      <td>4.010937</td>\n",
       "      <td>3.215086</td>\n",
       "      <td>2.891199</td>\n",
       "      <td>3</td>\n",
       "      <td>Z</td>\n",
       "      <td>0</td>\n",
       "      <td>Category1</td>\n",
       "      <td>Option3</td>\n",
       "      <td>11.259371</td>\n",
       "      <td>6.807770</td>\n",
       "      <td>Yes</td>\n",
       "      <td>Low</td>\n",
       "      <td>cat</td>\n",
       "    </tr>\n",
       "  </tbody>\n",
       "</table>\n",
       "</div>"
      ],
      "text/plain": [
       "   Feature1  Feature2  Feature3 Feature4  Feature5  Feature6  Feature7  \\\n",
       "0      44.0  0.797417 -0.958091      NaN       NaN     158.0  1.490148   \n",
       "1      47.0  0.026838 -0.244178        D       NaN       NaN  2.151535   \n",
       "2      64.0  0.199990 -1.014799        B       0.0     474.0  1.410613   \n",
       "3      67.0  0.474124  0.448040        B       NaN     166.0  0.635091   \n",
       "4       NaN  0.598516  0.087839      NaN       0.0       NaN  0.392104   \n",
       "\n",
       "   Feature8  Feature9  Feature10  Feature11 Feature12  Feature13  Feature14  \\\n",
       "0  5.166124  2.277942        NaN          5         X          1  Category1   \n",
       "1  0.450312 -3.395356        NaN          3         X          0  Category1   \n",
       "2  6.786555 -3.070746        NaN          7         Z          0  Category1   \n",
       "3  1.937158 -0.246269   6.004975         20         X          0  Category1   \n",
       "4  4.010937  3.215086   2.891199          3         Z          0  Category1   \n",
       "\n",
       "  Feature15  Feature16  Feature17 Feature18 Feature19 Feature20  \n",
       "0   Option4   8.824345  11.711130       Yes       Low       NaN  \n",
       "1   Option2        NaN  13.355832       Yes       Low       cat  \n",
       "2   Option2        NaN  13.449484       Yes    Medium       dog  \n",
       "3   Option2        NaN   7.687652       Yes       Low       cat  \n",
       "4   Option3  11.259371   6.807770       Yes       Low       cat  "
      ]
     },
     "execution_count": 10,
     "metadata": {},
     "output_type": "execute_result"
    }
   ],
   "source": [
    "df.head(5)"
   ]
  },
  {
   "cell_type": "code",
   "execution_count": 11,
   "id": "a37570b2-51a3-4f8c-a67d-deb9ef515e07",
   "metadata": {
    "tags": []
   },
   "outputs": [
    {
     "data": {
      "text/html": [
       "<div>\n",
       "<style scoped>\n",
       "    .dataframe tbody tr th:only-of-type {\n",
       "        vertical-align: middle;\n",
       "    }\n",
       "\n",
       "    .dataframe tbody tr th {\n",
       "        vertical-align: top;\n",
       "    }\n",
       "\n",
       "    .dataframe thead th {\n",
       "        text-align: right;\n",
       "    }\n",
       "</style>\n",
       "<table border=\"1\" class=\"dataframe\">\n",
       "  <thead>\n",
       "    <tr style=\"text-align: right;\">\n",
       "      <th></th>\n",
       "      <th>Feature1</th>\n",
       "      <th>Feature2</th>\n",
       "      <th>Feature3</th>\n",
       "      <th>Feature4</th>\n",
       "      <th>Feature5</th>\n",
       "      <th>Feature6</th>\n",
       "      <th>Feature7</th>\n",
       "      <th>Feature8</th>\n",
       "      <th>Feature9</th>\n",
       "      <th>Feature10</th>\n",
       "      <th>Feature11</th>\n",
       "      <th>Feature12</th>\n",
       "      <th>Feature13</th>\n",
       "      <th>Feature14</th>\n",
       "      <th>Feature15</th>\n",
       "      <th>Feature16</th>\n",
       "      <th>Feature17</th>\n",
       "      <th>Feature18</th>\n",
       "      <th>Feature19</th>\n",
       "      <th>Feature20</th>\n",
       "    </tr>\n",
       "  </thead>\n",
       "  <tbody>\n",
       "    <tr>\n",
       "      <th>4995</th>\n",
       "      <td>NaN</td>\n",
       "      <td>0.819440</td>\n",
       "      <td>0.415931</td>\n",
       "      <td>C</td>\n",
       "      <td>0.0</td>\n",
       "      <td>NaN</td>\n",
       "      <td>1.765590</td>\n",
       "      <td>1.929735</td>\n",
       "      <td>-1.951884</td>\n",
       "      <td>NaN</td>\n",
       "      <td>1</td>\n",
       "      <td>Z</td>\n",
       "      <td>1</td>\n",
       "      <td>Category2</td>\n",
       "      <td>Option4</td>\n",
       "      <td>NaN</td>\n",
       "      <td>14.821501</td>\n",
       "      <td>No</td>\n",
       "      <td>Low</td>\n",
       "      <td>NaN</td>\n",
       "    </tr>\n",
       "    <tr>\n",
       "      <th>4996</th>\n",
       "      <td>NaN</td>\n",
       "      <td>0.032140</td>\n",
       "      <td>-1.445420</td>\n",
       "      <td>C</td>\n",
       "      <td>1.0</td>\n",
       "      <td>NaN</td>\n",
       "      <td>0.806246</td>\n",
       "      <td>8.765315</td>\n",
       "      <td>-1.866815</td>\n",
       "      <td>NaN</td>\n",
       "      <td>1</td>\n",
       "      <td>Y</td>\n",
       "      <td>0</td>\n",
       "      <td>Category3</td>\n",
       "      <td>Option4</td>\n",
       "      <td>6.368173</td>\n",
       "      <td>5.308922</td>\n",
       "      <td>Yes</td>\n",
       "      <td>Medium</td>\n",
       "      <td>NaN</td>\n",
       "    </tr>\n",
       "    <tr>\n",
       "      <th>4997</th>\n",
       "      <td>92.0</td>\n",
       "      <td>0.263300</td>\n",
       "      <td>0.986722</td>\n",
       "      <td>C</td>\n",
       "      <td>NaN</td>\n",
       "      <td>78.0</td>\n",
       "      <td>1.326853</td>\n",
       "      <td>4.489722</td>\n",
       "      <td>1.720671</td>\n",
       "      <td>6.877962</td>\n",
       "      <td>1</td>\n",
       "      <td>X</td>\n",
       "      <td>0</td>\n",
       "      <td>Category1</td>\n",
       "      <td>Option4</td>\n",
       "      <td>5.682022</td>\n",
       "      <td>9.508951</td>\n",
       "      <td>Yes</td>\n",
       "      <td>Medium</td>\n",
       "      <td>NaN</td>\n",
       "    </tr>\n",
       "    <tr>\n",
       "      <th>4998</th>\n",
       "      <td>91.0</td>\n",
       "      <td>0.640986</td>\n",
       "      <td>-1.199847</td>\n",
       "      <td>A</td>\n",
       "      <td>0.0</td>\n",
       "      <td>51.0</td>\n",
       "      <td>0.312256</td>\n",
       "      <td>2.773963</td>\n",
       "      <td>-3.320704</td>\n",
       "      <td>6.138322</td>\n",
       "      <td>2</td>\n",
       "      <td>X</td>\n",
       "      <td>0</td>\n",
       "      <td>Category1</td>\n",
       "      <td>Option3</td>\n",
       "      <td>4.574748</td>\n",
       "      <td>8.705127</td>\n",
       "      <td>No</td>\n",
       "      <td>Medium</td>\n",
       "      <td>some other</td>\n",
       "    </tr>\n",
       "    <tr>\n",
       "      <th>4999</th>\n",
       "      <td>NaN</td>\n",
       "      <td>0.901570</td>\n",
       "      <td>1.836382</td>\n",
       "      <td>NaN</td>\n",
       "      <td>0.0</td>\n",
       "      <td>NaN</td>\n",
       "      <td>2.087461</td>\n",
       "      <td>6.854886</td>\n",
       "      <td>-0.259228</td>\n",
       "      <td>6.068139</td>\n",
       "      <td>6</td>\n",
       "      <td>X</td>\n",
       "      <td>0</td>\n",
       "      <td>Category2</td>\n",
       "      <td>Option2</td>\n",
       "      <td>12.801075</td>\n",
       "      <td>14.686372</td>\n",
       "      <td>Yes</td>\n",
       "      <td>High</td>\n",
       "      <td>some other</td>\n",
       "    </tr>\n",
       "  </tbody>\n",
       "</table>\n",
       "</div>"
      ],
      "text/plain": [
       "      Feature1  Feature2  Feature3 Feature4  Feature5  Feature6  Feature7  \\\n",
       "4995       NaN  0.819440  0.415931        C       0.0       NaN  1.765590   \n",
       "4996       NaN  0.032140 -1.445420        C       1.0       NaN  0.806246   \n",
       "4997      92.0  0.263300  0.986722        C       NaN      78.0  1.326853   \n",
       "4998      91.0  0.640986 -1.199847        A       0.0      51.0  0.312256   \n",
       "4999       NaN  0.901570  1.836382      NaN       0.0       NaN  2.087461   \n",
       "\n",
       "      Feature8  Feature9  Feature10  Feature11 Feature12  Feature13  \\\n",
       "4995  1.929735 -1.951884        NaN          1         Z          1   \n",
       "4996  8.765315 -1.866815        NaN          1         Y          0   \n",
       "4997  4.489722  1.720671   6.877962          1         X          0   \n",
       "4998  2.773963 -3.320704   6.138322          2         X          0   \n",
       "4999  6.854886 -0.259228   6.068139          6         X          0   \n",
       "\n",
       "      Feature14 Feature15  Feature16  Feature17 Feature18 Feature19  \\\n",
       "4995  Category2   Option4        NaN  14.821501        No       Low   \n",
       "4996  Category3   Option4   6.368173   5.308922       Yes    Medium   \n",
       "4997  Category1   Option4   5.682022   9.508951       Yes    Medium   \n",
       "4998  Category1   Option3   4.574748   8.705127        No    Medium   \n",
       "4999  Category2   Option2  12.801075  14.686372       Yes      High   \n",
       "\n",
       "       Feature20  \n",
       "4995         NaN  \n",
       "4996         NaN  \n",
       "4997         NaN  \n",
       "4998  some other  \n",
       "4999  some other  "
      ]
     },
     "execution_count": 11,
     "metadata": {},
     "output_type": "execute_result"
    }
   ],
   "source": [
    "df.tail(5)"
   ]
  },
  {
   "cell_type": "code",
   "execution_count": 12,
   "id": "673de8ae-6a55-4554-b83f-a89bf192e20b",
   "metadata": {
    "tags": []
   },
   "outputs": [
    {
     "data": {
      "text/html": [
       "<div>\n",
       "<style scoped>\n",
       "    .dataframe tbody tr th:only-of-type {\n",
       "        vertical-align: middle;\n",
       "    }\n",
       "\n",
       "    .dataframe tbody tr th {\n",
       "        vertical-align: top;\n",
       "    }\n",
       "\n",
       "    .dataframe thead th {\n",
       "        text-align: right;\n",
       "    }\n",
       "</style>\n",
       "<table border=\"1\" class=\"dataframe\">\n",
       "  <thead>\n",
       "    <tr style=\"text-align: right;\">\n",
       "      <th></th>\n",
       "      <th>Feature1</th>\n",
       "      <th>Feature2</th>\n",
       "      <th>Feature3</th>\n",
       "      <th>Feature4</th>\n",
       "      <th>Feature5</th>\n",
       "      <th>Feature6</th>\n",
       "      <th>Feature7</th>\n",
       "      <th>Feature8</th>\n",
       "      <th>Feature9</th>\n",
       "      <th>Feature10</th>\n",
       "      <th>Feature11</th>\n",
       "      <th>Feature12</th>\n",
       "      <th>Feature13</th>\n",
       "      <th>Feature14</th>\n",
       "      <th>Feature15</th>\n",
       "      <th>Feature16</th>\n",
       "      <th>Feature17</th>\n",
       "      <th>Feature18</th>\n",
       "      <th>Feature19</th>\n",
       "      <th>Feature20</th>\n",
       "    </tr>\n",
       "  </thead>\n",
       "  <tbody>\n",
       "    <tr>\n",
       "      <th>1554</th>\n",
       "      <td>53.0</td>\n",
       "      <td>0.905705</td>\n",
       "      <td>-0.941962</td>\n",
       "      <td>A</td>\n",
       "      <td>0.0</td>\n",
       "      <td>NaN</td>\n",
       "      <td>0.221015</td>\n",
       "      <td>1.638550</td>\n",
       "      <td>0.049304</td>\n",
       "      <td>NaN</td>\n",
       "      <td>1</td>\n",
       "      <td>X</td>\n",
       "      <td>0</td>\n",
       "      <td>Category3</td>\n",
       "      <td>Option1</td>\n",
       "      <td>9.837393</td>\n",
       "      <td>5.996995</td>\n",
       "      <td>Yes</td>\n",
       "      <td>Low</td>\n",
       "      <td>dog</td>\n",
       "    </tr>\n",
       "    <tr>\n",
       "      <th>3819</th>\n",
       "      <td>NaN</td>\n",
       "      <td>0.603749</td>\n",
       "      <td>1.606893</td>\n",
       "      <td>A</td>\n",
       "      <td>0.0</td>\n",
       "      <td>935.0</td>\n",
       "      <td>0.088851</td>\n",
       "      <td>3.783255</td>\n",
       "      <td>-0.829551</td>\n",
       "      <td>NaN</td>\n",
       "      <td>2</td>\n",
       "      <td>Z</td>\n",
       "      <td>0</td>\n",
       "      <td>Category2</td>\n",
       "      <td>Option3</td>\n",
       "      <td>NaN</td>\n",
       "      <td>6.018794</td>\n",
       "      <td>Yes</td>\n",
       "      <td>Medium</td>\n",
       "      <td>some other</td>\n",
       "    </tr>\n",
       "    <tr>\n",
       "      <th>2671</th>\n",
       "      <td>85.0</td>\n",
       "      <td>0.648017</td>\n",
       "      <td>0.220565</td>\n",
       "      <td>NaN</td>\n",
       "      <td>0.0</td>\n",
       "      <td>911.0</td>\n",
       "      <td>0.124543</td>\n",
       "      <td>4.164549</td>\n",
       "      <td>0.039305</td>\n",
       "      <td>3.133131</td>\n",
       "      <td>1</td>\n",
       "      <td>Z</td>\n",
       "      <td>1</td>\n",
       "      <td>Category1</td>\n",
       "      <td>Option3</td>\n",
       "      <td>11.509472</td>\n",
       "      <td>12.972834</td>\n",
       "      <td>Yes</td>\n",
       "      <td>High</td>\n",
       "      <td>cat</td>\n",
       "    </tr>\n",
       "    <tr>\n",
       "      <th>4389</th>\n",
       "      <td>70.0</td>\n",
       "      <td>0.820083</td>\n",
       "      <td>2.170978</td>\n",
       "      <td>NaN</td>\n",
       "      <td>0.0</td>\n",
       "      <td>963.0</td>\n",
       "      <td>1.314611</td>\n",
       "      <td>2.103266</td>\n",
       "      <td>0.264566</td>\n",
       "      <td>NaN</td>\n",
       "      <td>1</td>\n",
       "      <td>Y</td>\n",
       "      <td>0</td>\n",
       "      <td>Category1</td>\n",
       "      <td>Option3</td>\n",
       "      <td>9.277436</td>\n",
       "      <td>5.964480</td>\n",
       "      <td>Yes</td>\n",
       "      <td>Medium</td>\n",
       "      <td>cat</td>\n",
       "    </tr>\n",
       "    <tr>\n",
       "      <th>4816</th>\n",
       "      <td>44.0</td>\n",
       "      <td>0.297709</td>\n",
       "      <td>-0.553114</td>\n",
       "      <td>D</td>\n",
       "      <td>NaN</td>\n",
       "      <td>732.0</td>\n",
       "      <td>0.006442</td>\n",
       "      <td>2.024358</td>\n",
       "      <td>0.146985</td>\n",
       "      <td>NaN</td>\n",
       "      <td>4</td>\n",
       "      <td>X</td>\n",
       "      <td>0</td>\n",
       "      <td>Category1</td>\n",
       "      <td>Option3</td>\n",
       "      <td>NaN</td>\n",
       "      <td>8.904326</td>\n",
       "      <td>Yes</td>\n",
       "      <td>Low</td>\n",
       "      <td>dog</td>\n",
       "    </tr>\n",
       "  </tbody>\n",
       "</table>\n",
       "</div>"
      ],
      "text/plain": [
       "      Feature1  Feature2  Feature3 Feature4  Feature5  Feature6  Feature7  \\\n",
       "1554      53.0  0.905705 -0.941962        A       0.0       NaN  0.221015   \n",
       "3819       NaN  0.603749  1.606893        A       0.0     935.0  0.088851   \n",
       "2671      85.0  0.648017  0.220565      NaN       0.0     911.0  0.124543   \n",
       "4389      70.0  0.820083  2.170978      NaN       0.0     963.0  1.314611   \n",
       "4816      44.0  0.297709 -0.553114        D       NaN     732.0  0.006442   \n",
       "\n",
       "      Feature8  Feature9  Feature10  Feature11 Feature12  Feature13  \\\n",
       "1554  1.638550  0.049304        NaN          1         X          0   \n",
       "3819  3.783255 -0.829551        NaN          2         Z          0   \n",
       "2671  4.164549  0.039305   3.133131          1         Z          1   \n",
       "4389  2.103266  0.264566        NaN          1         Y          0   \n",
       "4816  2.024358  0.146985        NaN          4         X          0   \n",
       "\n",
       "      Feature14 Feature15  Feature16  Feature17 Feature18 Feature19  \\\n",
       "1554  Category3   Option1   9.837393   5.996995       Yes       Low   \n",
       "3819  Category2   Option3        NaN   6.018794       Yes    Medium   \n",
       "2671  Category1   Option3  11.509472  12.972834       Yes      High   \n",
       "4389  Category1   Option3   9.277436   5.964480       Yes    Medium   \n",
       "4816  Category1   Option3        NaN   8.904326       Yes       Low   \n",
       "\n",
       "       Feature20  \n",
       "1554         dog  \n",
       "3819  some other  \n",
       "2671         cat  \n",
       "4389         cat  \n",
       "4816         dog  "
      ]
     },
     "execution_count": 12,
     "metadata": {},
     "output_type": "execute_result"
    }
   ],
   "source": [
    "df.sample(5)"
   ]
  },
  {
   "cell_type": "markdown",
   "id": "17ce1747-d178-4363-896e-5c2e21de3b77",
   "metadata": {},
   "source": [
    "**Data Inspection and Exploration**"
   ]
  },
  {
   "cell_type": "markdown",
   "id": "028ab050-2fe6-4ac1-b285-4e3e319d0580",
   "metadata": {},
   "source": [
    "**Shape of the data**"
   ]
  },
  {
   "cell_type": "code",
   "execution_count": 13,
   "id": "abc70d0b-d7d9-4c27-a0f6-00dd7809b7b0",
   "metadata": {
    "tags": []
   },
   "outputs": [
    {
     "data": {
      "text/plain": [
       "(5000, 20)"
      ]
     },
     "execution_count": 13,
     "metadata": {},
     "output_type": "execute_result"
    }
   ],
   "source": [
    "df.shape"
   ]
  },
  {
   "cell_type": "markdown",
   "id": "596763f7-9f94-49aa-bda5-f5b552230ef7",
   "metadata": {},
   "source": [
    "**Info of the data**"
   ]
  },
  {
   "cell_type": "code",
   "execution_count": 14,
   "id": "ed4eb4d7-f08a-4935-8f14-4661da69d63d",
   "metadata": {
    "tags": []
   },
   "outputs": [
    {
     "name": "stdout",
     "output_type": "stream",
     "text": [
      "<class 'pandas.core.frame.DataFrame'>\n",
      "RangeIndex: 5000 entries, 0 to 4999\n",
      "Data columns (total 20 columns):\n",
      " #   Column     Non-Null Count  Dtype  \n",
      "---  ------     --------------  -----  \n",
      " 0   Feature1   2296 non-null   float64\n",
      " 1   Feature2   5000 non-null   float64\n",
      " 2   Feature3   5000 non-null   float64\n",
      " 3   Feature4   3132 non-null   object \n",
      " 4   Feature5   2968 non-null   float64\n",
      " 5   Feature6   3016 non-null   float64\n",
      " 6   Feature7   5000 non-null   float64\n",
      " 7   Feature8   4899 non-null   float64\n",
      " 8   Feature9   5000 non-null   float64\n",
      " 9   Feature10  2164 non-null   float64\n",
      " 10  Feature11  5000 non-null   int64  \n",
      " 11  Feature12  5000 non-null   object \n",
      " 12  Feature13  5000 non-null   int64  \n",
      " 13  Feature14  5000 non-null   object \n",
      " 14  Feature15  5000 non-null   object \n",
      " 15  Feature16  2994 non-null   float64\n",
      " 16  Feature17  5000 non-null   float64\n",
      " 17  Feature18  5000 non-null   object \n",
      " 18  Feature19  4705 non-null   object \n",
      " 19  Feature20  3267 non-null   object \n",
      "dtypes: float64(11), int64(2), object(7)\n",
      "memory usage: 781.4+ KB\n"
     ]
    }
   ],
   "source": [
    "df.info()"
   ]
  },
  {
   "cell_type": "markdown",
   "id": "705bc600-6108-4da9-bd12-ec940cbb7bb1",
   "metadata": {},
   "source": [
    "**Basic Statistics of the data**"
   ]
  },
  {
   "cell_type": "code",
   "execution_count": 15,
   "id": "7c0170d0-bcb7-49d6-90c8-9ae71eb4da7f",
   "metadata": {
    "tags": []
   },
   "outputs": [
    {
     "data": {
      "text/html": [
       "<div>\n",
       "<style scoped>\n",
       "    .dataframe tbody tr th:only-of-type {\n",
       "        vertical-align: middle;\n",
       "    }\n",
       "\n",
       "    .dataframe tbody tr th {\n",
       "        vertical-align: top;\n",
       "    }\n",
       "\n",
       "    .dataframe thead th {\n",
       "        text-align: right;\n",
       "    }\n",
       "</style>\n",
       "<table border=\"1\" class=\"dataframe\">\n",
       "  <thead>\n",
       "    <tr style=\"text-align: right;\">\n",
       "      <th></th>\n",
       "      <th>Feature1</th>\n",
       "      <th>Feature2</th>\n",
       "      <th>Feature3</th>\n",
       "      <th>Feature5</th>\n",
       "      <th>Feature6</th>\n",
       "      <th>Feature7</th>\n",
       "      <th>Feature8</th>\n",
       "      <th>Feature9</th>\n",
       "      <th>Feature10</th>\n",
       "      <th>Feature11</th>\n",
       "      <th>Feature13</th>\n",
       "      <th>Feature16</th>\n",
       "      <th>Feature17</th>\n",
       "    </tr>\n",
       "  </thead>\n",
       "  <tbody>\n",
       "    <tr>\n",
       "      <th>count</th>\n",
       "      <td>2296.000000</td>\n",
       "      <td>5000.000000</td>\n",
       "      <td>5000.000000</td>\n",
       "      <td>2968.000000</td>\n",
       "      <td>3016.000000</td>\n",
       "      <td>5000.000000</td>\n",
       "      <td>4899.000000</td>\n",
       "      <td>5000.000000</td>\n",
       "      <td>2164.000000</td>\n",
       "      <td>5000.000000</td>\n",
       "      <td>5000.000000</td>\n",
       "      <td>2994.000000</td>\n",
       "      <td>5000.000000</td>\n",
       "    </tr>\n",
       "    <tr>\n",
       "      <th>mean</th>\n",
       "      <td>48.102787</td>\n",
       "      <td>0.509843</td>\n",
       "      <td>-0.009058</td>\n",
       "      <td>0.103774</td>\n",
       "      <td>506.703346</td>\n",
       "      <td>0.993603</td>\n",
       "      <td>3.996315</td>\n",
       "      <td>-0.024540</td>\n",
       "      <td>4.998186</td>\n",
       "      <td>4.967800</td>\n",
       "      <td>0.496000</td>\n",
       "      <td>10.042781</td>\n",
       "      <td>9.996307</td>\n",
       "    </tr>\n",
       "    <tr>\n",
       "      <th>std</th>\n",
       "      <td>28.605603</td>\n",
       "      <td>0.322480</td>\n",
       "      <td>1.010739</td>\n",
       "      <td>0.305018</td>\n",
       "      <td>351.183479</td>\n",
       "      <td>0.991321</td>\n",
       "      <td>2.811892</td>\n",
       "      <td>1.829975</td>\n",
       "      <td>2.289341</td>\n",
       "      <td>4.571624</td>\n",
       "      <td>0.674444</td>\n",
       "      <td>1.990496</td>\n",
       "      <td>2.893759</td>\n",
       "    </tr>\n",
       "    <tr>\n",
       "      <th>min</th>\n",
       "      <td>0.000000</td>\n",
       "      <td>-0.476438</td>\n",
       "      <td>-3.644316</td>\n",
       "      <td>0.000000</td>\n",
       "      <td>-538.762910</td>\n",
       "      <td>0.000775</td>\n",
       "      <td>0.033463</td>\n",
       "      <td>-8.516517</td>\n",
       "      <td>-0.215454</td>\n",
       "      <td>1.000000</td>\n",
       "      <td>0.000000</td>\n",
       "      <td>3.627312</td>\n",
       "      <td>5.000292</td>\n",
       "    </tr>\n",
       "    <tr>\n",
       "      <th>25%</th>\n",
       "      <td>24.000000</td>\n",
       "      <td>0.253741</td>\n",
       "      <td>-0.686737</td>\n",
       "      <td>0.000000</td>\n",
       "      <td>220.000000</td>\n",
       "      <td>0.286745</td>\n",
       "      <td>1.905678</td>\n",
       "      <td>-1.124829</td>\n",
       "      <td>3.113014</td>\n",
       "      <td>2.000000</td>\n",
       "      <td>0.000000</td>\n",
       "      <td>8.735518</td>\n",
       "      <td>7.509306</td>\n",
       "    </tr>\n",
       "    <tr>\n",
       "      <th>50%</th>\n",
       "      <td>47.000000</td>\n",
       "      <td>0.513507</td>\n",
       "      <td>-0.017156</td>\n",
       "      <td>0.000000</td>\n",
       "      <td>507.679700</td>\n",
       "      <td>0.702917</td>\n",
       "      <td>3.360472</td>\n",
       "      <td>0.008667</td>\n",
       "      <td>4.936186</td>\n",
       "      <td>4.000000</td>\n",
       "      <td>0.000000</td>\n",
       "      <td>10.038727</td>\n",
       "      <td>10.026013</td>\n",
       "    </tr>\n",
       "    <tr>\n",
       "      <th>75%</th>\n",
       "      <td>72.000000</td>\n",
       "      <td>0.770195</td>\n",
       "      <td>0.688604</td>\n",
       "      <td>0.000000</td>\n",
       "      <td>784.000000</td>\n",
       "      <td>1.376030</td>\n",
       "      <td>5.380483</td>\n",
       "      <td>1.107796</td>\n",
       "      <td>6.175253</td>\n",
       "      <td>7.000000</td>\n",
       "      <td>1.000000</td>\n",
       "      <td>11.385440</td>\n",
       "      <td>12.485023</td>\n",
       "    </tr>\n",
       "    <tr>\n",
       "      <th>max</th>\n",
       "      <td>99.000000</td>\n",
       "      <td>1.497998</td>\n",
       "      <td>3.422062</td>\n",
       "      <td>1.000000</td>\n",
       "      <td>1543.622087</td>\n",
       "      <td>8.843108</td>\n",
       "      <td>22.813462</td>\n",
       "      <td>9.915071</td>\n",
       "      <td>14.060631</td>\n",
       "      <td>46.000000</td>\n",
       "      <td>2.000000</td>\n",
       "      <td>17.012344</td>\n",
       "      <td>14.999633</td>\n",
       "    </tr>\n",
       "  </tbody>\n",
       "</table>\n",
       "</div>"
      ],
      "text/plain": [
       "          Feature1     Feature2     Feature3     Feature5     Feature6  \\\n",
       "count  2296.000000  5000.000000  5000.000000  2968.000000  3016.000000   \n",
       "mean     48.102787     0.509843    -0.009058     0.103774   506.703346   \n",
       "std      28.605603     0.322480     1.010739     0.305018   351.183479   \n",
       "min       0.000000    -0.476438    -3.644316     0.000000  -538.762910   \n",
       "25%      24.000000     0.253741    -0.686737     0.000000   220.000000   \n",
       "50%      47.000000     0.513507    -0.017156     0.000000   507.679700   \n",
       "75%      72.000000     0.770195     0.688604     0.000000   784.000000   \n",
       "max      99.000000     1.497998     3.422062     1.000000  1543.622087   \n",
       "\n",
       "          Feature7     Feature8     Feature9    Feature10    Feature11  \\\n",
       "count  5000.000000  4899.000000  5000.000000  2164.000000  5000.000000   \n",
       "mean      0.993603     3.996315    -0.024540     4.998186     4.967800   \n",
       "std       0.991321     2.811892     1.829975     2.289341     4.571624   \n",
       "min       0.000775     0.033463    -8.516517    -0.215454     1.000000   \n",
       "25%       0.286745     1.905678    -1.124829     3.113014     2.000000   \n",
       "50%       0.702917     3.360472     0.008667     4.936186     4.000000   \n",
       "75%       1.376030     5.380483     1.107796     6.175253     7.000000   \n",
       "max       8.843108    22.813462     9.915071    14.060631    46.000000   \n",
       "\n",
       "         Feature13    Feature16    Feature17  \n",
       "count  5000.000000  2994.000000  5000.000000  \n",
       "mean      0.496000    10.042781     9.996307  \n",
       "std       0.674444     1.990496     2.893759  \n",
       "min       0.000000     3.627312     5.000292  \n",
       "25%       0.000000     8.735518     7.509306  \n",
       "50%       0.000000    10.038727    10.026013  \n",
       "75%       1.000000    11.385440    12.485023  \n",
       "max       2.000000    17.012344    14.999633  "
      ]
     },
     "execution_count": 15,
     "metadata": {},
     "output_type": "execute_result"
    }
   ],
   "source": [
    "df.describe()"
   ]
  },
  {
   "cell_type": "code",
   "execution_count": 16,
   "id": "d9eb097c-5ad8-49fb-b692-987cf308a0fd",
   "metadata": {
    "tags": []
   },
   "outputs": [
    {
     "data": {
      "text/plain": [
       "48.102787456445995"
      ]
     },
     "execution_count": 16,
     "metadata": {},
     "output_type": "execute_result"
    }
   ],
   "source": [
    "df.Feature1.mean()"
   ]
  },
  {
   "cell_type": "code",
   "execution_count": 17,
   "id": "859e3b29-6cee-4e44-a871-e31ffc0f0c8e",
   "metadata": {
    "tags": []
   },
   "outputs": [
    {
     "data": {
      "text/plain": [
       "0    6.0\n",
       "Name: Feature1, dtype: float64"
      ]
     },
     "execution_count": 17,
     "metadata": {},
     "output_type": "execute_result"
    }
   ],
   "source": [
    "df.Feature1.mode()"
   ]
  },
  {
   "cell_type": "markdown",
   "id": "639f01a4-c3d8-46e5-be37-a8b3377b2096",
   "metadata": {},
   "source": [
    "**Accessing Columns**"
   ]
  },
  {
   "cell_type": "code",
   "execution_count": 18,
   "id": "896d21c0-9f24-4bea-bdc7-cf0adacc6f97",
   "metadata": {
    "tags": []
   },
   "outputs": [
    {
     "data": {
      "text/plain": [
       "0       44.0\n",
       "1       47.0\n",
       "2       64.0\n",
       "3       67.0\n",
       "4        NaN\n",
       "        ... \n",
       "4995     NaN\n",
       "4996     NaN\n",
       "4997    92.0\n",
       "4998    91.0\n",
       "4999     NaN\n",
       "Name: Feature1, Length: 5000, dtype: float64"
      ]
     },
     "execution_count": 18,
     "metadata": {},
     "output_type": "execute_result"
    }
   ],
   "source": [
    "df.Feature1"
   ]
  },
  {
   "cell_type": "code",
   "execution_count": 19,
   "id": "67958403-4ac1-43e0-a99e-561be687ca54",
   "metadata": {
    "tags": []
   },
   "outputs": [
    {
     "data": {
      "text/plain": [
       "0       44.0\n",
       "1       47.0\n",
       "2       64.0\n",
       "3       67.0\n",
       "4        NaN\n",
       "        ... \n",
       "4995     NaN\n",
       "4996     NaN\n",
       "4997    92.0\n",
       "4998    91.0\n",
       "4999     NaN\n",
       "Name: Feature1, Length: 5000, dtype: float64"
      ]
     },
     "execution_count": 19,
     "metadata": {},
     "output_type": "execute_result"
    }
   ],
   "source": [
    "df['Feature1']"
   ]
  },
  {
   "cell_type": "markdown",
   "id": "f8c59f6b-3bde-45fb-aa2d-2cca5b7f2067",
   "metadata": {},
   "source": [
    "**Finding no.of unique values from each column**"
   ]
  },
  {
   "cell_type": "code",
   "execution_count": 20,
   "id": "e883aa58-6b18-4697-8fbc-67457489e76b",
   "metadata": {
    "tags": []
   },
   "outputs": [
    {
     "data": {
      "text/plain": [
       "Feature1      100\n",
       "Feature2     5000\n",
       "Feature3     5000\n",
       "Feature4        4\n",
       "Feature5        2\n",
       "Feature6     1329\n",
       "Feature7     5000\n",
       "Feature8     4899\n",
       "Feature9     5000\n",
       "Feature10    2164\n",
       "Feature11      38\n",
       "Feature12       3\n",
       "Feature13       3\n",
       "Feature14       3\n",
       "Feature15       4\n",
       "Feature16    2994\n",
       "Feature17    5000\n",
       "Feature18       2\n",
       "Feature19       3\n",
       "Feature20       3\n",
       "dtype: int64"
      ]
     },
     "execution_count": 20,
     "metadata": {},
     "output_type": "execute_result"
    }
   ],
   "source": [
    "df.nunique()"
   ]
  },
  {
   "cell_type": "markdown",
   "id": "d2b1bd99-953f-44c8-936b-5bab5f84058c",
   "metadata": {},
   "source": [
    "**Finding the count of unique values from each column**"
   ]
  },
  {
   "cell_type": "code",
   "execution_count": 21,
   "id": "b2d65aef-c1cb-4f2e-a68b-e36b913831c7",
   "metadata": {
    "tags": []
   },
   "outputs": [
    {
     "data": {
      "text/plain": [
       "Feature1  Feature2  Feature3   Feature4  Feature5  Feature6  Feature7  Feature8  Feature9   Feature10  Feature11  Feature12  Feature13  Feature14  Feature15  Feature16  Feature17  Feature18  Feature19  Feature20 \n",
       "0.0       0.563260   0.753472  B         0.0       74.0      2.356553  0.675190   0.444303  4.795679   1          X          1          Category1  Option3    6.772444   5.695737   Yes        Low        some other    1\n",
       "          0.849989   0.302729  C         1.0       171.0     0.113641  2.519976   1.457208  4.091374   2          Z          1          Category2  Option4    9.098511   13.142023  Yes        Low        cat           1\n",
       "48.0      0.088109  -0.442593  C         0.0       15.0      0.028802  1.801517   1.555430  3.044977   1          Z          0          Category1  Option2    12.065016  7.913312   Yes        Medium     dog           1\n",
       "          0.772593  -0.480567  B         0.0       982.0     1.583906  4.432881  -0.079966  4.110908   3          Z          2          Category2  Option4    9.208900   11.566154  Yes        High       dog           1\n",
       "51.0      0.705771   1.926300  B         0.0       482.0     1.713838  4.415530   0.155362  5.932224   1          Z          2          Category1  Option4    7.815904   7.482995   Yes        High       cat           1\n",
       "dtype: int64"
      ]
     },
     "execution_count": 21,
     "metadata": {},
     "output_type": "execute_result"
    }
   ],
   "source": [
    "df.value_counts().head(5)"
   ]
  },
  {
   "cell_type": "markdown",
   "id": "e6c0f71f-aaac-42f3-a011-fa02c4667266",
   "metadata": {},
   "source": [
    "**Selecting Columns and Rows**"
   ]
  },
  {
   "cell_type": "markdown",
   "id": "8bc66e35-52bc-481d-b18a-4981597f1967",
   "metadata": {},
   "source": [
    "**Using squared brackets [ ]:**"
   ]
  },
  {
   "cell_type": "code",
   "execution_count": 22,
   "id": "b5ffc540-5233-463c-bcf7-ae506b1b99aa",
   "metadata": {
    "tags": []
   },
   "outputs": [],
   "source": [
    "categorical_data = df[['Feature12','Feature14','Feature15','Feature18','Feature19','Feature20']]"
   ]
  },
  {
   "cell_type": "code",
   "execution_count": 23,
   "id": "758ceb56-8171-49df-9aa5-8590b4ce16b5",
   "metadata": {
    "tags": []
   },
   "outputs": [
    {
     "data": {
      "text/html": [
       "<div>\n",
       "<style scoped>\n",
       "    .dataframe tbody tr th:only-of-type {\n",
       "        vertical-align: middle;\n",
       "    }\n",
       "\n",
       "    .dataframe tbody tr th {\n",
       "        vertical-align: top;\n",
       "    }\n",
       "\n",
       "    .dataframe thead th {\n",
       "        text-align: right;\n",
       "    }\n",
       "</style>\n",
       "<table border=\"1\" class=\"dataframe\">\n",
       "  <thead>\n",
       "    <tr style=\"text-align: right;\">\n",
       "      <th></th>\n",
       "      <th>Feature12</th>\n",
       "      <th>Feature14</th>\n",
       "      <th>Feature15</th>\n",
       "      <th>Feature18</th>\n",
       "      <th>Feature19</th>\n",
       "      <th>Feature20</th>\n",
       "    </tr>\n",
       "  </thead>\n",
       "  <tbody>\n",
       "    <tr>\n",
       "      <th>0</th>\n",
       "      <td>X</td>\n",
       "      <td>Category1</td>\n",
       "      <td>Option4</td>\n",
       "      <td>Yes</td>\n",
       "      <td>Low</td>\n",
       "      <td>NaN</td>\n",
       "    </tr>\n",
       "    <tr>\n",
       "      <th>1</th>\n",
       "      <td>X</td>\n",
       "      <td>Category1</td>\n",
       "      <td>Option2</td>\n",
       "      <td>Yes</td>\n",
       "      <td>Low</td>\n",
       "      <td>cat</td>\n",
       "    </tr>\n",
       "    <tr>\n",
       "      <th>2</th>\n",
       "      <td>Z</td>\n",
       "      <td>Category1</td>\n",
       "      <td>Option2</td>\n",
       "      <td>Yes</td>\n",
       "      <td>Medium</td>\n",
       "      <td>dog</td>\n",
       "    </tr>\n",
       "    <tr>\n",
       "      <th>3</th>\n",
       "      <td>X</td>\n",
       "      <td>Category1</td>\n",
       "      <td>Option2</td>\n",
       "      <td>Yes</td>\n",
       "      <td>Low</td>\n",
       "      <td>cat</td>\n",
       "    </tr>\n",
       "    <tr>\n",
       "      <th>4</th>\n",
       "      <td>Z</td>\n",
       "      <td>Category1</td>\n",
       "      <td>Option3</td>\n",
       "      <td>Yes</td>\n",
       "      <td>Low</td>\n",
       "      <td>cat</td>\n",
       "    </tr>\n",
       "  </tbody>\n",
       "</table>\n",
       "</div>"
      ],
      "text/plain": [
       "  Feature12  Feature14 Feature15 Feature18 Feature19 Feature20\n",
       "0         X  Category1   Option4       Yes       Low       NaN\n",
       "1         X  Category1   Option2       Yes       Low       cat\n",
       "2         Z  Category1   Option2       Yes    Medium       dog\n",
       "3         X  Category1   Option2       Yes       Low       cat\n",
       "4         Z  Category1   Option3       Yes       Low       cat"
      ]
     },
     "execution_count": 23,
     "metadata": {},
     "output_type": "execute_result"
    }
   ],
   "source": [
    "categorical_data.head(5)"
   ]
  },
  {
   "cell_type": "markdown",
   "id": "5534a96c-3279-4404-9800-9b1ac8bc8f11",
   "metadata": {},
   "source": [
    "**Using .loc[]**"
   ]
  },
  {
   "cell_type": "code",
   "execution_count": 24,
   "id": "a8df7358-f756-4fc9-8a6c-d818122274ff",
   "metadata": {
    "tags": []
   },
   "outputs": [
    {
     "data": {
      "text/plain": [
       "49.0"
      ]
     },
     "execution_count": 24,
     "metadata": {},
     "output_type": "execute_result"
    }
   ],
   "source": [
    "df.loc[100,'Feature1']"
   ]
  },
  {
   "cell_type": "markdown",
   "id": "c6dc2e0a-6d00-46f2-b7d8-fda95464047c",
   "metadata": {},
   "source": [
    "**Check Missing Data in a Column**"
   ]
  },
  {
   "cell_type": "code",
   "execution_count": 25,
   "id": "4aeffeb1-8bfe-46a1-aa6a-aeacdb77e493",
   "metadata": {
    "tags": []
   },
   "outputs": [
    {
     "data": {
      "text/html": [
       "<div>\n",
       "<style scoped>\n",
       "    .dataframe tbody tr th:only-of-type {\n",
       "        vertical-align: middle;\n",
       "    }\n",
       "\n",
       "    .dataframe tbody tr th {\n",
       "        vertical-align: top;\n",
       "    }\n",
       "\n",
       "    .dataframe thead th {\n",
       "        text-align: right;\n",
       "    }\n",
       "</style>\n",
       "<table border=\"1\" class=\"dataframe\">\n",
       "  <thead>\n",
       "    <tr style=\"text-align: right;\">\n",
       "      <th></th>\n",
       "      <th>Feature1</th>\n",
       "      <th>Feature2</th>\n",
       "      <th>Feature3</th>\n",
       "      <th>Feature4</th>\n",
       "      <th>Feature5</th>\n",
       "      <th>Feature6</th>\n",
       "      <th>Feature7</th>\n",
       "      <th>Feature8</th>\n",
       "      <th>Feature9</th>\n",
       "      <th>Feature10</th>\n",
       "      <th>Feature11</th>\n",
       "      <th>Feature12</th>\n",
       "      <th>Feature13</th>\n",
       "      <th>Feature14</th>\n",
       "      <th>Feature15</th>\n",
       "      <th>Feature16</th>\n",
       "      <th>Feature17</th>\n",
       "      <th>Feature18</th>\n",
       "      <th>Feature19</th>\n",
       "      <th>Feature20</th>\n",
       "    </tr>\n",
       "  </thead>\n",
       "  <tbody>\n",
       "    <tr>\n",
       "      <th>0</th>\n",
       "      <td>False</td>\n",
       "      <td>False</td>\n",
       "      <td>False</td>\n",
       "      <td>True</td>\n",
       "      <td>True</td>\n",
       "      <td>False</td>\n",
       "      <td>False</td>\n",
       "      <td>False</td>\n",
       "      <td>False</td>\n",
       "      <td>True</td>\n",
       "      <td>False</td>\n",
       "      <td>False</td>\n",
       "      <td>False</td>\n",
       "      <td>False</td>\n",
       "      <td>False</td>\n",
       "      <td>False</td>\n",
       "      <td>False</td>\n",
       "      <td>False</td>\n",
       "      <td>False</td>\n",
       "      <td>True</td>\n",
       "    </tr>\n",
       "    <tr>\n",
       "      <th>1</th>\n",
       "      <td>False</td>\n",
       "      <td>False</td>\n",
       "      <td>False</td>\n",
       "      <td>False</td>\n",
       "      <td>True</td>\n",
       "      <td>True</td>\n",
       "      <td>False</td>\n",
       "      <td>False</td>\n",
       "      <td>False</td>\n",
       "      <td>True</td>\n",
       "      <td>False</td>\n",
       "      <td>False</td>\n",
       "      <td>False</td>\n",
       "      <td>False</td>\n",
       "      <td>False</td>\n",
       "      <td>True</td>\n",
       "      <td>False</td>\n",
       "      <td>False</td>\n",
       "      <td>False</td>\n",
       "      <td>False</td>\n",
       "    </tr>\n",
       "    <tr>\n",
       "      <th>2</th>\n",
       "      <td>False</td>\n",
       "      <td>False</td>\n",
       "      <td>False</td>\n",
       "      <td>False</td>\n",
       "      <td>False</td>\n",
       "      <td>False</td>\n",
       "      <td>False</td>\n",
       "      <td>False</td>\n",
       "      <td>False</td>\n",
       "      <td>True</td>\n",
       "      <td>False</td>\n",
       "      <td>False</td>\n",
       "      <td>False</td>\n",
       "      <td>False</td>\n",
       "      <td>False</td>\n",
       "      <td>True</td>\n",
       "      <td>False</td>\n",
       "      <td>False</td>\n",
       "      <td>False</td>\n",
       "      <td>False</td>\n",
       "    </tr>\n",
       "    <tr>\n",
       "      <th>3</th>\n",
       "      <td>False</td>\n",
       "      <td>False</td>\n",
       "      <td>False</td>\n",
       "      <td>False</td>\n",
       "      <td>True</td>\n",
       "      <td>False</td>\n",
       "      <td>False</td>\n",
       "      <td>False</td>\n",
       "      <td>False</td>\n",
       "      <td>False</td>\n",
       "      <td>False</td>\n",
       "      <td>False</td>\n",
       "      <td>False</td>\n",
       "      <td>False</td>\n",
       "      <td>False</td>\n",
       "      <td>True</td>\n",
       "      <td>False</td>\n",
       "      <td>False</td>\n",
       "      <td>False</td>\n",
       "      <td>False</td>\n",
       "    </tr>\n",
       "    <tr>\n",
       "      <th>4</th>\n",
       "      <td>True</td>\n",
       "      <td>False</td>\n",
       "      <td>False</td>\n",
       "      <td>True</td>\n",
       "      <td>False</td>\n",
       "      <td>True</td>\n",
       "      <td>False</td>\n",
       "      <td>False</td>\n",
       "      <td>False</td>\n",
       "      <td>False</td>\n",
       "      <td>False</td>\n",
       "      <td>False</td>\n",
       "      <td>False</td>\n",
       "      <td>False</td>\n",
       "      <td>False</td>\n",
       "      <td>False</td>\n",
       "      <td>False</td>\n",
       "      <td>False</td>\n",
       "      <td>False</td>\n",
       "      <td>False</td>\n",
       "    </tr>\n",
       "    <tr>\n",
       "      <th>...</th>\n",
       "      <td>...</td>\n",
       "      <td>...</td>\n",
       "      <td>...</td>\n",
       "      <td>...</td>\n",
       "      <td>...</td>\n",
       "      <td>...</td>\n",
       "      <td>...</td>\n",
       "      <td>...</td>\n",
       "      <td>...</td>\n",
       "      <td>...</td>\n",
       "      <td>...</td>\n",
       "      <td>...</td>\n",
       "      <td>...</td>\n",
       "      <td>...</td>\n",
       "      <td>...</td>\n",
       "      <td>...</td>\n",
       "      <td>...</td>\n",
       "      <td>...</td>\n",
       "      <td>...</td>\n",
       "      <td>...</td>\n",
       "    </tr>\n",
       "    <tr>\n",
       "      <th>4995</th>\n",
       "      <td>True</td>\n",
       "      <td>False</td>\n",
       "      <td>False</td>\n",
       "      <td>False</td>\n",
       "      <td>False</td>\n",
       "      <td>True</td>\n",
       "      <td>False</td>\n",
       "      <td>False</td>\n",
       "      <td>False</td>\n",
       "      <td>True</td>\n",
       "      <td>False</td>\n",
       "      <td>False</td>\n",
       "      <td>False</td>\n",
       "      <td>False</td>\n",
       "      <td>False</td>\n",
       "      <td>True</td>\n",
       "      <td>False</td>\n",
       "      <td>False</td>\n",
       "      <td>False</td>\n",
       "      <td>True</td>\n",
       "    </tr>\n",
       "    <tr>\n",
       "      <th>4996</th>\n",
       "      <td>True</td>\n",
       "      <td>False</td>\n",
       "      <td>False</td>\n",
       "      <td>False</td>\n",
       "      <td>False</td>\n",
       "      <td>True</td>\n",
       "      <td>False</td>\n",
       "      <td>False</td>\n",
       "      <td>False</td>\n",
       "      <td>True</td>\n",
       "      <td>False</td>\n",
       "      <td>False</td>\n",
       "      <td>False</td>\n",
       "      <td>False</td>\n",
       "      <td>False</td>\n",
       "      <td>False</td>\n",
       "      <td>False</td>\n",
       "      <td>False</td>\n",
       "      <td>False</td>\n",
       "      <td>True</td>\n",
       "    </tr>\n",
       "    <tr>\n",
       "      <th>4997</th>\n",
       "      <td>False</td>\n",
       "      <td>False</td>\n",
       "      <td>False</td>\n",
       "      <td>False</td>\n",
       "      <td>True</td>\n",
       "      <td>False</td>\n",
       "      <td>False</td>\n",
       "      <td>False</td>\n",
       "      <td>False</td>\n",
       "      <td>False</td>\n",
       "      <td>False</td>\n",
       "      <td>False</td>\n",
       "      <td>False</td>\n",
       "      <td>False</td>\n",
       "      <td>False</td>\n",
       "      <td>False</td>\n",
       "      <td>False</td>\n",
       "      <td>False</td>\n",
       "      <td>False</td>\n",
       "      <td>True</td>\n",
       "    </tr>\n",
       "    <tr>\n",
       "      <th>4998</th>\n",
       "      <td>False</td>\n",
       "      <td>False</td>\n",
       "      <td>False</td>\n",
       "      <td>False</td>\n",
       "      <td>False</td>\n",
       "      <td>False</td>\n",
       "      <td>False</td>\n",
       "      <td>False</td>\n",
       "      <td>False</td>\n",
       "      <td>False</td>\n",
       "      <td>False</td>\n",
       "      <td>False</td>\n",
       "      <td>False</td>\n",
       "      <td>False</td>\n",
       "      <td>False</td>\n",
       "      <td>False</td>\n",
       "      <td>False</td>\n",
       "      <td>False</td>\n",
       "      <td>False</td>\n",
       "      <td>False</td>\n",
       "    </tr>\n",
       "    <tr>\n",
       "      <th>4999</th>\n",
       "      <td>True</td>\n",
       "      <td>False</td>\n",
       "      <td>False</td>\n",
       "      <td>True</td>\n",
       "      <td>False</td>\n",
       "      <td>True</td>\n",
       "      <td>False</td>\n",
       "      <td>False</td>\n",
       "      <td>False</td>\n",
       "      <td>False</td>\n",
       "      <td>False</td>\n",
       "      <td>False</td>\n",
       "      <td>False</td>\n",
       "      <td>False</td>\n",
       "      <td>False</td>\n",
       "      <td>False</td>\n",
       "      <td>False</td>\n",
       "      <td>False</td>\n",
       "      <td>False</td>\n",
       "      <td>False</td>\n",
       "    </tr>\n",
       "  </tbody>\n",
       "</table>\n",
       "<p>5000 rows × 20 columns</p>\n",
       "</div>"
      ],
      "text/plain": [
       "      Feature1  Feature2  Feature3  Feature4  Feature5  Feature6  Feature7  \\\n",
       "0        False     False     False      True      True     False     False   \n",
       "1        False     False     False     False      True      True     False   \n",
       "2        False     False     False     False     False     False     False   \n",
       "3        False     False     False     False      True     False     False   \n",
       "4         True     False     False      True     False      True     False   \n",
       "...        ...       ...       ...       ...       ...       ...       ...   \n",
       "4995      True     False     False     False     False      True     False   \n",
       "4996      True     False     False     False     False      True     False   \n",
       "4997     False     False     False     False      True     False     False   \n",
       "4998     False     False     False     False     False     False     False   \n",
       "4999      True     False     False      True     False      True     False   \n",
       "\n",
       "      Feature8  Feature9  Feature10  Feature11  Feature12  Feature13  \\\n",
       "0        False     False       True      False      False      False   \n",
       "1        False     False       True      False      False      False   \n",
       "2        False     False       True      False      False      False   \n",
       "3        False     False      False      False      False      False   \n",
       "4        False     False      False      False      False      False   \n",
       "...        ...       ...        ...        ...        ...        ...   \n",
       "4995     False     False       True      False      False      False   \n",
       "4996     False     False       True      False      False      False   \n",
       "4997     False     False      False      False      False      False   \n",
       "4998     False     False      False      False      False      False   \n",
       "4999     False     False      False      False      False      False   \n",
       "\n",
       "      Feature14  Feature15  Feature16  Feature17  Feature18  Feature19  \\\n",
       "0         False      False      False      False      False      False   \n",
       "1         False      False       True      False      False      False   \n",
       "2         False      False       True      False      False      False   \n",
       "3         False      False       True      False      False      False   \n",
       "4         False      False      False      False      False      False   \n",
       "...         ...        ...        ...        ...        ...        ...   \n",
       "4995      False      False       True      False      False      False   \n",
       "4996      False      False      False      False      False      False   \n",
       "4997      False      False      False      False      False      False   \n",
       "4998      False      False      False      False      False      False   \n",
       "4999      False      False      False      False      False      False   \n",
       "\n",
       "      Feature20  \n",
       "0          True  \n",
       "1         False  \n",
       "2         False  \n",
       "3         False  \n",
       "4         False  \n",
       "...         ...  \n",
       "4995       True  \n",
       "4996       True  \n",
       "4997       True  \n",
       "4998      False  \n",
       "4999      False  \n",
       "\n",
       "[5000 rows x 20 columns]"
      ]
     },
     "execution_count": 25,
     "metadata": {},
     "output_type": "execute_result"
    }
   ],
   "source": [
    "df.isna()"
   ]
  },
  {
   "cell_type": "markdown",
   "id": "8f0a2c16-53d8-40ba-8382-8f6dff16eabf",
   "metadata": {},
   "source": [
    "**Find the count of missing values in each column**"
   ]
  },
  {
   "cell_type": "code",
   "execution_count": 26,
   "id": "a7f5b84e-b009-4dd4-bd18-4dba6a708da8",
   "metadata": {
    "tags": []
   },
   "outputs": [
    {
     "data": {
      "text/plain": [
       "Feature1     2704\n",
       "Feature2        0\n",
       "Feature3        0\n",
       "Feature4     1868\n",
       "Feature5     2032\n",
       "Feature6     1984\n",
       "Feature7        0\n",
       "Feature8      101\n",
       "Feature9        0\n",
       "Feature10    2836\n",
       "Feature11       0\n",
       "Feature12       0\n",
       "Feature13       0\n",
       "Feature14       0\n",
       "Feature15       0\n",
       "Feature16    2006\n",
       "Feature17       0\n",
       "Feature18       0\n",
       "Feature19     295\n",
       "Feature20    1733\n",
       "dtype: int64"
      ]
     },
     "execution_count": 26,
     "metadata": {},
     "output_type": "execute_result"
    }
   ],
   "source": [
    "df.isna().sum()"
   ]
  },
  {
   "cell_type": "code",
   "execution_count": 27,
   "id": "51dafb36-903d-4344-a7c2-7f34dd27ac02",
   "metadata": {
    "tags": []
   },
   "outputs": [
    {
     "data": {
      "text/plain": [
       "2032"
      ]
     },
     "execution_count": 27,
     "metadata": {},
     "output_type": "execute_result"
    }
   ],
   "source": [
    "#to check the missing data count for one column\n",
    "df.Feature5 .isna().sum()"
   ]
  },
  {
   "cell_type": "markdown",
   "id": "185991af-2090-4433-9a6c-9d0f791942ff",
   "metadata": {},
   "source": [
    "**Filling the missing Data**"
   ]
  },
  {
   "cell_type": "code",
   "execution_count": 28,
   "id": "a670ec2d-3058-40e5-9e74-6d275350ca33",
   "metadata": {
    "tags": []
   },
   "outputs": [
    {
     "data": {
      "text/plain": [
       "'cat'"
      ]
     },
     "execution_count": 28,
     "metadata": {},
     "output_type": "execute_result"
    }
   ],
   "source": [
    "most_repeated = df['Feature20'].mode()[0]\n",
    "most_repeated"
   ]
  },
  {
   "cell_type": "code",
   "execution_count": 29,
   "id": "20a475e9-9487-4592-8bf4-0b4aff1a3036",
   "metadata": {
    "tags": []
   },
   "outputs": [],
   "source": [
    "df['Feature20'].fillna(most_repeated,inplace=True)"
   ]
  },
  {
   "cell_type": "code",
   "execution_count": 30,
   "id": "fc243aaa-f2b7-472e-b1a0-2200c4e98633",
   "metadata": {
    "tags": []
   },
   "outputs": [
    {
     "data": {
      "text/plain": [
       "Feature1     2704\n",
       "Feature2        0\n",
       "Feature3        0\n",
       "Feature4     1868\n",
       "Feature5     2032\n",
       "Feature6     1984\n",
       "Feature7        0\n",
       "Feature8      101\n",
       "Feature9        0\n",
       "Feature10    2836\n",
       "Feature11       0\n",
       "Feature12       0\n",
       "Feature13       0\n",
       "Feature14       0\n",
       "Feature15       0\n",
       "Feature16    2006\n",
       "Feature17       0\n",
       "Feature18       0\n",
       "Feature19     295\n",
       "Feature20       0\n",
       "dtype: int64"
      ]
     },
     "execution_count": 30,
     "metadata": {},
     "output_type": "execute_result"
    }
   ],
   "source": [
    "df.isna().sum()"
   ]
  },
  {
   "cell_type": "markdown",
   "id": "bd34d9c1-9b85-4bb5-a138-d7d5cc25acf6",
   "metadata": {},
   "source": [
    "**Finding Duplicates using .duplicated**"
   ]
  },
  {
   "cell_type": "code",
   "execution_count": 31,
   "id": "ccd41d11-35c8-41ed-ab54-ef4571983ccb",
   "metadata": {
    "tags": []
   },
   "outputs": [
    {
     "data": {
      "text/plain": [
       "0"
      ]
     },
     "execution_count": 31,
     "metadata": {},
     "output_type": "execute_result"
    }
   ],
   "source": [
    "df.duplicated().sum()"
   ]
  },
  {
   "cell_type": "code",
   "execution_count": 32,
   "id": "3d1bcf56-53d3-4967-aea2-85e159a61333",
   "metadata": {
    "tags": []
   },
   "outputs": [
    {
     "data": {
      "text/html": [
       "<div>\n",
       "<style scoped>\n",
       "    .dataframe tbody tr th:only-of-type {\n",
       "        vertical-align: middle;\n",
       "    }\n",
       "\n",
       "    .dataframe tbody tr th {\n",
       "        vertical-align: top;\n",
       "    }\n",
       "\n",
       "    .dataframe thead th {\n",
       "        text-align: right;\n",
       "    }\n",
       "</style>\n",
       "<table border=\"1\" class=\"dataframe\">\n",
       "  <thead>\n",
       "    <tr style=\"text-align: right;\">\n",
       "      <th></th>\n",
       "      <th>Feature1</th>\n",
       "      <th>Feature2</th>\n",
       "      <th>Feature3</th>\n",
       "      <th>Feature4</th>\n",
       "      <th>Feature5</th>\n",
       "      <th>Feature6</th>\n",
       "      <th>Feature7</th>\n",
       "      <th>Feature8</th>\n",
       "      <th>Feature9</th>\n",
       "      <th>Feature10</th>\n",
       "      <th>Feature11</th>\n",
       "      <th>Feature12</th>\n",
       "      <th>Feature13</th>\n",
       "      <th>Feature14</th>\n",
       "      <th>Feature15</th>\n",
       "      <th>Feature16</th>\n",
       "      <th>Feature17</th>\n",
       "      <th>Feature18</th>\n",
       "      <th>Feature19</th>\n",
       "      <th>Feature20</th>\n",
       "    </tr>\n",
       "  </thead>\n",
       "  <tbody>\n",
       "    <tr>\n",
       "      <th>0</th>\n",
       "      <td>44.0</td>\n",
       "      <td>0.797417</td>\n",
       "      <td>-0.958091</td>\n",
       "      <td>NaN</td>\n",
       "      <td>NaN</td>\n",
       "      <td>158.0</td>\n",
       "      <td>1.490148</td>\n",
       "      <td>5.166124</td>\n",
       "      <td>2.277942</td>\n",
       "      <td>NaN</td>\n",
       "      <td>5</td>\n",
       "      <td>X</td>\n",
       "      <td>1</td>\n",
       "      <td>Category1</td>\n",
       "      <td>Option4</td>\n",
       "      <td>8.824345</td>\n",
       "      <td>11.711130</td>\n",
       "      <td>Yes</td>\n",
       "      <td>Low</td>\n",
       "      <td>cat</td>\n",
       "    </tr>\n",
       "    <tr>\n",
       "      <th>1</th>\n",
       "      <td>47.0</td>\n",
       "      <td>0.026838</td>\n",
       "      <td>-0.244178</td>\n",
       "      <td>D</td>\n",
       "      <td>NaN</td>\n",
       "      <td>NaN</td>\n",
       "      <td>2.151535</td>\n",
       "      <td>0.450312</td>\n",
       "      <td>-3.395356</td>\n",
       "      <td>NaN</td>\n",
       "      <td>3</td>\n",
       "      <td>X</td>\n",
       "      <td>0</td>\n",
       "      <td>Category1</td>\n",
       "      <td>Option2</td>\n",
       "      <td>NaN</td>\n",
       "      <td>13.355832</td>\n",
       "      <td>Yes</td>\n",
       "      <td>Low</td>\n",
       "      <td>cat</td>\n",
       "    </tr>\n",
       "    <tr>\n",
       "      <th>2</th>\n",
       "      <td>64.0</td>\n",
       "      <td>0.199990</td>\n",
       "      <td>-1.014799</td>\n",
       "      <td>B</td>\n",
       "      <td>0.0</td>\n",
       "      <td>474.0</td>\n",
       "      <td>1.410613</td>\n",
       "      <td>6.786555</td>\n",
       "      <td>-3.070746</td>\n",
       "      <td>NaN</td>\n",
       "      <td>7</td>\n",
       "      <td>Z</td>\n",
       "      <td>0</td>\n",
       "      <td>Category1</td>\n",
       "      <td>Option2</td>\n",
       "      <td>NaN</td>\n",
       "      <td>13.449484</td>\n",
       "      <td>Yes</td>\n",
       "      <td>Medium</td>\n",
       "      <td>dog</td>\n",
       "    </tr>\n",
       "    <tr>\n",
       "      <th>3</th>\n",
       "      <td>67.0</td>\n",
       "      <td>0.474124</td>\n",
       "      <td>0.448040</td>\n",
       "      <td>B</td>\n",
       "      <td>NaN</td>\n",
       "      <td>166.0</td>\n",
       "      <td>0.635091</td>\n",
       "      <td>1.937158</td>\n",
       "      <td>-0.246269</td>\n",
       "      <td>6.004975</td>\n",
       "      <td>20</td>\n",
       "      <td>X</td>\n",
       "      <td>0</td>\n",
       "      <td>Category1</td>\n",
       "      <td>Option2</td>\n",
       "      <td>NaN</td>\n",
       "      <td>7.687652</td>\n",
       "      <td>Yes</td>\n",
       "      <td>Low</td>\n",
       "      <td>cat</td>\n",
       "    </tr>\n",
       "    <tr>\n",
       "      <th>4</th>\n",
       "      <td>NaN</td>\n",
       "      <td>0.598516</td>\n",
       "      <td>0.087839</td>\n",
       "      <td>NaN</td>\n",
       "      <td>0.0</td>\n",
       "      <td>NaN</td>\n",
       "      <td>0.392104</td>\n",
       "      <td>4.010937</td>\n",
       "      <td>3.215086</td>\n",
       "      <td>2.891199</td>\n",
       "      <td>3</td>\n",
       "      <td>Z</td>\n",
       "      <td>0</td>\n",
       "      <td>Category1</td>\n",
       "      <td>Option3</td>\n",
       "      <td>11.259371</td>\n",
       "      <td>6.807770</td>\n",
       "      <td>Yes</td>\n",
       "      <td>Low</td>\n",
       "      <td>cat</td>\n",
       "    </tr>\n",
       "    <tr>\n",
       "      <th>...</th>\n",
       "      <td>...</td>\n",
       "      <td>...</td>\n",
       "      <td>...</td>\n",
       "      <td>...</td>\n",
       "      <td>...</td>\n",
       "      <td>...</td>\n",
       "      <td>...</td>\n",
       "      <td>...</td>\n",
       "      <td>...</td>\n",
       "      <td>...</td>\n",
       "      <td>...</td>\n",
       "      <td>...</td>\n",
       "      <td>...</td>\n",
       "      <td>...</td>\n",
       "      <td>...</td>\n",
       "      <td>...</td>\n",
       "      <td>...</td>\n",
       "      <td>...</td>\n",
       "      <td>...</td>\n",
       "      <td>...</td>\n",
       "    </tr>\n",
       "    <tr>\n",
       "      <th>4995</th>\n",
       "      <td>NaN</td>\n",
       "      <td>0.819440</td>\n",
       "      <td>0.415931</td>\n",
       "      <td>C</td>\n",
       "      <td>0.0</td>\n",
       "      <td>NaN</td>\n",
       "      <td>1.765590</td>\n",
       "      <td>1.929735</td>\n",
       "      <td>-1.951884</td>\n",
       "      <td>NaN</td>\n",
       "      <td>1</td>\n",
       "      <td>Z</td>\n",
       "      <td>1</td>\n",
       "      <td>Category2</td>\n",
       "      <td>Option4</td>\n",
       "      <td>NaN</td>\n",
       "      <td>14.821501</td>\n",
       "      <td>No</td>\n",
       "      <td>Low</td>\n",
       "      <td>cat</td>\n",
       "    </tr>\n",
       "    <tr>\n",
       "      <th>4996</th>\n",
       "      <td>NaN</td>\n",
       "      <td>0.032140</td>\n",
       "      <td>-1.445420</td>\n",
       "      <td>C</td>\n",
       "      <td>1.0</td>\n",
       "      <td>NaN</td>\n",
       "      <td>0.806246</td>\n",
       "      <td>8.765315</td>\n",
       "      <td>-1.866815</td>\n",
       "      <td>NaN</td>\n",
       "      <td>1</td>\n",
       "      <td>Y</td>\n",
       "      <td>0</td>\n",
       "      <td>Category3</td>\n",
       "      <td>Option4</td>\n",
       "      <td>6.368173</td>\n",
       "      <td>5.308922</td>\n",
       "      <td>Yes</td>\n",
       "      <td>Medium</td>\n",
       "      <td>cat</td>\n",
       "    </tr>\n",
       "    <tr>\n",
       "      <th>4997</th>\n",
       "      <td>92.0</td>\n",
       "      <td>0.263300</td>\n",
       "      <td>0.986722</td>\n",
       "      <td>C</td>\n",
       "      <td>NaN</td>\n",
       "      <td>78.0</td>\n",
       "      <td>1.326853</td>\n",
       "      <td>4.489722</td>\n",
       "      <td>1.720671</td>\n",
       "      <td>6.877962</td>\n",
       "      <td>1</td>\n",
       "      <td>X</td>\n",
       "      <td>0</td>\n",
       "      <td>Category1</td>\n",
       "      <td>Option4</td>\n",
       "      <td>5.682022</td>\n",
       "      <td>9.508951</td>\n",
       "      <td>Yes</td>\n",
       "      <td>Medium</td>\n",
       "      <td>cat</td>\n",
       "    </tr>\n",
       "    <tr>\n",
       "      <th>4998</th>\n",
       "      <td>91.0</td>\n",
       "      <td>0.640986</td>\n",
       "      <td>-1.199847</td>\n",
       "      <td>A</td>\n",
       "      <td>0.0</td>\n",
       "      <td>51.0</td>\n",
       "      <td>0.312256</td>\n",
       "      <td>2.773963</td>\n",
       "      <td>-3.320704</td>\n",
       "      <td>6.138322</td>\n",
       "      <td>2</td>\n",
       "      <td>X</td>\n",
       "      <td>0</td>\n",
       "      <td>Category1</td>\n",
       "      <td>Option3</td>\n",
       "      <td>4.574748</td>\n",
       "      <td>8.705127</td>\n",
       "      <td>No</td>\n",
       "      <td>Medium</td>\n",
       "      <td>some other</td>\n",
       "    </tr>\n",
       "    <tr>\n",
       "      <th>4999</th>\n",
       "      <td>NaN</td>\n",
       "      <td>0.901570</td>\n",
       "      <td>1.836382</td>\n",
       "      <td>NaN</td>\n",
       "      <td>0.0</td>\n",
       "      <td>NaN</td>\n",
       "      <td>2.087461</td>\n",
       "      <td>6.854886</td>\n",
       "      <td>-0.259228</td>\n",
       "      <td>6.068139</td>\n",
       "      <td>6</td>\n",
       "      <td>X</td>\n",
       "      <td>0</td>\n",
       "      <td>Category2</td>\n",
       "      <td>Option2</td>\n",
       "      <td>12.801075</td>\n",
       "      <td>14.686372</td>\n",
       "      <td>Yes</td>\n",
       "      <td>High</td>\n",
       "      <td>some other</td>\n",
       "    </tr>\n",
       "  </tbody>\n",
       "</table>\n",
       "<p>5000 rows × 20 columns</p>\n",
       "</div>"
      ],
      "text/plain": [
       "      Feature1  Feature2  Feature3 Feature4  Feature5  Feature6  Feature7  \\\n",
       "0         44.0  0.797417 -0.958091      NaN       NaN     158.0  1.490148   \n",
       "1         47.0  0.026838 -0.244178        D       NaN       NaN  2.151535   \n",
       "2         64.0  0.199990 -1.014799        B       0.0     474.0  1.410613   \n",
       "3         67.0  0.474124  0.448040        B       NaN     166.0  0.635091   \n",
       "4          NaN  0.598516  0.087839      NaN       0.0       NaN  0.392104   \n",
       "...        ...       ...       ...      ...       ...       ...       ...   \n",
       "4995       NaN  0.819440  0.415931        C       0.0       NaN  1.765590   \n",
       "4996       NaN  0.032140 -1.445420        C       1.0       NaN  0.806246   \n",
       "4997      92.0  0.263300  0.986722        C       NaN      78.0  1.326853   \n",
       "4998      91.0  0.640986 -1.199847        A       0.0      51.0  0.312256   \n",
       "4999       NaN  0.901570  1.836382      NaN       0.0       NaN  2.087461   \n",
       "\n",
       "      Feature8  Feature9  Feature10  Feature11 Feature12  Feature13  \\\n",
       "0     5.166124  2.277942        NaN          5         X          1   \n",
       "1     0.450312 -3.395356        NaN          3         X          0   \n",
       "2     6.786555 -3.070746        NaN          7         Z          0   \n",
       "3     1.937158 -0.246269   6.004975         20         X          0   \n",
       "4     4.010937  3.215086   2.891199          3         Z          0   \n",
       "...        ...       ...        ...        ...       ...        ...   \n",
       "4995  1.929735 -1.951884        NaN          1         Z          1   \n",
       "4996  8.765315 -1.866815        NaN          1         Y          0   \n",
       "4997  4.489722  1.720671   6.877962          1         X          0   \n",
       "4998  2.773963 -3.320704   6.138322          2         X          0   \n",
       "4999  6.854886 -0.259228   6.068139          6         X          0   \n",
       "\n",
       "      Feature14 Feature15  Feature16  Feature17 Feature18 Feature19  \\\n",
       "0     Category1   Option4   8.824345  11.711130       Yes       Low   \n",
       "1     Category1   Option2        NaN  13.355832       Yes       Low   \n",
       "2     Category1   Option2        NaN  13.449484       Yes    Medium   \n",
       "3     Category1   Option2        NaN   7.687652       Yes       Low   \n",
       "4     Category1   Option3  11.259371   6.807770       Yes       Low   \n",
       "...         ...       ...        ...        ...       ...       ...   \n",
       "4995  Category2   Option4        NaN  14.821501        No       Low   \n",
       "4996  Category3   Option4   6.368173   5.308922       Yes    Medium   \n",
       "4997  Category1   Option4   5.682022   9.508951       Yes    Medium   \n",
       "4998  Category1   Option3   4.574748   8.705127        No    Medium   \n",
       "4999  Category2   Option2  12.801075  14.686372       Yes      High   \n",
       "\n",
       "       Feature20  \n",
       "0            cat  \n",
       "1            cat  \n",
       "2            dog  \n",
       "3            cat  \n",
       "4            cat  \n",
       "...          ...  \n",
       "4995         cat  \n",
       "4996         cat  \n",
       "4997         cat  \n",
       "4998  some other  \n",
       "4999  some other  \n",
       "\n",
       "[5000 rows x 20 columns]"
      ]
     },
     "execution_count": 32,
     "metadata": {},
     "output_type": "execute_result"
    }
   ],
   "source": [
    "#in this sample no dupicates occurs , if any - using .drop_duplicates() function duplicates could be removed\n",
    "df.drop_duplicates()"
   ]
  },
  {
   "cell_type": "markdown",
   "id": "6747d036-a299-4482-8aa5-99972cd8585b",
   "metadata": {},
   "source": [
    "**String Operations**\n",
    "\n",
    "- .str.lower() and .str.upper(): These methods convert strings to lowercase or uppercase for the entire column values.\n",
    "- .str.replace(): Use this method to replace substrings within strings.\n",
    "- .str.Contains() : This method allows you to check if a specific substring or pattern exists within a string. It returns a boolean Series indicating whether each element contains the specified pattern.\n",
    "- .str.slice(): You can extract a substring from each string in a Series using the .str.slice() method. Specify the start and end positions to define the slice."
   ]
  },
  {
   "cell_type": "code",
   "execution_count": 33,
   "id": "46aef08c-b095-485c-af5b-d6476713b3e6",
   "metadata": {
    "tags": []
   },
   "outputs": [
    {
     "data": {
      "text/plain": [
       "0              cat\n",
       "1              cat\n",
       "2              dog\n",
       "3              cat\n",
       "4              cat\n",
       "           ...    \n",
       "4995           cat\n",
       "4996           cat\n",
       "4997           cat\n",
       "4998    some other\n",
       "4999    some other\n",
       "Name: Feature20, Length: 5000, dtype: object"
      ]
     },
     "execution_count": 33,
     "metadata": {},
     "output_type": "execute_result"
    }
   ],
   "source": [
    "df.Feature20"
   ]
  },
  {
   "cell_type": "code",
   "execution_count": 34,
   "id": "3069bbcf-4972-49a4-98c4-ff329fad256a",
   "metadata": {
    "tags": []
   },
   "outputs": [
    {
     "data": {
      "text/plain": [
       "0              CAT\n",
       "1              CAT\n",
       "2              DOG\n",
       "3              CAT\n",
       "4              CAT\n",
       "           ...    \n",
       "4995           CAT\n",
       "4996           CAT\n",
       "4997           CAT\n",
       "4998    SOME OTHER\n",
       "4999    SOME OTHER\n",
       "Name: Feature20, Length: 5000, dtype: object"
      ]
     },
     "execution_count": 34,
     "metadata": {},
     "output_type": "execute_result"
    }
   ],
   "source": [
    "df.Feature20.str.upper()"
   ]
  },
  {
   "cell_type": "code",
   "execution_count": 35,
   "id": "a59dbcf8-f863-4e10-9d8f-c24edd4489ff",
   "metadata": {
    "tags": []
   },
   "outputs": [],
   "source": [
    "# incase you want to save the original data with the modified one,use the below line as it doesn't have inplace option\n",
    "\n",
    "# df=df.Feature20.str.upper()"
   ]
  },
  {
   "cell_type": "code",
   "execution_count": 36,
   "id": "b583694e-9cb4-41dd-8d9a-9ce6420d621d",
   "metadata": {
    "tags": []
   },
   "outputs": [
    {
     "data": {
      "text/plain": [
       "3364"
      ]
     },
     "execution_count": 36,
     "metadata": {},
     "output_type": "execute_result"
    }
   ],
   "source": [
    "# Using contains to find how many rows have item names with chicken\n",
    "df.Feature20.str.contains('cat').sum()"
   ]
  },
  {
   "cell_type": "markdown",
   "id": "1d5852a1-7cae-48fb-9990-686b2b2e3ec9",
   "metadata": {},
   "source": [
    "#### Data Manipulation"
   ]
  },
  {
   "cell_type": "markdown",
   "id": "0aa764bd-0c1c-4a12-9b74-d7b574a8a5ab",
   "metadata": {},
   "source": [
    "**.apply for series and DataFrames**"
   ]
  },
  {
   "cell_type": "code",
   "execution_count": 37,
   "id": "8908b29c-b245-4261-9d7f-03ba0359b9a0",
   "metadata": {
    "tags": []
   },
   "outputs": [
    {
     "data": {
      "text/plain": [
       "0       0.088889\n",
       "1       0.044444\n",
       "2       0.133333\n",
       "3       0.422222\n",
       "4       0.044444\n",
       "          ...   \n",
       "4995    0.000000\n",
       "4996    0.000000\n",
       "4997    0.000000\n",
       "4998    0.022222\n",
       "4999    0.111111\n",
       "Name: Feature11, Length: 5000, dtype: float64"
      ]
     },
     "execution_count": 37,
     "metadata": {},
     "output_type": "execute_result"
    }
   ],
   "source": [
    "min_value = df.Feature11.min()\n",
    "max_value = df.Feature11.max()\n",
    "def normalize(x):\n",
    "    return (x-min_value)/(max_value-min_value)\n",
    "\n",
    "normalized_value = df.Feature11.apply(normalize)\n",
    "normalized_value"
   ]
  },
  {
   "cell_type": "markdown",
   "id": "8a27858b-07d8-4785-8193-aded653cfbda",
   "metadata": {},
   "source": [
    "- In the previous example, we utilized the apply function on a specific series within the DataFrame, which resulted in each individual element of the series being passed to the designated function."
   ]
  },
  {
   "cell_type": "code",
   "execution_count": 38,
   "id": "7518c07f-0fe4-48d7-8c46-f7ea134e40b8",
   "metadata": {
    "tags": []
   },
   "outputs": [
    {
     "data": {
      "text/html": [
       "<div>\n",
       "<style scoped>\n",
       "    .dataframe tbody tr th:only-of-type {\n",
       "        vertical-align: middle;\n",
       "    }\n",
       "\n",
       "    .dataframe tbody tr th {\n",
       "        vertical-align: top;\n",
       "    }\n",
       "\n",
       "    .dataframe thead th {\n",
       "        text-align: right;\n",
       "    }\n",
       "</style>\n",
       "<table border=\"1\" class=\"dataframe\">\n",
       "  <thead>\n",
       "    <tr style=\"text-align: right;\">\n",
       "      <th></th>\n",
       "      <th>X</th>\n",
       "      <th>Y</th>\n",
       "      <th>Row_Sum</th>\n",
       "    </tr>\n",
       "  </thead>\n",
       "  <tbody>\n",
       "    <tr>\n",
       "      <th>0</th>\n",
       "      <td>10</td>\n",
       "      <td>5</td>\n",
       "      <td>15</td>\n",
       "    </tr>\n",
       "    <tr>\n",
       "      <th>1</th>\n",
       "      <td>20</td>\n",
       "      <td>10</td>\n",
       "      <td>30</td>\n",
       "    </tr>\n",
       "    <tr>\n",
       "      <th>2</th>\n",
       "      <td>30</td>\n",
       "      <td>15</td>\n",
       "      <td>45</td>\n",
       "    </tr>\n",
       "    <tr>\n",
       "      <th>3</th>\n",
       "      <td>40</td>\n",
       "      <td>20</td>\n",
       "      <td>60</td>\n",
       "    </tr>\n",
       "    <tr>\n",
       "      <th>4</th>\n",
       "      <td>50</td>\n",
       "      <td>25</td>\n",
       "      <td>75</td>\n",
       "    </tr>\n",
       "  </tbody>\n",
       "</table>\n",
       "</div>"
      ],
      "text/plain": [
       "    X   Y  Row_Sum\n",
       "0  10   5       15\n",
       "1  20  10       30\n",
       "2  30  15       45\n",
       "3  40  20       60\n",
       "4  50  25       75"
      ]
     },
     "execution_count": 38,
     "metadata": {},
     "output_type": "execute_result"
    }
   ],
   "source": [
    "data = {'X': [10, 20, 30, 40, 50], 'Y': [5, 10, 15, 20, 25]}\n",
    "df_1 = pd.DataFrame(data)\n",
    "\n",
    "# Define a function to calculate the sum of a row\n",
    "def sum_row(row):\n",
    "    return row.sum()\n",
    "\n",
    "# Apply the function row-wise.\n",
    "df_1['Row_Sum'] = df_1.apply(sum_row, axis=1)\n",
    "df_1"
   ]
  },
  {
   "cell_type": "markdown",
   "id": "8b39a698-0c2e-47ca-bcb8-3a02e84f8469",
   "metadata": {},
   "source": [
    "- In this scenario, the apply function was employed on the entire DataFrame with the parameter axis=1, ensuring that each row is processed by the function. This approach is particularly suitable when the operation needs to be performed row-wise across the DataFrame."
   ]
  },
  {
   "cell_type": "markdown",
   "id": "59ae56a9-6e3d-4543-aaed-b1e9fdeb7710",
   "metadata": {},
   "source": [
    "**.map for series**"
   ]
  },
  {
   "cell_type": "code",
   "execution_count": 39,
   "id": "19e50eae-a3f7-4971-a43c-98529a2f8800",
   "metadata": {
    "tags": []
   },
   "outputs": [
    {
     "data": {
      "text/html": [
       "<div>\n",
       "<style scoped>\n",
       "    .dataframe tbody tr th:only-of-type {\n",
       "        vertical-align: middle;\n",
       "    }\n",
       "\n",
       "    .dataframe tbody tr th {\n",
       "        vertical-align: top;\n",
       "    }\n",
       "\n",
       "    .dataframe thead th {\n",
       "        text-align: right;\n",
       "    }\n",
       "</style>\n",
       "<table border=\"1\" class=\"dataframe\">\n",
       "  <thead>\n",
       "    <tr style=\"text-align: right;\">\n",
       "      <th></th>\n",
       "      <th>Type</th>\n",
       "      <th>Category</th>\n",
       "    </tr>\n",
       "  </thead>\n",
       "  <tbody>\n",
       "    <tr>\n",
       "      <th>0</th>\n",
       "      <td>A</td>\n",
       "      <td>Alpha</td>\n",
       "    </tr>\n",
       "    <tr>\n",
       "      <th>1</th>\n",
       "      <td>B</td>\n",
       "      <td>Beta</td>\n",
       "    </tr>\n",
       "    <tr>\n",
       "      <th>2</th>\n",
       "      <td>C</td>\n",
       "      <td>Gamma</td>\n",
       "    </tr>\n",
       "    <tr>\n",
       "      <th>3</th>\n",
       "      <td>A</td>\n",
       "      <td>Alpha</td>\n",
       "    </tr>\n",
       "    <tr>\n",
       "      <th>4</th>\n",
       "      <td>B</td>\n",
       "      <td>Beta</td>\n",
       "    </tr>\n",
       "  </tbody>\n",
       "</table>\n",
       "</div>"
      ],
      "text/plain": [
       "  Type Category\n",
       "0    A    Alpha\n",
       "1    B     Beta\n",
       "2    C    Gamma\n",
       "3    A    Alpha\n",
       "4    B     Beta"
      ]
     },
     "execution_count": 39,
     "metadata": {},
     "output_type": "execute_result"
    }
   ],
   "source": [
    "data = {'Type': ['A', 'B', 'C', 'A', 'B']}\n",
    "df_2 = pd.DataFrame(data)\n",
    "\n",
    "# Define a mapping dictionary\n",
    "category_mapping = {'A': 'Alpha', 'B': 'Beta', 'C': 'Gamma'}\n",
    "\n",
    "# Create a new column 'Category' based on the mapping\n",
    "df_2['Category'] = df_2['Type'].map(category_mapping)\n",
    "df_2"
   ]
  },
  {
   "cell_type": "markdown",
   "id": "105b5549-97ef-492e-ad25-59f5f9a530d3",
   "metadata": {},
   "source": [
    "**.applymap for entire dataframe**"
   ]
  },
  {
   "cell_type": "code",
   "execution_count": 40,
   "id": "6bc39d54-9253-4b7a-84d6-46645e775adc",
   "metadata": {
    "tags": []
   },
   "outputs": [
    {
     "data": {
      "text/html": [
       "<div>\n",
       "<style scoped>\n",
       "    .dataframe tbody tr th:only-of-type {\n",
       "        vertical-align: middle;\n",
       "    }\n",
       "\n",
       "    .dataframe tbody tr th {\n",
       "        vertical-align: top;\n",
       "    }\n",
       "\n",
       "    .dataframe thead th {\n",
       "        text-align: right;\n",
       "    }\n",
       "</style>\n",
       "<table border=\"1\" class=\"dataframe\">\n",
       "  <thead>\n",
       "    <tr style=\"text-align: right;\">\n",
       "      <th></th>\n",
       "      <th>X</th>\n",
       "      <th>Y</th>\n",
       "    </tr>\n",
       "  </thead>\n",
       "  <tbody>\n",
       "    <tr>\n",
       "      <th>0</th>\n",
       "      <td>20</td>\n",
       "      <td>80</td>\n",
       "    </tr>\n",
       "    <tr>\n",
       "      <th>1</th>\n",
       "      <td>40</td>\n",
       "      <td>100</td>\n",
       "    </tr>\n",
       "    <tr>\n",
       "      <th>2</th>\n",
       "      <td>60</td>\n",
       "      <td>120</td>\n",
       "    </tr>\n",
       "  </tbody>\n",
       "</table>\n",
       "</div>"
      ],
      "text/plain": [
       "    X    Y\n",
       "0  20   80\n",
       "1  40  100\n",
       "2  60  120"
      ]
     },
     "execution_count": 40,
     "metadata": {},
     "output_type": "execute_result"
    }
   ],
   "source": [
    "data = {'X': [10, 20, 30], 'Y': [40, 50, 60]}\n",
    "df_3 = pd.DataFrame(data)\n",
    "\n",
    "# Define a function to multiply a value by 2\n",
    "def multiply_by_2(x):\n",
    "    return x * 2\n",
    "\n",
    "# Apply the function to the entire DataFrame\n",
    "df_result = df_3.applymap(multiply_by_2)\n",
    "df_result"
   ]
  },
  {
   "cell_type": "markdown",
   "id": "62661a11-8d9a-422b-85cd-8968d386c635",
   "metadata": {},
   "source": [
    "#### Adding  and Removing Columns"
   ]
  },
  {
   "cell_type": "code",
   "execution_count": 41,
   "id": "e7576116-3fad-45bd-bf8f-8bdd106eb8ed",
   "metadata": {
    "tags": []
   },
   "outputs": [],
   "source": [
    "df['normalized_value'] = normalized_value"
   ]
  },
  {
   "cell_type": "code",
   "execution_count": 42,
   "id": "289f983e-9b1a-4779-8c24-903c0d6d0689",
   "metadata": {
    "tags": []
   },
   "outputs": [
    {
     "data": {
      "text/html": [
       "<div>\n",
       "<style scoped>\n",
       "    .dataframe tbody tr th:only-of-type {\n",
       "        vertical-align: middle;\n",
       "    }\n",
       "\n",
       "    .dataframe tbody tr th {\n",
       "        vertical-align: top;\n",
       "    }\n",
       "\n",
       "    .dataframe thead th {\n",
       "        text-align: right;\n",
       "    }\n",
       "</style>\n",
       "<table border=\"1\" class=\"dataframe\">\n",
       "  <thead>\n",
       "    <tr style=\"text-align: right;\">\n",
       "      <th></th>\n",
       "      <th>Feature1</th>\n",
       "      <th>Feature2</th>\n",
       "      <th>Feature3</th>\n",
       "      <th>Feature4</th>\n",
       "      <th>Feature5</th>\n",
       "      <th>Feature6</th>\n",
       "      <th>Feature7</th>\n",
       "      <th>Feature8</th>\n",
       "      <th>Feature9</th>\n",
       "      <th>Feature10</th>\n",
       "      <th>...</th>\n",
       "      <th>Feature12</th>\n",
       "      <th>Feature13</th>\n",
       "      <th>Feature14</th>\n",
       "      <th>Feature15</th>\n",
       "      <th>Feature16</th>\n",
       "      <th>Feature17</th>\n",
       "      <th>Feature18</th>\n",
       "      <th>Feature19</th>\n",
       "      <th>Feature20</th>\n",
       "      <th>normalized_value</th>\n",
       "    </tr>\n",
       "  </thead>\n",
       "  <tbody>\n",
       "    <tr>\n",
       "      <th>0</th>\n",
       "      <td>44.0</td>\n",
       "      <td>0.797417</td>\n",
       "      <td>-0.958091</td>\n",
       "      <td>NaN</td>\n",
       "      <td>NaN</td>\n",
       "      <td>158.0</td>\n",
       "      <td>1.490148</td>\n",
       "      <td>5.166124</td>\n",
       "      <td>2.277942</td>\n",
       "      <td>NaN</td>\n",
       "      <td>...</td>\n",
       "      <td>X</td>\n",
       "      <td>1</td>\n",
       "      <td>Category1</td>\n",
       "      <td>Option4</td>\n",
       "      <td>8.824345</td>\n",
       "      <td>11.711130</td>\n",
       "      <td>Yes</td>\n",
       "      <td>Low</td>\n",
       "      <td>cat</td>\n",
       "      <td>0.088889</td>\n",
       "    </tr>\n",
       "    <tr>\n",
       "      <th>1</th>\n",
       "      <td>47.0</td>\n",
       "      <td>0.026838</td>\n",
       "      <td>-0.244178</td>\n",
       "      <td>D</td>\n",
       "      <td>NaN</td>\n",
       "      <td>NaN</td>\n",
       "      <td>2.151535</td>\n",
       "      <td>0.450312</td>\n",
       "      <td>-3.395356</td>\n",
       "      <td>NaN</td>\n",
       "      <td>...</td>\n",
       "      <td>X</td>\n",
       "      <td>0</td>\n",
       "      <td>Category1</td>\n",
       "      <td>Option2</td>\n",
       "      <td>NaN</td>\n",
       "      <td>13.355832</td>\n",
       "      <td>Yes</td>\n",
       "      <td>Low</td>\n",
       "      <td>cat</td>\n",
       "      <td>0.044444</td>\n",
       "    </tr>\n",
       "    <tr>\n",
       "      <th>2</th>\n",
       "      <td>64.0</td>\n",
       "      <td>0.199990</td>\n",
       "      <td>-1.014799</td>\n",
       "      <td>B</td>\n",
       "      <td>0.0</td>\n",
       "      <td>474.0</td>\n",
       "      <td>1.410613</td>\n",
       "      <td>6.786555</td>\n",
       "      <td>-3.070746</td>\n",
       "      <td>NaN</td>\n",
       "      <td>...</td>\n",
       "      <td>Z</td>\n",
       "      <td>0</td>\n",
       "      <td>Category1</td>\n",
       "      <td>Option2</td>\n",
       "      <td>NaN</td>\n",
       "      <td>13.449484</td>\n",
       "      <td>Yes</td>\n",
       "      <td>Medium</td>\n",
       "      <td>dog</td>\n",
       "      <td>0.133333</td>\n",
       "    </tr>\n",
       "  </tbody>\n",
       "</table>\n",
       "<p>3 rows × 21 columns</p>\n",
       "</div>"
      ],
      "text/plain": [
       "   Feature1  Feature2  Feature3 Feature4  Feature5  Feature6  Feature7  \\\n",
       "0      44.0  0.797417 -0.958091      NaN       NaN     158.0  1.490148   \n",
       "1      47.0  0.026838 -0.244178        D       NaN       NaN  2.151535   \n",
       "2      64.0  0.199990 -1.014799        B       0.0     474.0  1.410613   \n",
       "\n",
       "   Feature8  Feature9  Feature10  ...  Feature12 Feature13  Feature14  \\\n",
       "0  5.166124  2.277942        NaN  ...          X         1  Category1   \n",
       "1  0.450312 -3.395356        NaN  ...          X         0  Category1   \n",
       "2  6.786555 -3.070746        NaN  ...          Z         0  Category1   \n",
       "\n",
       "  Feature15 Feature16  Feature17  Feature18 Feature19 Feature20  \\\n",
       "0   Option4  8.824345  11.711130        Yes       Low       cat   \n",
       "1   Option2       NaN  13.355832        Yes       Low       cat   \n",
       "2   Option2       NaN  13.449484        Yes    Medium       dog   \n",
       "\n",
       "  normalized_value  \n",
       "0         0.088889  \n",
       "1         0.044444  \n",
       "2         0.133333  \n",
       "\n",
       "[3 rows x 21 columns]"
      ]
     },
     "execution_count": 42,
     "metadata": {},
     "output_type": "execute_result"
    }
   ],
   "source": [
    "df.head(3)"
   ]
  },
  {
   "cell_type": "markdown",
   "id": "b975715c-68c8-4d3d-af07-d0af4a7b9416",
   "metadata": {},
   "source": [
    "- Dropping Feature 10 , as this column is mostly of missing values."
   ]
  },
  {
   "cell_type": "code",
   "execution_count": 43,
   "id": "21102fd2-6660-4914-83e9-20669e2a9d04",
   "metadata": {
    "tags": []
   },
   "outputs": [
    {
     "name": "stdout",
     "output_type": "stream",
     "text": [
      "      Feature1  Feature2  Feature3 Feature4  Feature5  Feature6  Feature7  \\\n",
      "0         44.0  0.797417 -0.958091      NaN       NaN     158.0  1.490148   \n",
      "1         47.0  0.026838 -0.244178        D       NaN       NaN  2.151535   \n",
      "2         64.0  0.199990 -1.014799        B       0.0     474.0  1.410613   \n",
      "3         67.0  0.474124  0.448040        B       NaN     166.0  0.635091   \n",
      "4          NaN  0.598516  0.087839      NaN       0.0       NaN  0.392104   \n",
      "...        ...       ...       ...      ...       ...       ...       ...   \n",
      "4995       NaN  0.819440  0.415931        C       0.0       NaN  1.765590   \n",
      "4996       NaN  0.032140 -1.445420        C       1.0       NaN  0.806246   \n",
      "4997      92.0  0.263300  0.986722        C       NaN      78.0  1.326853   \n",
      "4998      91.0  0.640986 -1.199847        A       0.0      51.0  0.312256   \n",
      "4999       NaN  0.901570  1.836382      NaN       0.0       NaN  2.087461   \n",
      "\n",
      "      Feature8  Feature9  Feature11 Feature12  Feature13  Feature14 Feature15  \\\n",
      "0     5.166124  2.277942          5         X          1  Category1   Option4   \n",
      "1     0.450312 -3.395356          3         X          0  Category1   Option2   \n",
      "2     6.786555 -3.070746          7         Z          0  Category1   Option2   \n",
      "3     1.937158 -0.246269         20         X          0  Category1   Option2   \n",
      "4     4.010937  3.215086          3         Z          0  Category1   Option3   \n",
      "...        ...       ...        ...       ...        ...        ...       ...   \n",
      "4995  1.929735 -1.951884          1         Z          1  Category2   Option4   \n",
      "4996  8.765315 -1.866815          1         Y          0  Category3   Option4   \n",
      "4997  4.489722  1.720671          1         X          0  Category1   Option4   \n",
      "4998  2.773963 -3.320704          2         X          0  Category1   Option3   \n",
      "4999  6.854886 -0.259228          6         X          0  Category2   Option2   \n",
      "\n",
      "      Feature16  Feature17 Feature18 Feature19   Feature20  normalized_value  \n",
      "0      8.824345  11.711130       Yes       Low         cat          0.088889  \n",
      "1           NaN  13.355832       Yes       Low         cat          0.044444  \n",
      "2           NaN  13.449484       Yes    Medium         dog          0.133333  \n",
      "3           NaN   7.687652       Yes       Low         cat          0.422222  \n",
      "4     11.259371   6.807770       Yes       Low         cat          0.044444  \n",
      "...         ...        ...       ...       ...         ...               ...  \n",
      "4995        NaN  14.821501        No       Low         cat          0.000000  \n",
      "4996   6.368173   5.308922       Yes    Medium         cat          0.000000  \n",
      "4997   5.682022   9.508951       Yes    Medium         cat          0.000000  \n",
      "4998   4.574748   8.705127        No    Medium  some other          0.022222  \n",
      "4999  12.801075  14.686372       Yes      High  some other          0.111111  \n",
      "\n",
      "[5000 rows x 20 columns]\n"
     ]
    }
   ],
   "source": [
    "df = df.drop('Feature10',axis=1)\n",
    "print(df)"
   ]
  },
  {
   "cell_type": "markdown",
   "id": "9e6a2655-6c58-4d38-b1f8-ead56b372635",
   "metadata": {},
   "source": [
    "**Merging DataFrames with merge()**"
   ]
  },
  {
   "cell_type": "code",
   "execution_count": 44,
   "id": "6d7dd6eb-295a-420d-9a61-8ee1b7c371ad",
   "metadata": {
    "tags": []
   },
   "outputs": [
    {
     "name": "stdout",
     "output_type": "stream",
     "text": [
      "   CustomerID   Name  Age\n",
      "0         102   Alex   28\n",
      "1         103  Billy   35\n"
     ]
    }
   ],
   "source": [
    "df1 = pd.DataFrame({'CustomerID': [101, 102, 103], 'Name': ['Jack', 'Alex', 'Billy']})\n",
    "df2 = pd.DataFrame({'CustomerID': [102, 103, 104], 'Age': [28, 35, 22]})\n",
    "\n",
    "# Merging based on 'CustomerID'\n",
    "merged_customers= pd.merge(df1, df2, on='CustomerID', how='inner')\n",
    "print(merged_customers)"
   ]
  },
  {
   "cell_type": "markdown",
   "id": "665ce024-1296-4475-bc35-6e2e8b71a885",
   "metadata": {},
   "source": [
    "**Concatenating DataFrames using concat()**"
   ]
  },
  {
   "cell_type": "code",
   "execution_count": 45,
   "id": "b89ce9e5-27c1-4638-b41e-a8b7830575fb",
   "metadata": {
    "tags": []
   },
   "outputs": [
    {
     "name": "stdout",
     "output_type": "stream",
     "text": [
      "    A   B\n",
      "0  10  30\n",
      "1  20  40\n",
      "0  50  70\n",
      "1  60  80\n"
     ]
    }
   ],
   "source": [
    "df3 = pd.DataFrame({'A': [10, 20], 'B': [30, 40]})\n",
    "df4 = pd.DataFrame({'A': [50, 60], 'B': [70, 80]})\n",
    "\n",
    "# Concatenating along rows\n",
    "concatenated_rows_df = pd.concat([df3, df4])\n",
    "print(concatenated_rows_df)"
   ]
  }
 ],
 "metadata": {
  "kernelspec": {
   "display_name": "Python 3 (ipykernel)",
   "language": "python",
   "name": "python3"
  },
  "language_info": {
   "codemirror_mode": {
    "name": "ipython",
    "version": 3
   },
   "file_extension": ".py",
   "mimetype": "text/x-python",
   "name": "python",
   "nbconvert_exporter": "python",
   "pygments_lexer": "ipython3",
   "version": "3.11.4"
  }
 },
 "nbformat": 4,
 "nbformat_minor": 5
}
