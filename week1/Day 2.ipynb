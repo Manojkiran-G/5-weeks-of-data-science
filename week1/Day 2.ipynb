{
 "cells": [
  {
   "cell_type": "markdown",
   "id": "d7e03e13-f3a6-4134-92e5-03a1697f1132",
   "metadata": {},
   "source": [
    "        -----------WEEK 1 - Day 2-----------\n",
    "                            - Manojkiran G"
   ]
  },
  {
   "cell_type": "markdown",
   "id": "234663c8-a317-4b25-abe8-ef63005e187a",
   "metadata": {},
   "source": [
    "## Python Functions"
   ]
  },
  {
   "cell_type": "markdown",
   "id": "af800cb8-4cce-4aca-a273-7fd24e6c29a2",
   "metadata": {},
   "source": [
    "Here are some common types of functions in Python\n",
    "\n"
   ]
  },
  {
   "cell_type": "markdown",
   "id": "be23e596-bb84-435c-b2e3-21ed032d6c44",
   "metadata": {},
   "source": [
    "**Built-in Functions:**\n",
    "\n",
    "These are functions that are part of the Python language and are always available.\n",
    "Examples: print(), len(), type(), max(), min()."
   ]
  },
  {
   "cell_type": "markdown",
   "id": "b700d3ab-fea4-4a72-9297-de3326e50277",
   "metadata": {},
   "source": [
    "**User defined Functions:**\n",
    "\n",
    "Functions created by the user to perform a specific task."
   ]
  },
  {
   "cell_type": "code",
   "execution_count": 19,
   "id": "30f4f4fa-f6a0-46ff-b990-c24a1829edca",
   "metadata": {
    "tags": []
   },
   "outputs": [
    {
     "name": "stdout",
     "output_type": "stream",
     "text": [
      "Hello, people!\n"
     ]
    }
   ],
   "source": [
    "def sample(name):\n",
    "    print (f\"Hello, {name}!\")\n",
    "sample('people')"
   ]
  },
  {
   "cell_type": "markdown",
   "id": "6b4a6526-6016-4c3c-ab70-24e77ea33aff",
   "metadata": {},
   "source": [
    "**Anonymous Functions:**\n",
    "\n",
    "An anonymous function means that a function is without a name.It is a small, one-line functions defined using the lambda keyword."
   ]
  },
  {
   "cell_type": "code",
   "execution_count": 20,
   "id": "d49092c7-44ff-4b1e-99e2-101a3301c46a",
   "metadata": {
    "tags": []
   },
   "outputs": [
    {
     "name": "stdout",
     "output_type": "stream",
     "text": [
      "The square of 5 is: 25\n"
     ]
    }
   ],
   "source": [
    "square = lambda x: x ** 2\n",
    "\n",
    "# Using the lambda function\n",
    "num = 5\n",
    "result = square(num)\n",
    "\n",
    "print(f\"The square of {num} is: {result}\")"
   ]
  },
  {
   "cell_type": "markdown",
   "id": "79bd87a5-e307-4ed8-88cc-2b36dd605b2e",
   "metadata": {},
   "source": [
    "**Recursive Functions:**\n",
    "\n",
    "Functions that call themselves in their definition."
   ]
  },
  {
   "cell_type": "code",
   "execution_count": 21,
   "id": "edb81ca7-fd64-4549-9bb0-26fd37f13cd7",
   "metadata": {
    "tags": []
   },
   "outputs": [
    {
     "name": "stdout",
     "output_type": "stream",
     "text": [
      "*****\n",
      "****\n",
      "***\n",
      "**\n",
      "*\n"
     ]
    }
   ],
   "source": [
    "def print_pattern(n):\n",
    "    if n > 0:\n",
    "        print('*' * n) \n",
    "        print_pattern(n - 1)# Recursively calling the function\n",
    "\n",
    "print_pattern(5)"
   ]
  },
  {
   "cell_type": "markdown",
   "id": "62f4b401-047b-4208-9acd-f88c8865a178",
   "metadata": {},
   "source": [
    "**Higher-Order Functions:**\n",
    "\n",
    "Functions that take other functions as arguments or return functions."
   ]
  },
  {
   "cell_type": "code",
   "execution_count": 22,
   "id": "be55e525-eff1-4b2d-9875-b64d4da37bdf",
   "metadata": {
    "tags": []
   },
   "outputs": [
    {
     "name": "stdout",
     "output_type": "stream",
     "text": [
      "8\n"
     ]
    }
   ],
   "source": [
    "def high_order_func(func, x, y):\n",
    "    return func(x, y)\n",
    "\n",
    "def add(a, b):\n",
    "    print (a + b)\n",
    "\n",
    "result = high_order_func(add, 3, 5)"
   ]
  },
  {
   "cell_type": "markdown",
   "id": "86cf2cbe-3264-4d0e-abda-d2afc735465e",
   "metadata": {},
   "source": [
    "**Nested Function:**\n",
    "\n",
    "A nested function is a function defined inside another function. The inner function has access to the variables and names defined in the outer function. "
   ]
  },
  {
   "cell_type": "code",
   "execution_count": 23,
   "id": "abd4c001-3fd6-4862-bea5-87dea413640e",
   "metadata": {
    "tags": []
   },
   "outputs": [
    {
     "name": "stdout",
     "output_type": "stream",
     "text": [
      "Result: 15\n"
     ]
    }
   ],
   "source": [
    "def outer_function(x):\n",
    "    def inner_function(y):\n",
    "        return x + y\n",
    "\n",
    "    return inner_function\n",
    "\n",
    "# Using the nested functions\n",
    "closure = outer_function(10)\n",
    "result = closure(5)\n",
    "\n",
    "print(f\"Result: {result}\")"
   ]
  },
  {
   "cell_type": "markdown",
   "id": "dc2551c1-ed03-4593-8e09-b23a09ebdad0",
   "metadata": {},
   "source": [
    "#### Type of Python function argument with examples"
   ]
  },
  {
   "cell_type": "markdown",
   "id": "5a21c5bd-7c40-4c4e-861d-cc77c23d8683",
   "metadata": {},
   "source": [
    "**Default Argument:**\n",
    "Default arguments are the parameters in a function that have a default value assigned to them"
   ]
  },
  {
   "cell_type": "code",
   "execution_count": 24,
   "id": "4c1d2908-8c0a-4622-8c03-3def5b822c3a",
   "metadata": {
    "tags": []
   },
   "outputs": [
    {
     "name": "stdout",
     "output_type": "stream",
     "text": [
      "Hello, People!\n",
      "Hi, Everyone!\n"
     ]
    }
   ],
   "source": [
    "def sample(name, greeting=\"Hello\"):\n",
    "    print(f\"{greeting}, {name}!\")\n",
    "\n",
    "# Using the function with default argument\n",
    "sample(\"People\") \n",
    "sample(\"Everyone\", \"Hi\")"
   ]
  },
  {
   "cell_type": "markdown",
   "id": "31bcb8ea-e152-480e-9426-4c4ec673a14e",
   "metadata": {},
   "source": [
    "**Positional Arguments:**\n",
    "Positional arguments are the most common type of arguments. They are matched to parameters based on their position in the function call."
   ]
  },
  {
   "cell_type": "code",
   "execution_count": 16,
   "id": "68544917-2759-49d6-8f93-2ff3c4099b51",
   "metadata": {
    "tags": []
   },
   "outputs": [],
   "source": [
    "def multiply(a, b):\n",
    "    return a * b\n",
    "\n",
    "# Using positional arguments\n",
    "result = multiply(3, 4)"
   ]
  },
  {
   "cell_type": "markdown",
   "id": "79414d31-062c-4be2-9c30-ed7f2c52733c",
   "metadata": {},
   "source": [
    "**Keyword Arguments (Named Arguments):**\n",
    "Keyword arguments are passed to a function by explicitly naming the parameter and providing a value."
   ]
  },
  {
   "cell_type": "code",
   "execution_count": 17,
   "id": "6c5c6a4c-2281-4750-a6d0-4c72d001db2c",
   "metadata": {
    "tags": []
   },
   "outputs": [
    {
     "name": "stdout",
     "output_type": "stream",
     "text": [
      "Name: Vinod, Age: 22\n"
     ]
    }
   ],
   "source": [
    "def print_info(name, age):\n",
    "    print(f\"Name: {name}, Age: {age}\")\n",
    "\n",
    "# Using keyword arguments\n",
    "print_info(age=22, name=\"Vinod\")"
   ]
  },
  {
   "cell_type": "markdown",
   "id": "7d457758-f5ee-49b9-9b7c-51d3bc6cf038",
   "metadata": {},
   "source": [
    "**Arbitrary Arguments (Variable-Length Arguments - args and kwargs):**\n",
    "Arbitrary arguments allow a function to accept any number of arguments. \n",
    "\n",
    "- The *args syntax allows the function to receive a variable number of positional arguments, \n",
    "- **kwargs allows a variable number of keyword arguments.\n"
   ]
  },
  {
   "cell_type": "code",
   "execution_count": 18,
   "id": "8effd7a0-4161-44a8-8947-2a9a98dc5825",
   "metadata": {
    "tags": []
   },
   "outputs": [
    {
     "name": "stdout",
     "output_type": "stream",
     "text": [
      "apple\n",
      "banana\n",
      "color: yellow\n",
      "taste: sweet\n"
     ]
    }
   ],
   "source": [
    "def sample(*args, **kwargs):\n",
    "    for item in args:\n",
    "        print(item)\n",
    "    for key, value in kwargs.items():\n",
    "        print(f\"{key}: {value}\")\n",
    "\n",
    "# Using arbitrary arguments\n",
    "sample(\"apple\", \"banana\", color=\"yellow\", taste=\"sweet\")"
   ]
  },
  {
   "cell_type": "code",
   "execution_count": null,
   "id": "1b97f9c8-4234-46cd-97df-d71a76022016",
   "metadata": {},
   "outputs": [],
   "source": []
  },
  {
   "cell_type": "code",
   "execution_count": null,
   "id": "fb996a41-d9c0-438d-a6c8-2b423be9a5ee",
   "metadata": {},
   "outputs": [],
   "source": []
  }
 ],
 "metadata": {
  "kernelspec": {
   "display_name": "Python 3 (ipykernel)",
   "language": "python",
   "name": "python3"
  },
  "language_info": {
   "codemirror_mode": {
    "name": "ipython",
    "version": 3
   },
   "file_extension": ".py",
   "mimetype": "text/x-python",
   "name": "python",
   "nbconvert_exporter": "python",
   "pygments_lexer": "ipython3",
   "version": "3.11.4"
  }
 },
 "nbformat": 4,
 "nbformat_minor": 5
}
