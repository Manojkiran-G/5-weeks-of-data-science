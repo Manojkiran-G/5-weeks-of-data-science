{
 "cells": [
  {
   "cell_type": "markdown",
   "id": "685c43c5-2849-4a8c-a3bc-a5602e45c635",
   "metadata": {},
   "source": [
    "      -----------WEEK 1 - Day 3-----------\n",
    "                        - Manojkiran G\n",
    "        "
   ]
  },
  {
   "cell_type": "markdown",
   "id": "f60e77f9-3858-47db-9b10-23db2b9a5c92",
   "metadata": {},
   "source": [
    "## Python OOPs basics"
   ]
  },
  {
   "cell_type": "markdown",
   "id": "d5b91d09-90fc-4d76-9f3a-b68b959ef8fa",
   "metadata": {},
   "source": [
    "Object-Oriented Programming (OOP) is a programming paradigm that uses objects – instances of classes – for organizing and structuring code. \n",
    "\n",
    "In OOP, the focus is on modeling real-world entities and the interactions between them."
   ]
  },
  {
   "cell_type": "markdown",
   "id": "8e599563-e8a5-4a3b-a4ac-cf00f6312a68",
   "metadata": {
    "tags": []
   },
   "source": [
    "#### Class and objects"
   ]
  },
  {
   "cell_type": "markdown",
   "id": "3c854041-3406-4c9c-83ea-bd21a8f366f4",
   "metadata": {},
   "source": [
    "**Class:** A blueprint or template for creating objects. It defines a set of attributes (properties) and methods (functions) that the objects will have.\n",
    "\n",
    "**Object:** An instance of a class. Objects have state (attributes) and behavior (methods). They are created based on the structure defined by the class."
   ]
  },
  {
   "cell_type": "code",
   "execution_count": 17,
   "id": "d90bf4bd-49a4-4102-a159-756b561ea4df",
   "metadata": {
    "tags": []
   },
   "outputs": [
    {
     "name": "stdout",
     "output_type": "stream",
     "text": [
      "Twinkle is 3 years old.\n",
      "Meow!\n"
     ]
    }
   ],
   "source": [
    "class Cat:\n",
    "    def set_name(self, name):\n",
    "        self.name = name\n",
    "\n",
    "    def set_age(self, age):\n",
    "        self.age = age\n",
    "\n",
    "    def meow(self):\n",
    "        print(\"Meow!\")\n",
    "\n",
    "# Creating an instance of the Dog class\n",
    "my_cat = Cat()\n",
    "\n",
    "# Setting attributes using methods\n",
    "my_cat.set_name(\"Twinkle\")\n",
    "my_cat.set_age(3)\n",
    "\n",
    "# Accessing attributes and calling methods\n",
    "print(f\"{my_cat.name} is {my_cat.age} years old.\")\n",
    "my_cat.meow()"
   ]
  },
  {
   "cell_type": "markdown",
   "id": "db6f4b3d-11e4-42eb-a3cd-b6d1db617679",
   "metadata": {},
   "source": [
    "#### Constructor\n",
    "\n",
    "- A constructor is a special method that is automatically called when an object of a class is created. \n",
    "- The constructor method is named __init__. It is used to initialize the attributes of the object. "
   ]
  },
  {
   "cell_type": "code",
   "execution_count": 18,
   "id": "b0da65f0-ed77-4d19-9d93-1e0e7f73d51a",
   "metadata": {
    "tags": []
   },
   "outputs": [
    {
     "name": "stdout",
     "output_type": "stream",
     "text": [
      "Wolf is 4 years old.\n",
      "Woof!\n"
     ]
    }
   ],
   "source": [
    "class Dog:\n",
    "    def __init__(self, name, age):\n",
    "        self.name = name\n",
    "        self.age = age\n",
    "\n",
    "    def bark(self):\n",
    "        print(\"Woof!\")\n",
    "\n",
    "# Creating an instance of the Dog class\n",
    "my_dog = Dog(name=\"Wolf\", age=4)\n",
    "\n",
    "# Accessing attributes and calling methods\n",
    "print(f\"{my_dog.name} is {my_dog.age} years old.\")\n",
    "my_dog.bark()"
   ]
  },
  {
   "cell_type": "markdown",
   "id": "d6db0642-4d12-4a43-91b8-f4a6e055449b",
   "metadata": {},
   "source": [
    "#### Destructor\n",
    "\n",
    "- A destructor is a special method named __del__. \n",
    "- It is automatically called when an object is about to be destroyed, which typically happens when the object goes out of scope is explicitly deleted"
   ]
  },
  {
   "cell_type": "code",
   "execution_count": 19,
   "id": "53fb3517-63b6-41f1-96f5-aa6d94705574",
   "metadata": {
    "tags": []
   },
   "outputs": [
    {
     "name": "stdout",
     "output_type": "stream",
     "text": [
      "Hello, Everyone!\n",
      "Goodbye!\n",
      "Object deleted\n"
     ]
    }
   ],
   "source": [
    "class MyClass:\n",
    "    def __init__(self, name):\n",
    "        self.name = name\n",
    "        print(f\"Hello, {self.name}!\")\n",
    "        \n",
    "    def say_goodbye(self):\n",
    "        print(f\"Goodbye!\")\n",
    "\n",
    "    def __del__(self):\n",
    "        print(f\"Object deleted\")\n",
    "\n",
    "# Creating an instance of the MyClass\n",
    "obj = MyClass(name=\"Everyone\")\n",
    "\n",
    "# Invoking a method\n",
    "obj.say_goodbye()\n",
    "\n",
    "# Explicitly deleting the object to trigger the destructor\n",
    "del obj"
   ]
  },
  {
   "cell_type": "markdown",
   "id": "8131c29e-3692-4a69-89bc-94845e1cf7ce",
   "metadata": {},
   "source": [
    "#### Abstraction \n",
    "\n",
    "Abstraction is a concept that involves hiding the complex implementation details of an object and exposing only the essential features. "
   ]
  },
  {
   "cell_type": "code",
   "execution_count": 20,
   "id": "42876f2e-2d7e-4fd0-817d-c48823b681ea",
   "metadata": {
    "tags": []
   },
   "outputs": [
    {
     "name": "stdout",
     "output_type": "stream",
     "text": [
      "Area of the circle: 78.5\n",
      "Area of the square: 16\n"
     ]
    }
   ],
   "source": [
    "from abc import ABC, abstractmethod\n",
    "\n",
    "# Abstract class with abstract method\n",
    "class Shape(ABC):\n",
    "    @abstractmethod\n",
    "    def area(self):\n",
    "        pass\n",
    "\n",
    "# Concrete class implementing the abstract class\n",
    "class Circle(Shape):\n",
    "    def __init__(self, radius):\n",
    "        self.radius = radius\n",
    "\n",
    "    def area(self):\n",
    "        return 3.14 * self.radius ** 2\n",
    "\n",
    "class Square(Shape):\n",
    "    def __init__(self, side_length):\n",
    "        self.side_length = side_length\n",
    "\n",
    "    def area(self):\n",
    "        return self.side_length ** 2\n",
    "\n",
    "\n",
    "circle = Circle(radius=5)\n",
    "square = Square(side_length=4)\n",
    "\n",
    "# Calling the area method\n",
    "print(f\"Area of the circle: {circle.area()}\")\n",
    "print(f\"Area of the square: {square.area()}\")"
   ]
  },
  {
   "cell_type": "markdown",
   "id": "05416976-bf49-47a1-b16a-6bd6802bf440",
   "metadata": {
    "tags": []
   },
   "source": [
    "#### Encapsulation\n",
    "\n",
    "- Encapsulation refers to the bundling of data and methods that operate on the data within a single unit, often a class. \n",
    "- It helps in hiding the internal details of an object and restricting access to certain components."
   ]
  },
  {
   "cell_type": "code",
   "execution_count": 21,
   "id": "10c72df6-9030-4e5d-aae0-314a20ade3b8",
   "metadata": {
    "tags": []
   },
   "outputs": [
    {
     "name": "stdout",
     "output_type": "stream",
     "text": [
      "Current temperature: 0 degrees Celsius\n",
      "Temperature set to 25 degrees Celsius.\n"
     ]
    }
   ],
   "source": [
    "class TemperatureSensor:\n",
    "    def __init__(self):\n",
    "        self._temperature = 0  # Encapsulated attribute\n",
    "\n",
    "    def get_temperature(self):\n",
    "        return self._temperature  # Encapsulated attribute \n",
    "\n",
    "    def set_temperature(self, new_temperature):\n",
    "        if -50 <= new_temperature <= 50:\n",
    "            self._temperature = new_temperature\n",
    "            print(f\"Temperature set to {new_temperature} degrees Celsius.\")\n",
    "        else:\n",
    "            print(\"Invalid temperature value.\")\n",
    "\n",
    "\n",
    "sensor = TemperatureSensor()\n",
    "\n",
    "# Accessing and updating temperature using methods (encapsulation)\n",
    "current_temperature = sensor.get_temperature()\n",
    "print(f\"Current temperature: {current_temperature} degrees Celsius\")\n",
    "\n",
    "sensor.set_temperature(25)"
   ]
  },
  {
   "cell_type": "markdown",
   "id": "0937d7f9-8a3b-4a0d-975d-9bf6689d8c32",
   "metadata": {},
   "source": [
    "#### Inheritance\n",
    "Inheritance is a  concept  where a class (subclass or derived class) inherits properties and behaviors from another class (superclass or base class). "
   ]
  },
  {
   "cell_type": "code",
   "execution_count": 22,
   "id": "20c9396d-c965-4614-a25f-fbb81c58db7a",
   "metadata": {
    "tags": []
   },
   "outputs": [
    {
     "name": "stdout",
     "output_type": "stream",
     "text": [
      "Wolf says: Woof!\n",
      "Twinkle says: Meow!\n"
     ]
    }
   ],
   "source": [
    "class Animal:\n",
    "    def __init__(self, name):\n",
    "        self.name = name\n",
    "\n",
    "    def make_sound(self):\n",
    "        pass  # Abstract method, to be overridden in subclasses\n",
    "\n",
    "class Dog(Animal):\n",
    "    def make_sound(self):\n",
    "        return \"Woof!\"\n",
    "\n",
    "class Cat(Animal):\n",
    "    def make_sound(self):\n",
    "        return \"Meow!\"\n",
    "\n",
    "# Creating instances of the derived classes\n",
    "dog = Dog(name=\"Wolf\")\n",
    "cat = Cat(name=\"Twinkle\")\n",
    "\n",
    "# Accessing inherited attributes\n",
    "print(f\"{dog.name} says: {dog.make_sound()}\")\n",
    "print(f\"{cat.name} says: {cat.make_sound()}\")"
   ]
  },
  {
   "cell_type": "code",
   "execution_count": null,
   "id": "ba5a80f7-60a0-42c1-b419-065433522a8e",
   "metadata": {},
   "outputs": [],
   "source": []
  }
 ],
 "metadata": {
  "kernelspec": {
   "display_name": "Python 3 (ipykernel)",
   "language": "python",
   "name": "python3"
  },
  "language_info": {
   "codemirror_mode": {
    "name": "ipython",
    "version": 3
   },
   "file_extension": ".py",
   "mimetype": "text/x-python",
   "name": "python",
   "nbconvert_exporter": "python",
   "pygments_lexer": "ipython3",
   "version": "3.11.4"
  }
 },
 "nbformat": 4,
 "nbformat_minor": 5
}
