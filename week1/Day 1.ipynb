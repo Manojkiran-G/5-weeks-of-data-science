{
 "cells": [
  {
   "cell_type": "markdown",
   "id": "a8b0fe7d-c3c1-4204-8f4f-51739bcd906d",
   "metadata": {},
   "source": [
    "        -----------WEEK 1 - Day 1-----------\n",
    "                            - Manojkiran G"
   ]
  },
  {
   "cell_type": "markdown",
   "id": "80c219fb-7e32-4e15-9ba9-de302e4c3003",
   "metadata": {},
   "source": [
    "## **Python Data Types**"
   ]
  },
  {
   "cell_type": "markdown",
   "id": "4ed90fe2-4cca-472c-a589-bae09f6eed47",
   "metadata": {},
   "source": [
    "#### **List**: Lists are ordered, mutable sequences, which can contain elements of different data types "
   ]
  },
  {
   "cell_type": "code",
   "execution_count": 1,
   "id": "214d5676-5951-44d8-a954-7f8352d199db",
   "metadata": {
    "tags": []
   },
   "outputs": [
    {
     "name": "stdout",
     "output_type": "stream",
     "text": [
      "orange\n",
      "<class 'list'>\n"
     ]
    }
   ],
   "source": [
    "fruits = ['apple', 'orange', 'banana']\n",
    "print(fruits[1])\n",
    "print(type(fruits))"
   ]
  },
  {
   "cell_type": "markdown",
   "id": "c60e06ca-56b5-410f-9c59-77f7fefaa24c",
   "metadata": {},
   "source": [
    "**List append**"
   ]
  },
  {
   "cell_type": "code",
   "execution_count": 2,
   "id": "560cc05e-fd65-4694-9c79-b86f6bf9788e",
   "metadata": {
    "tags": []
   },
   "outputs": [
    {
     "name": "stdout",
     "output_type": "stream",
     "text": [
      "['apple', 'orange', 'banana', 'pineapple', 'grape', 'melon']\n"
     ]
    }
   ],
   "source": [
    "fruits.append('pineapple')\n",
    "fruits.extend(['grape', 'melon'])\n",
    "print(fruits) "
   ]
  },
  {
   "cell_type": "markdown",
   "id": "2fa25e7c-b59e-498b-9c13-293099e680fb",
   "metadata": {},
   "source": [
    "**Deleting Elements in list**"
   ]
  },
  {
   "cell_type": "code",
   "execution_count": 3,
   "id": "ac035e53-b202-4974-8b59-b125e7b97f14",
   "metadata": {
    "tags": []
   },
   "outputs": [
    {
     "name": "stdout",
     "output_type": "stream",
     "text": [
      "['apple', 'banana', 'pineapple', 'grape', 'melon']\n"
     ]
    }
   ],
   "source": [
    "fruits.remove('orange')\n",
    "print(fruits) "
   ]
  },
  {
   "cell_type": "markdown",
   "id": "b43c7de9-98b8-4e19-86d1-f6ff61ae1a68",
   "metadata": {},
   "source": [
    "**Slicing in list**"
   ]
  },
  {
   "cell_type": "code",
   "execution_count": 4,
   "id": "b11d2125-a6dc-46f2-a3a0-5b9d6a48c585",
   "metadata": {
    "tags": []
   },
   "outputs": [
    {
     "name": "stdout",
     "output_type": "stream",
     "text": [
      "[1, 2, 3, 4]\n",
      "[1, 2, 3, 4, 5, 6, 7]\n",
      "[1, 3, 5, 7]\n",
      "[7, 6, 5, 4, 3, 2, 1]\n"
     ]
    }
   ],
   "source": [
    "list = [1, 2, 3, 4, 5, 6, 7]\n",
    "print(list[0:4])\n",
    "print(list[::])\n",
    "print(list[::2])\n",
    "print(list[::-1])"
   ]
  },
  {
   "cell_type": "markdown",
   "id": "5fb5afe9-a9ef-469c-af70-feae9cf7f9ce",
   "metadata": {},
   "source": [
    "#### **Tuples** :Tuples are ordered, immutable sequences, often used to store heterogeneous data."
   ]
  },
  {
   "cell_type": "code",
   "execution_count": 5,
   "id": "9f239a1e-cf7f-4fb5-b918-de0aefcc3b16",
   "metadata": {
    "tags": []
   },
   "outputs": [
    {
     "name": "stdout",
     "output_type": "stream",
     "text": [
      "()\n",
      "(1, 2, 3)\n",
      "(10, 'Hi', 3.14)\n",
      "('python', [56, 4, 6], (1, 2, 3))\n"
     ]
    }
   ],
   "source": [
    "#empty \n",
    "tuple1 = ()\n",
    "print(tuple1)\n",
    "\n",
    "# integers\n",
    "tuple2 = (1, 2, 3)\n",
    "print(tuple2)\n",
    "\n",
    "# mixed datatypes\n",
    "tuple3 = (10, \"Hi\", 3.14)\n",
    "print(tuple3)\n",
    "\n",
    "# nested tuple\n",
    "tuple4 = (\"python\", [56, 4, 6], (1, 2, 3))\n",
    "print(tuple4)"
   ]
  },
  {
   "cell_type": "code",
   "execution_count": 6,
   "id": "4a086df3-b3c8-4eea-ad14-f5978b04a055",
   "metadata": {
    "tags": []
   },
   "outputs": [
    {
     "name": "stdout",
     "output_type": "stream",
     "text": [
      "hi\n",
      "hi\n",
      "hi\n",
      "hi\n"
     ]
    }
   ],
   "source": [
    "tuple_example = (1,2,3,4)  #iterating through tuple\n",
    "for value in tuple_example:\n",
    "  print(\"hi\")"
   ]
  },
  {
   "cell_type": "markdown",
   "id": "8434c6f1-082b-492f-88a0-a01abae18a64",
   "metadata": {},
   "source": [
    "#### **Sets**: Sets are unordered collections of unique elements"
   ]
  },
  {
   "cell_type": "code",
   "execution_count": 7,
   "id": "90a28188-cc83-4d17-ad84-aeb1eae9b947",
   "metadata": {
    "tags": []
   },
   "outputs": [
    {
     "name": "stdout",
     "output_type": "stream",
     "text": [
      "{81, 22, 14, 56, 12, 46}\n"
     ]
    }
   ],
   "source": [
    "numbers = {12, 14, 46, 56, 22, 81}\n",
    "print(numbers)"
   ]
  },
  {
   "cell_type": "code",
   "execution_count": 8,
   "id": "dd38ce92-5e72-400e-b73d-481be1d14c1c",
   "metadata": {
    "tags": []
   },
   "outputs": [
    {
     "name": "stdout",
     "output_type": "stream",
     "text": [
      "before: {0, 3, 4, 5, 9}\n",
      "after: {0, 1, 3, 4, 5, 9}\n"
     ]
    }
   ],
   "source": [
    "numbers = {4, 9, 0, 5, 3}\n",
    "\n",
    "print('before:',numbers)\n",
    "numbers.add(1)\n",
    "print('after:', numbers)"
   ]
  },
  {
   "cell_type": "code",
   "execution_count": 9,
   "id": "9345948f-5ed4-413f-80ea-935ad14569b5",
   "metadata": {
    "tags": []
   },
   "outputs": [
    {
     "name": "stdout",
     "output_type": "stream",
     "text": [
      "before: {'Tamil', 'French', 'English'}\n",
      "after: {'French', 'English'}\n"
     ]
    }
   ],
   "source": [
    "language = {'Tamil', 'English', 'French'}\n",
    "\n",
    "print('before:',language)\n",
    "removedValue = language.discard('Tamil')\n",
    "print('after:', language)"
   ]
  },
  {
   "cell_type": "code",
   "execution_count": 10,
   "id": "9c20352a-0032-4710-a539-3af14cbd589d",
   "metadata": {
    "tags": []
   },
   "outputs": [
    {
     "name": "stdout",
     "output_type": "stream",
     "text": [
      "4\n"
     ]
    }
   ],
   "source": [
    "num = {1, 4, 6, 6, 1, 3}\n",
    "print(len(num))"
   ]
  },
  {
   "cell_type": "markdown",
   "id": "30e6f361-bf75-4900-a0af-d4fa61f1bdde",
   "metadata": {},
   "source": [
    "**Set intersection**"
   ]
  },
  {
   "cell_type": "code",
   "execution_count": 11,
   "id": "e6290e7d-b7ae-4748-ba38-94e6a5e56ec0",
   "metadata": {
    "tags": []
   },
   "outputs": [
    {
     "name": "stdout",
     "output_type": "stream",
     "text": [
      "using &: {11, 31}\n",
      "using intersection(): {11, 31}\n"
     ]
    }
   ],
   "source": [
    "set1 = {11, 31, 51}\n",
    "set2 = {11, 21, 31}\n",
    "print('using &:', set1 & set2)\n",
    "print('using intersection():', set1.intersection(set2))"
   ]
  },
  {
   "cell_type": "code",
   "execution_count": 12,
   "id": "0870368b-739e-4f17-8ae4-2ee8a9df146e",
   "metadata": {
    "tags": []
   },
   "outputs": [
    {
     "name": "stdout",
     "output_type": "stream",
     "text": [
      "using -: {51}\n",
      "using intersection(): {51}\n"
     ]
    }
   ],
   "source": [
    "print('using -:', set1 - set2)\n",
    "print('using intersection():', set1.difference(set2))"
   ]
  },
  {
   "cell_type": "markdown",
   "id": "8d9c5dfb-cdb3-46a7-b0b2-8e7417531022",
   "metadata": {},
   "source": [
    "#### **Dictionaries**: Dictionaries are unordered collections of key-value pairs."
   ]
  },
  {
   "cell_type": "code",
   "execution_count": 13,
   "id": "1733cef6-3d84-4610-93c3-61e58976f8cc",
   "metadata": {
    "tags": []
   },
   "outputs": [
    {
     "name": "stdout",
     "output_type": "stream",
     "text": [
      "{1: 'apple', 2: 'box', 3: 'car', 4: 'deer', 5: 'eagle'}\n",
      "eagle\n"
     ]
    }
   ],
   "source": [
    "dict = {1:'apple', 2:'box', 3:'car', 4:'deer',5:'eagle'}\n",
    "print(dict)\n",
    "print(dict[5])    "
   ]
  },
  {
   "cell_type": "code",
   "execution_count": 14,
   "id": "8d7386eb-dd47-4067-8f95-6f79ae4a76e9",
   "metadata": {
    "tags": []
   },
   "outputs": [
    {
     "name": "stdout",
     "output_type": "stream",
     "text": [
      "dict_items([(1, 'apple'), (2, 'box'), (3, 'car'), (4, 'deer'), (5, 'eagle')])\n",
      "dict_keys([1, 2, 3, 4, 5])\n",
      "dict_values(['apple', 'box', 'car', 'deer', 'eagle'])\n"
     ]
    }
   ],
   "source": [
    "print(dict.items())\n",
    "print(dict.keys())\n",
    "print(dict.values())"
   ]
  },
  {
   "cell_type": "markdown",
   "id": "e6f96e16-1d60-498d-834a-cd93a116c414",
   "metadata": {},
   "source": [
    "## **Python Decision Making**"
   ]
  },
  {
   "cell_type": "markdown",
   "id": "5e1699cb-7620-4790-bb88-b5ef77c9d415",
   "metadata": {},
   "source": [
    "**If ..else , If..elif..else , Nested if loops**"
   ]
  },
  {
   "cell_type": "code",
   "execution_count": 15,
   "id": "0d01b8bf-a7bd-4732-a49c-405bf01c9727",
   "metadata": {
    "tags": []
   },
   "outputs": [
    {
     "name": "stdout",
     "output_type": "stream",
     "text": [
      "The number is positive.\n",
      "The number is positive.\n",
      "The number is positive.\n",
      "The positive number is even.\n"
     ]
    }
   ],
   "source": [
    "num = 10\n",
    "\n",
    "# Simple if-else statement\n",
    "if num > 0:\n",
    "    print(\"The number is positive.\")\n",
    "else:\n",
    "    print(\"The number is non-positive.\")\n",
    "\n",
    "# Using elif for multiple conditions\n",
    "if num > 0:\n",
    "    print(\"The number is positive.\")\n",
    "elif num < 0:\n",
    "    print(\"The number is negative.\")\n",
    "else:\n",
    "    print(\"The number is zero.\")\n",
    "\n",
    "# Nested if statement\n",
    "if num > 0:\n",
    "    print(\"The number is positive.\")\n",
    "    if num % 2 == 0:\n",
    "        print(\"The positive number is even.\")\n",
    "    else:\n",
    "        print(\"The positive number is odd.\")\n",
    "elif num < 0:\n",
    "    print(\"The number is negative.\")\n",
    "else:\n",
    "    print(\"The number is zero.\")"
   ]
  },
  {
   "cell_type": "markdown",
   "id": "ae8d5087-822e-43f3-b4a8-24060976f38d",
   "metadata": {},
   "source": [
    "**For loop**"
   ]
  },
  {
   "cell_type": "code",
   "execution_count": 16,
   "id": "62302913-0364-4702-afae-3ef680696424",
   "metadata": {
    "tags": []
   },
   "outputs": [
    {
     "name": "stdout",
     "output_type": "stream",
     "text": [
      "1\n",
      "2\n",
      "3\n",
      "4\n",
      "5\n"
     ]
    }
   ],
   "source": [
    "for i in range(1, 6):\n",
    "    print(i)"
   ]
  },
  {
   "cell_type": "markdown",
   "id": "ac71fbf9-b56d-425c-97d0-f085ae719231",
   "metadata": {},
   "source": [
    "**For loop with else**"
   ]
  },
  {
   "cell_type": "code",
   "execution_count": 17,
   "id": "d1476f51-ae4f-4a92-b899-dd9c99a7f3e8",
   "metadata": {
    "tags": []
   },
   "outputs": [
    {
     "name": "stdout",
     "output_type": "stream",
     "text": [
      "It is not a prime number.\n"
     ]
    }
   ],
   "source": [
    "num = 10\n",
    "\n",
    "for i in range(2, num):\n",
    "    if num % i == 0:\n",
    "        print(\"It is not a prime number.\")\n",
    "        break\n",
    "else:\n",
    "    print(\"It is a prime number.\")"
   ]
  },
  {
   "cell_type": "markdown",
   "id": "4415eb4a-0f68-49db-aff9-7836bec9f1ef",
   "metadata": {},
   "source": [
    "**While loop**"
   ]
  },
  {
   "cell_type": "code",
   "execution_count": 18,
   "id": "39e34476-ff66-474e-b068-1f44f8195e33",
   "metadata": {
    "tags": []
   },
   "outputs": [
    {
     "name": "stdout",
     "output_type": "stream",
     "text": [
      "1\n",
      "2\n",
      "3\n",
      "4\n",
      "5\n"
     ]
    }
   ],
   "source": [
    "n = 1\n",
    "\n",
    "while n <= 5:\n",
    "    print(n)\n",
    "    n += 1"
   ]
  },
  {
   "cell_type": "markdown",
   "id": "db19f2e5-df2f-444f-9df2-d63b1edbd84b",
   "metadata": {},
   "source": [
    "**Infinite while loop**"
   ]
  },
  {
   "cell_type": "code",
   "execution_count": null,
   "id": "beaa1cc0-e910-419f-ab2a-89844b07339c",
   "metadata": {},
   "outputs": [],
   "source": [
    "age = 42\n",
    "while age > 18:     # always true\n",
    "    print('You can vote')"
   ]
  },
  {
   "cell_type": "markdown",
   "id": "035cd87a-16ca-4a8d-b638-deb416320349",
   "metadata": {},
   "source": [
    "**While loop with else**"
   ]
  },
  {
   "cell_type": "code",
   "execution_count": 19,
   "id": "54122662-c791-41bb-b00e-e93b77630953",
   "metadata": {
    "tags": []
   },
   "outputs": [
    {
     "name": "stdout",
     "output_type": "stream",
     "text": [
      "The factorial of 5 is: 120\n"
     ]
    }
   ],
   "source": [
    "num = 5\n",
    "factorial = 1\n",
    "i = 1\n",
    "\n",
    "while i <= num:\n",
    "    factorial *= i\n",
    "    i += 1\n",
    "else:\n",
    "    print(f\"The factorial of {num} is: {factorial}\")\n"
   ]
  },
  {
   "cell_type": "markdown",
   "id": "a4cc1b88-a7de-42cd-83ab-0efb54f90cd0",
   "metadata": {},
   "source": [
    "**Break** :The break statement is used to exit the loop as soon as the first even number is found."
   ]
  },
  {
   "cell_type": "code",
   "execution_count": 20,
   "id": "f628e7e1-a46f-4e18-bab0-f8558c12d185",
   "metadata": {
    "tags": []
   },
   "outputs": [
    {
     "name": "stdout",
     "output_type": "stream",
     "text": [
      "The first even number is: 2\n"
     ]
    }
   ],
   "source": [
    "numbers = [1, 3, 5, 2, 7, 8, 9]\n",
    "\n",
    "for num in numbers:\n",
    "    if num % 2 == 0:\n",
    "        print(f\"The first even number is: {num}\")\n",
    "        break"
   ]
  },
  {
   "cell_type": "markdown",
   "id": "1858ad32-57a2-46bd-a5e0-f1caef6f1a02",
   "metadata": {},
   "source": [
    "**Continue**: The continue statement is used to skip the rest of the code inside the loop for even numbers, continuing to the next iteration."
   ]
  },
  {
   "cell_type": "code",
   "execution_count": 21,
   "id": "f628c351-0c89-4039-a1f9-fd9245747a50",
   "metadata": {
    "tags": []
   },
   "outputs": [
    {
     "name": "stdout",
     "output_type": "stream",
     "text": [
      "Odd number: 1\n",
      "Odd number: 3\n",
      "Odd number: 5\n",
      "Odd number: 7\n",
      "Odd number: 9\n"
     ]
    }
   ],
   "source": [
    "numbers = [1, 2, 3, 4, 5, 6, 7, 8, 9]\n",
    "\n",
    "for num in numbers:\n",
    "    if num % 2 == 0:\n",
    "        continue\n",
    "    print(f\"Odd number: {num}\")"
   ]
  },
  {
   "cell_type": "markdown",
   "id": "68a417ee-03a4-4783-97ae-61a8a5d92dad",
   "metadata": {},
   "source": [
    "**Pass** :The pass statement is a no-operation statement. It serves as a placeholder and is often used when a statement is syntactically required but you don't want to perform any action."
   ]
  },
  {
   "cell_type": "code",
   "execution_count": 22,
   "id": "31bb5463-d020-41ec-b030-c3abd38705c3",
   "metadata": {
    "tags": []
   },
   "outputs": [],
   "source": [
    "class EmptyClass:\n",
    "    pass"
   ]
  },
  {
   "cell_type": "code",
   "execution_count": null,
   "id": "6c06d530-58e6-4040-b661-dc16aa09ac69",
   "metadata": {},
   "outputs": [],
   "source": []
  }
 ],
 "metadata": {
  "kernelspec": {
   "display_name": "Python 3 (ipykernel)",
   "language": "python",
   "name": "python3"
  },
  "language_info": {
   "codemirror_mode": {
    "name": "ipython",
    "version": 3
   },
   "file_extension": ".py",
   "mimetype": "text/x-python",
   "name": "python",
   "nbconvert_exporter": "python",
   "pygments_lexer": "ipython3",
   "version": "3.11.4"
  }
 },
 "nbformat": 4,
 "nbformat_minor": 5
}
